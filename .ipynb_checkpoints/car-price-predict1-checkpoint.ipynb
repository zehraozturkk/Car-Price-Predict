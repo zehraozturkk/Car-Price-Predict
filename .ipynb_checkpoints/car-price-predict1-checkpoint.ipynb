{
 "cells": [
  {
   "cell_type": "markdown",
   "id": "54037ec4",
   "metadata": {
    "papermill": {
     "duration": 0.040249,
     "end_time": "2024-07-05T11:11:07.004214",
     "exception": false,
     "start_time": "2024-07-05T11:11:06.963965",
     "status": "completed"
    },
    "tags": []
   },
   "source": [
    "# Import Libraries"
   ]
  },
  {
   "cell_type": "raw",
   "id": "3e0c408a-957f-4ce6-858f-8e7faad89ba6",
   "metadata": {},
   "source": [
    "#pip install lazypredict"
   ]
  },
  {
   "cell_type": "code",
   "execution_count": 191,
   "id": "f4972fb1",
   "metadata": {
    "_cell_guid": "b1076dfc-b9ad-4769-8c92-a6c4dae69d19",
    "_uuid": "8f2839f25d086af736a60e9eeb907d3b93b6e0e5",
    "papermill": {
     "duration": 3.060499,
     "end_time": "2024-07-05T11:11:10.182408",
     "exception": true,
     "start_time": "2024-07-05T11:11:07.121909",
     "status": "failed"
    },
    "tags": []
   },
   "outputs": [],
   "source": [
    "import pandas as pd\n",
    "import numpy as np\n",
    "\n",
    "import matplotlib.pyplot as plt\n",
    "import seaborn as sns\n",
    "from matplotlib.dates import DateFormatter\n",
    "\n",
    "from sklearn.model_selection import train_test_split, cross_validate, cross_val_score\n",
    "from sklearn.linear_model import LinearRegression # LinearRegression algortimasını import ediyoruz.\n",
    "\n",
    "from sklearn.preprocessing import StandardScaler, MinMaxScaler, RobustScaler\n",
    "from sklearn.preprocessing import LabelEncoder\n",
    "\n",
    "from sklearn.metrics import mean_squared_error, mean_absolute_error, r2_score\n",
    "from sklearn.pipeline import Pipeline\n",
    "\n",
    "# modelimizin çıkan sonuçlarnı değerlendirmek için kullanılan görselleştirme kütüphaneleri\n",
    "\n",
    "from yellowbrick.regressor import PredictionError\n",
    "from yellowbrick.features import RadViz\n",
    "from yellowbrick.regressor import ResidualsPlot\n",
    "\n",
    "from sklearn.tree import DecisionTreeRegressor\n",
    "\n",
    "\n",
    "pd.set_option('display.max_columns', None)\n",
    "pd.set_option('display.max_colwidth', None)\n",
    "\n",
    "import warnings\n",
    "warnings.filterwarnings(\"ignore\")"
   ]
  },
  {
   "cell_type": "markdown",
   "id": "a73bee1e",
   "metadata": {
    "papermill": {
     "duration": null,
     "end_time": null,
     "exception": null,
     "start_time": null,
     "status": "pending"
    },
    "tags": []
   },
   "source": [
    "kullanılacak sütunlar:\n",
    "- Year: Modelin yılı\n",
    "- Make: araba'nın markası\n",
    "- Model: arabanın modeli\n",
    "- Used_New: ullanılıp kullanılmadığı\n",
    "- Price(target): satıştaki fiyatı\n",
    "- Consumer rating: arabaya gelen ortalama rate sayısı\n",
    "- Consumer reviews: arbaaya gelen ortalama yorum sayısı\n",
    "- seller type(categorik):dealer-private\n",
    "- seller rating: satısıcının puanı\n",
    "- seller review: satıcının aldığı yorumların ortalama\n",
    "- deal type: satıcının pazarlığa olan davranışı\n",
    "- ComfortRating\t: arabanın rahatlığı\n",
    "- InteriorDesignRating\t: iç tasarımının değerlendirilmesi\n",
    "- PerformanceRating: arabanın performansının değerlendirilmesi\t\n",
    "- ValueForMoneyRating\t\n",
    "- ExteriorStylingRating\t\n",
    "- ReliabilityRating\n",
    "- drive train: araç hareketinin nasıl sağlandığı ile ilgili\n",
    "- fuel type\n",
    "- MinMPG\t\n",
    "- MaxMPG\n",
    "- Engine\n",
    "- transmission\n",
    "- mileage"
   ]
  },
  {
   "cell_type": "code",
   "execution_count": 192,
   "id": "f8641405",
   "metadata": {
    "papermill": {
     "duration": null,
     "end_time": null,
     "exception": null,
     "start_time": null,
     "status": "pending"
    },
    "tags": []
   },
   "outputs": [],
   "source": [
    "df= pd.read_csv(\"cars_raw.csv\")"
   ]
  },
  {
   "cell_type": "code",
   "execution_count": 193,
   "id": "79f8f278",
   "metadata": {
    "papermill": {
     "duration": null,
     "end_time": null,
     "exception": null,
     "start_time": null,
     "status": "pending"
    },
    "tags": []
   },
   "outputs": [
    {
     "data": {
      "text/html": [
       "<div>\n",
       "<style scoped>\n",
       "    .dataframe tbody tr th:only-of-type {\n",
       "        vertical-align: middle;\n",
       "    }\n",
       "\n",
       "    .dataframe tbody tr th {\n",
       "        vertical-align: top;\n",
       "    }\n",
       "\n",
       "    .dataframe thead th {\n",
       "        text-align: right;\n",
       "    }\n",
       "</style>\n",
       "<table border=\"1\" class=\"dataframe\">\n",
       "  <thead>\n",
       "    <tr style=\"text-align: right;\">\n",
       "      <th></th>\n",
       "      <th>Year</th>\n",
       "      <th>Make</th>\n",
       "      <th>Model</th>\n",
       "      <th>Used/New</th>\n",
       "      <th>Price</th>\n",
       "      <th>ConsumerRating</th>\n",
       "      <th>ConsumerReviews</th>\n",
       "      <th>SellerType</th>\n",
       "      <th>SellerName</th>\n",
       "      <th>SellerRating</th>\n",
       "      <th>SellerReviews</th>\n",
       "      <th>StreetName</th>\n",
       "      <th>State</th>\n",
       "      <th>Zipcode</th>\n",
       "      <th>DealType</th>\n",
       "      <th>ComfortRating</th>\n",
       "      <th>InteriorDesignRating</th>\n",
       "      <th>PerformanceRating</th>\n",
       "      <th>ValueForMoneyRating</th>\n",
       "      <th>ExteriorStylingRating</th>\n",
       "      <th>ReliabilityRating</th>\n",
       "      <th>ExteriorColor</th>\n",
       "      <th>InteriorColor</th>\n",
       "      <th>Drivetrain</th>\n",
       "      <th>MinMPG</th>\n",
       "      <th>MaxMPG</th>\n",
       "      <th>FuelType</th>\n",
       "      <th>Transmission</th>\n",
       "      <th>Engine</th>\n",
       "      <th>VIN</th>\n",
       "      <th>Stock#</th>\n",
       "      <th>Mileage</th>\n",
       "    </tr>\n",
       "  </thead>\n",
       "  <tbody>\n",
       "    <tr>\n",
       "      <th>0</th>\n",
       "      <td>2019</td>\n",
       "      <td>Toyota</td>\n",
       "      <td>Sienna SE</td>\n",
       "      <td>Used</td>\n",
       "      <td>$39,998</td>\n",
       "      <td>4.60</td>\n",
       "      <td>45</td>\n",
       "      <td>Dealer</td>\n",
       "      <td>CarMax Murrieta - Now offering Curbside Pickup and Home Delivery</td>\n",
       "      <td>3.30</td>\n",
       "      <td>3</td>\n",
       "      <td>25560 Madison Ave Murrieta</td>\n",
       "      <td>CA</td>\n",
       "      <td>92562</td>\n",
       "      <td>Great</td>\n",
       "      <td>4.70</td>\n",
       "      <td>4.60</td>\n",
       "      <td>4.60</td>\n",
       "      <td>4.40</td>\n",
       "      <td>4.60</td>\n",
       "      <td>4.70</td>\n",
       "      <td>Red</td>\n",
       "      <td>Black</td>\n",
       "      <td>Front-wheel Drive</td>\n",
       "      <td>19</td>\n",
       "      <td>27</td>\n",
       "      <td>Gasoline</td>\n",
       "      <td>8-Speed Automatic</td>\n",
       "      <td>3.5L V6 24V PDI DOHC</td>\n",
       "      <td>5TDXZ3DC2KS015402</td>\n",
       "      <td>22998646</td>\n",
       "      <td>29403</td>\n",
       "    </tr>\n",
       "    <tr>\n",
       "      <th>1</th>\n",
       "      <td>2018</td>\n",
       "      <td>Ford</td>\n",
       "      <td>F-150 Lariat</td>\n",
       "      <td>Used</td>\n",
       "      <td>$49,985</td>\n",
       "      <td>4.80</td>\n",
       "      <td>817</td>\n",
       "      <td>Dealer</td>\n",
       "      <td>Giant Chevrolet</td>\n",
       "      <td>4.80</td>\n",
       "      <td>131</td>\n",
       "      <td>1001 S Ben Maddox Way Visalia</td>\n",
       "      <td>CA</td>\n",
       "      <td>93292</td>\n",
       "      <td>Good</td>\n",
       "      <td>4.90</td>\n",
       "      <td>4.80</td>\n",
       "      <td>4.80</td>\n",
       "      <td>4.60</td>\n",
       "      <td>4.80</td>\n",
       "      <td>4.70</td>\n",
       "      <td>Shadow Black</td>\n",
       "      <td>Black</td>\n",
       "      <td>Four-wheel Drive</td>\n",
       "      <td>19</td>\n",
       "      <td>24</td>\n",
       "      <td>Gasoline</td>\n",
       "      <td>10-Speed Automatic</td>\n",
       "      <td>3.5L V6 24V PDI DOHC Twin Turbo</td>\n",
       "      <td>1FTEW1EG2JFD44217</td>\n",
       "      <td>22418A</td>\n",
       "      <td>32929</td>\n",
       "    </tr>\n",
       "    <tr>\n",
       "      <th>2</th>\n",
       "      <td>2017</td>\n",
       "      <td>RAM</td>\n",
       "      <td>1500 Laramie</td>\n",
       "      <td>Used</td>\n",
       "      <td>$41,860</td>\n",
       "      <td>4.70</td>\n",
       "      <td>495</td>\n",
       "      <td>Dealer</td>\n",
       "      <td>Gill Auto Group Madera</td>\n",
       "      <td>4.60</td>\n",
       "      <td>249</td>\n",
       "      <td>1100 S Madera Ave Madera</td>\n",
       "      <td>CA</td>\n",
       "      <td>93637</td>\n",
       "      <td>Good</td>\n",
       "      <td>4.80</td>\n",
       "      <td>4.70</td>\n",
       "      <td>4.80</td>\n",
       "      <td>4.60</td>\n",
       "      <td>4.80</td>\n",
       "      <td>4.70</td>\n",
       "      <td>Granite Crystal Clearcoat Metallic</td>\n",
       "      <td>Black</td>\n",
       "      <td>Four-wheel Drive</td>\n",
       "      <td>15</td>\n",
       "      <td>21</td>\n",
       "      <td>Gasoline</td>\n",
       "      <td>8-Speed Automatic</td>\n",
       "      <td>5.7L V8 16V MPFI OHV</td>\n",
       "      <td>1C6RR7VT5HS842283</td>\n",
       "      <td>NG277871G</td>\n",
       "      <td>23173</td>\n",
       "    </tr>\n",
       "    <tr>\n",
       "      <th>3</th>\n",
       "      <td>2021</td>\n",
       "      <td>Honda</td>\n",
       "      <td>Accord Sport SE</td>\n",
       "      <td>Used</td>\n",
       "      <td>$28,500</td>\n",
       "      <td>5.00</td>\n",
       "      <td>36</td>\n",
       "      <td>Dealer</td>\n",
       "      <td>AutoSavvy Las Vegas</td>\n",
       "      <td>4.60</td>\n",
       "      <td>284</td>\n",
       "      <td>2121 E Sahara Ave Las Vegas</td>\n",
       "      <td>NV</td>\n",
       "      <td>89104</td>\n",
       "      <td>NaN</td>\n",
       "      <td>4.90</td>\n",
       "      <td>5.00</td>\n",
       "      <td>4.90</td>\n",
       "      <td>5.00</td>\n",
       "      <td>5.00</td>\n",
       "      <td>5.00</td>\n",
       "      <td>Gray</td>\n",
       "      <td>–</td>\n",
       "      <td>Front-wheel Drive</td>\n",
       "      <td>29</td>\n",
       "      <td>35</td>\n",
       "      <td>Gasoline</td>\n",
       "      <td>Automatic CVT</td>\n",
       "      <td>1.5L I4 16V GDI DOHC Turbo</td>\n",
       "      <td>1HGCV1F49MA038035</td>\n",
       "      <td>54237</td>\n",
       "      <td>10598</td>\n",
       "    </tr>\n",
       "    <tr>\n",
       "      <th>4</th>\n",
       "      <td>2020</td>\n",
       "      <td>Lexus</td>\n",
       "      <td>RX 350</td>\n",
       "      <td>Used</td>\n",
       "      <td>$49,000</td>\n",
       "      <td>4.80</td>\n",
       "      <td>76</td>\n",
       "      <td>Dealer</td>\n",
       "      <td>Lexus of Henderson</td>\n",
       "      <td>4.80</td>\n",
       "      <td>4755</td>\n",
       "      <td>7737 Eastgate Rd Henderson</td>\n",
       "      <td>NV</td>\n",
       "      <td>89011</td>\n",
       "      <td>Good</td>\n",
       "      <td>4.90</td>\n",
       "      <td>4.80</td>\n",
       "      <td>4.80</td>\n",
       "      <td>4.70</td>\n",
       "      <td>4.80</td>\n",
       "      <td>4.90</td>\n",
       "      <td>Eminent White Pearl</td>\n",
       "      <td>Birch</td>\n",
       "      <td>Front-wheel Drive</td>\n",
       "      <td>20</td>\n",
       "      <td>27</td>\n",
       "      <td>Gasoline</td>\n",
       "      <td>8-Speed Automatic</td>\n",
       "      <td>3.5L V6 24V PDI DOHC</td>\n",
       "      <td>2T2AZMAA8LC156270</td>\n",
       "      <td>HDT4181A</td>\n",
       "      <td>28137</td>\n",
       "    </tr>\n",
       "  </tbody>\n",
       "</table>\n",
       "</div>"
      ],
      "text/plain": [
       "   Year    Make            Model Used/New    Price  ConsumerRating  \\\n",
       "0  2019  Toyota        Sienna SE     Used  $39,998            4.60   \n",
       "1  2018    Ford     F-150 Lariat     Used  $49,985            4.80   \n",
       "2  2017     RAM     1500 Laramie     Used  $41,860            4.70   \n",
       "3  2021   Honda  Accord Sport SE     Used  $28,500            5.00   \n",
       "4  2020   Lexus           RX 350     Used  $49,000            4.80   \n",
       "\n",
       "   ConsumerReviews SellerType  \\\n",
       "0               45     Dealer   \n",
       "1              817     Dealer   \n",
       "2              495     Dealer   \n",
       "3               36     Dealer   \n",
       "4               76     Dealer   \n",
       "\n",
       "                                                         SellerName  \\\n",
       "0  CarMax Murrieta - Now offering Curbside Pickup and Home Delivery   \n",
       "1                                                   Giant Chevrolet   \n",
       "2                                            Gill Auto Group Madera   \n",
       "3                                               AutoSavvy Las Vegas   \n",
       "4                                                Lexus of Henderson   \n",
       "\n",
       "   SellerRating  SellerReviews                     StreetName State Zipcode  \\\n",
       "0          3.30              3     25560 Madison Ave Murrieta    CA   92562   \n",
       "1          4.80            131  1001 S Ben Maddox Way Visalia    CA   93292   \n",
       "2          4.60            249       1100 S Madera Ave Madera    CA   93637   \n",
       "3          4.60            284    2121 E Sahara Ave Las Vegas    NV   89104   \n",
       "4          4.80           4755     7737 Eastgate Rd Henderson    NV   89011   \n",
       "\n",
       "  DealType  ComfortRating  InteriorDesignRating  PerformanceRating  \\\n",
       "0    Great           4.70                  4.60               4.60   \n",
       "1     Good           4.90                  4.80               4.80   \n",
       "2     Good           4.80                  4.70               4.80   \n",
       "3      NaN           4.90                  5.00               4.90   \n",
       "4     Good           4.90                  4.80               4.80   \n",
       "\n",
       "   ValueForMoneyRating  ExteriorStylingRating  ReliabilityRating  \\\n",
       "0                 4.40                   4.60               4.70   \n",
       "1                 4.60                   4.80               4.70   \n",
       "2                 4.60                   4.80               4.70   \n",
       "3                 5.00                   5.00               5.00   \n",
       "4                 4.70                   4.80               4.90   \n",
       "\n",
       "                        ExteriorColor InteriorColor         Drivetrain  \\\n",
       "0                                 Red         Black  Front-wheel Drive   \n",
       "1                        Shadow Black         Black   Four-wheel Drive   \n",
       "2  Granite Crystal Clearcoat Metallic         Black   Four-wheel Drive   \n",
       "3                                Gray             –  Front-wheel Drive   \n",
       "4                 Eminent White Pearl         Birch  Front-wheel Drive   \n",
       "\n",
       "   MinMPG  MaxMPG  FuelType        Transmission  \\\n",
       "0      19      27  Gasoline   8-Speed Automatic   \n",
       "1      19      24  Gasoline  10-Speed Automatic   \n",
       "2      15      21  Gasoline   8-Speed Automatic   \n",
       "3      29      35  Gasoline       Automatic CVT   \n",
       "4      20      27  Gasoline   8-Speed Automatic   \n",
       "\n",
       "                            Engine                VIN     Stock#  Mileage  \n",
       "0             3.5L V6 24V PDI DOHC  5TDXZ3DC2KS015402   22998646    29403  \n",
       "1  3.5L V6 24V PDI DOHC Twin Turbo  1FTEW1EG2JFD44217     22418A    32929  \n",
       "2             5.7L V8 16V MPFI OHV  1C6RR7VT5HS842283  NG277871G    23173  \n",
       "3       1.5L I4 16V GDI DOHC Turbo  1HGCV1F49MA038035      54237    10598  \n",
       "4             3.5L V6 24V PDI DOHC  2T2AZMAA8LC156270   HDT4181A    28137  "
      ]
     },
     "execution_count": 193,
     "metadata": {},
     "output_type": "execute_result"
    }
   ],
   "source": [
    "df.head()"
   ]
  },
  {
   "cell_type": "code",
   "execution_count": 194,
   "id": "53f154d0",
   "metadata": {
    "papermill": {
     "duration": null,
     "end_time": null,
     "exception": null,
     "start_time": null,
     "status": "pending"
    },
    "tags": []
   },
   "outputs": [
    {
     "data": {
      "text/html": [
       "<div>\n",
       "<style scoped>\n",
       "    .dataframe tbody tr th:only-of-type {\n",
       "        vertical-align: middle;\n",
       "    }\n",
       "\n",
       "    .dataframe tbody tr th {\n",
       "        vertical-align: top;\n",
       "    }\n",
       "\n",
       "    .dataframe thead th {\n",
       "        text-align: right;\n",
       "    }\n",
       "</style>\n",
       "<table border=\"1\" class=\"dataframe\">\n",
       "  <thead>\n",
       "    <tr style=\"text-align: right;\">\n",
       "      <th></th>\n",
       "      <th>count</th>\n",
       "      <th>mean</th>\n",
       "      <th>std</th>\n",
       "      <th>min</th>\n",
       "      <th>25%</th>\n",
       "      <th>50%</th>\n",
       "      <th>75%</th>\n",
       "      <th>max</th>\n",
       "    </tr>\n",
       "  </thead>\n",
       "  <tbody>\n",
       "    <tr>\n",
       "      <th>Year</th>\n",
       "      <td>9379.00</td>\n",
       "      <td>2018.72</td>\n",
       "      <td>2.22</td>\n",
       "      <td>2001.00</td>\n",
       "      <td>2018.00</td>\n",
       "      <td>2019.00</td>\n",
       "      <td>2020.00</td>\n",
       "      <td>2022.00</td>\n",
       "    </tr>\n",
       "    <tr>\n",
       "      <th>ConsumerRating</th>\n",
       "      <td>9379.00</td>\n",
       "      <td>4.70</td>\n",
       "      <td>0.24</td>\n",
       "      <td>2.50</td>\n",
       "      <td>4.70</td>\n",
       "      <td>4.80</td>\n",
       "      <td>4.80</td>\n",
       "      <td>5.00</td>\n",
       "    </tr>\n",
       "    <tr>\n",
       "      <th>ConsumerReviews</th>\n",
       "      <td>9379.00</td>\n",
       "      <td>133.19</td>\n",
       "      <td>154.99</td>\n",
       "      <td>1.00</td>\n",
       "      <td>30.00</td>\n",
       "      <td>75.00</td>\n",
       "      <td>182.00</td>\n",
       "      <td>817.00</td>\n",
       "    </tr>\n",
       "    <tr>\n",
       "      <th>SellerRating</th>\n",
       "      <td>9379.00</td>\n",
       "      <td>4.41</td>\n",
       "      <td>0.63</td>\n",
       "      <td>1.00</td>\n",
       "      <td>4.30</td>\n",
       "      <td>4.60</td>\n",
       "      <td>4.80</td>\n",
       "      <td>5.00</td>\n",
       "    </tr>\n",
       "    <tr>\n",
       "      <th>SellerReviews</th>\n",
       "      <td>9379.00</td>\n",
       "      <td>984.09</td>\n",
       "      <td>1609.04</td>\n",
       "      <td>1.00</td>\n",
       "      <td>112.00</td>\n",
       "      <td>542.00</td>\n",
       "      <td>1272.00</td>\n",
       "      <td>27824.00</td>\n",
       "    </tr>\n",
       "    <tr>\n",
       "      <th>ComfortRating</th>\n",
       "      <td>9379.00</td>\n",
       "      <td>4.77</td>\n",
       "      <td>0.22</td>\n",
       "      <td>3.00</td>\n",
       "      <td>4.70</td>\n",
       "      <td>4.80</td>\n",
       "      <td>4.90</td>\n",
       "      <td>5.00</td>\n",
       "    </tr>\n",
       "    <tr>\n",
       "      <th>InteriorDesignRating</th>\n",
       "      <td>9379.00</td>\n",
       "      <td>4.73</td>\n",
       "      <td>0.19</td>\n",
       "      <td>2.80</td>\n",
       "      <td>4.70</td>\n",
       "      <td>4.80</td>\n",
       "      <td>4.80</td>\n",
       "      <td>5.00</td>\n",
       "    </tr>\n",
       "    <tr>\n",
       "      <th>PerformanceRating</th>\n",
       "      <td>9379.00</td>\n",
       "      <td>4.70</td>\n",
       "      <td>0.25</td>\n",
       "      <td>1.00</td>\n",
       "      <td>4.60</td>\n",
       "      <td>4.70</td>\n",
       "      <td>4.80</td>\n",
       "      <td>5.00</td>\n",
       "    </tr>\n",
       "    <tr>\n",
       "      <th>ValueForMoneyRating</th>\n",
       "      <td>9379.00</td>\n",
       "      <td>4.54</td>\n",
       "      <td>0.34</td>\n",
       "      <td>1.00</td>\n",
       "      <td>4.50</td>\n",
       "      <td>4.60</td>\n",
       "      <td>4.70</td>\n",
       "      <td>5.00</td>\n",
       "    </tr>\n",
       "    <tr>\n",
       "      <th>ExteriorStylingRating</th>\n",
       "      <td>9379.00</td>\n",
       "      <td>4.78</td>\n",
       "      <td>0.17</td>\n",
       "      <td>3.00</td>\n",
       "      <td>4.70</td>\n",
       "      <td>4.80</td>\n",
       "      <td>4.90</td>\n",
       "      <td>5.00</td>\n",
       "    </tr>\n",
       "    <tr>\n",
       "      <th>ReliabilityRating</th>\n",
       "      <td>9379.00</td>\n",
       "      <td>4.68</td>\n",
       "      <td>0.37</td>\n",
       "      <td>1.00</td>\n",
       "      <td>4.60</td>\n",
       "      <td>4.80</td>\n",
       "      <td>4.90</td>\n",
       "      <td>5.00</td>\n",
       "    </tr>\n",
       "    <tr>\n",
       "      <th>MinMPG</th>\n",
       "      <td>9379.00</td>\n",
       "      <td>22.76</td>\n",
       "      <td>14.81</td>\n",
       "      <td>0.00</td>\n",
       "      <td>18.00</td>\n",
       "      <td>20.00</td>\n",
       "      <td>24.00</td>\n",
       "      <td>150.00</td>\n",
       "    </tr>\n",
       "    <tr>\n",
       "      <th>MaxMPG</th>\n",
       "      <td>9379.00</td>\n",
       "      <td>29.22</td>\n",
       "      <td>12.81</td>\n",
       "      <td>0.00</td>\n",
       "      <td>25.00</td>\n",
       "      <td>27.00</td>\n",
       "      <td>31.00</td>\n",
       "      <td>133.00</td>\n",
       "    </tr>\n",
       "    <tr>\n",
       "      <th>Mileage</th>\n",
       "      <td>9379.00</td>\n",
       "      <td>37463.02</td>\n",
       "      <td>24970.34</td>\n",
       "      <td>121.00</td>\n",
       "      <td>18666.50</td>\n",
       "      <td>32907.00</td>\n",
       "      <td>47698.00</td>\n",
       "      <td>234114.00</td>\n",
       "    </tr>\n",
       "  </tbody>\n",
       "</table>\n",
       "</div>"
      ],
      "text/plain": [
       "                        count     mean      std     min      25%      50%  \\\n",
       "Year                  9379.00  2018.72     2.22 2001.00  2018.00  2019.00   \n",
       "ConsumerRating        9379.00     4.70     0.24    2.50     4.70     4.80   \n",
       "ConsumerReviews       9379.00   133.19   154.99    1.00    30.00    75.00   \n",
       "SellerRating          9379.00     4.41     0.63    1.00     4.30     4.60   \n",
       "SellerReviews         9379.00   984.09  1609.04    1.00   112.00   542.00   \n",
       "ComfortRating         9379.00     4.77     0.22    3.00     4.70     4.80   \n",
       "InteriorDesignRating  9379.00     4.73     0.19    2.80     4.70     4.80   \n",
       "PerformanceRating     9379.00     4.70     0.25    1.00     4.60     4.70   \n",
       "ValueForMoneyRating   9379.00     4.54     0.34    1.00     4.50     4.60   \n",
       "ExteriorStylingRating 9379.00     4.78     0.17    3.00     4.70     4.80   \n",
       "ReliabilityRating     9379.00     4.68     0.37    1.00     4.60     4.80   \n",
       "MinMPG                9379.00    22.76    14.81    0.00    18.00    20.00   \n",
       "MaxMPG                9379.00    29.22    12.81    0.00    25.00    27.00   \n",
       "Mileage               9379.00 37463.02 24970.34  121.00 18666.50 32907.00   \n",
       "\n",
       "                           75%       max  \n",
       "Year                   2020.00   2022.00  \n",
       "ConsumerRating            4.80      5.00  \n",
       "ConsumerReviews         182.00    817.00  \n",
       "SellerRating              4.80      5.00  \n",
       "SellerReviews          1272.00  27824.00  \n",
       "ComfortRating             4.90      5.00  \n",
       "InteriorDesignRating      4.80      5.00  \n",
       "PerformanceRating         4.80      5.00  \n",
       "ValueForMoneyRating       4.70      5.00  \n",
       "ExteriorStylingRating     4.90      5.00  \n",
       "ReliabilityRating         4.90      5.00  \n",
       "MinMPG                   24.00    150.00  \n",
       "MaxMPG                   31.00    133.00  \n",
       "Mileage               47698.00 234114.00  "
      ]
     },
     "execution_count": 194,
     "metadata": {},
     "output_type": "execute_result"
    }
   ],
   "source": [
    "df.describe().T\n",
    "\n",
    "# If standard deviation is greater than or close to the mean, it gives us an inference that there is an outlier problem in our data.\n",
    "\n",
    "# If there is a gap between the \"min\" and the first quartile of 25% and/or between the 3rd quartile of 75% and the \"max\", it provides an inference that there may be a limited number of outlier values in our data, but not in general."
   ]
  },
  {
   "cell_type": "code",
   "execution_count": 195,
   "id": "928c6657",
   "metadata": {
    "papermill": {
     "duration": null,
     "end_time": null,
     "exception": null,
     "start_time": null,
     "status": "pending"
    },
    "tags": []
   },
   "outputs": [
    {
     "name": "stdout",
     "output_type": "stream",
     "text": [
      "<class 'pandas.core.frame.DataFrame'>\n",
      "RangeIndex: 9379 entries, 0 to 9378\n",
      "Data columns (total 32 columns):\n",
      " #   Column                 Non-Null Count  Dtype  \n",
      "---  ------                 --------------  -----  \n",
      " 0   Year                   9379 non-null   int64  \n",
      " 1   Make                   9379 non-null   object \n",
      " 2   Model                  9379 non-null   object \n",
      " 3   Used/New               9379 non-null   object \n",
      " 4   Price                  9379 non-null   object \n",
      " 5   ConsumerRating         9379 non-null   float64\n",
      " 6   ConsumerReviews        9379 non-null   int64  \n",
      " 7   SellerType             9379 non-null   object \n",
      " 8   SellerName             9379 non-null   object \n",
      " 9   SellerRating           9379 non-null   float64\n",
      " 10  SellerReviews          9379 non-null   int64  \n",
      " 11  StreetName             9379 non-null   object \n",
      " 12  State                  9379 non-null   object \n",
      " 13  Zipcode                9379 non-null   object \n",
      " 14  DealType               9157 non-null   object \n",
      " 15  ComfortRating          9379 non-null   float64\n",
      " 16  InteriorDesignRating   9379 non-null   float64\n",
      " 17  PerformanceRating      9379 non-null   float64\n",
      " 18  ValueForMoneyRating    9379 non-null   float64\n",
      " 19  ExteriorStylingRating  9379 non-null   float64\n",
      " 20  ReliabilityRating      9379 non-null   float64\n",
      " 21  ExteriorColor          9379 non-null   object \n",
      " 22  InteriorColor          9379 non-null   object \n",
      " 23  Drivetrain             9379 non-null   object \n",
      " 24  MinMPG                 9379 non-null   int64  \n",
      " 25  MaxMPG                 9379 non-null   int64  \n",
      " 26  FuelType               9379 non-null   object \n",
      " 27  Transmission           9379 non-null   object \n",
      " 28  Engine                 9379 non-null   object \n",
      " 29  VIN                    9379 non-null   object \n",
      " 30  Stock#                 9379 non-null   object \n",
      " 31  Mileage                9379 non-null   int64  \n",
      "dtypes: float64(8), int64(6), object(18)\n",
      "memory usage: 2.3+ MB\n"
     ]
    }
   ],
   "source": [
    "df.info()"
   ]
  },
  {
   "cell_type": "markdown",
   "id": "a141a3c3",
   "metadata": {
    "papermill": {
     "duration": null,
     "end_time": null,
     "exception": null,
     "start_time": null,
     "status": "pending"
    },
    "tags": []
   },
   "source": [
    "# EDA"
   ]
  },
  {
   "cell_type": "code",
   "execution_count": 196,
   "id": "8ef38206",
   "metadata": {
    "papermill": {
     "duration": null,
     "end_time": null,
     "exception": null,
     "start_time": null,
     "status": "pending"
    },
    "tags": []
   },
   "outputs": [
    {
     "data": {
      "text/html": [
       "<div>\n",
       "<style scoped>\n",
       "    .dataframe tbody tr th:only-of-type {\n",
       "        vertical-align: middle;\n",
       "    }\n",
       "\n",
       "    .dataframe tbody tr th {\n",
       "        vertical-align: top;\n",
       "    }\n",
       "\n",
       "    .dataframe thead th {\n",
       "        text-align: right;\n",
       "    }\n",
       "</style>\n",
       "<table border=\"1\" class=\"dataframe\">\n",
       "  <thead>\n",
       "    <tr style=\"text-align: right;\">\n",
       "      <th></th>\n",
       "      <th>Make</th>\n",
       "      <th>Model</th>\n",
       "      <th>Used/New</th>\n",
       "      <th>Price</th>\n",
       "      <th>SellerType</th>\n",
       "      <th>SellerName</th>\n",
       "      <th>StreetName</th>\n",
       "      <th>State</th>\n",
       "      <th>Zipcode</th>\n",
       "      <th>DealType</th>\n",
       "      <th>ExteriorColor</th>\n",
       "      <th>InteriorColor</th>\n",
       "      <th>Drivetrain</th>\n",
       "      <th>FuelType</th>\n",
       "      <th>Transmission</th>\n",
       "      <th>Engine</th>\n",
       "      <th>VIN</th>\n",
       "      <th>Stock#</th>\n",
       "    </tr>\n",
       "  </thead>\n",
       "  <tbody>\n",
       "    <tr>\n",
       "      <th>0</th>\n",
       "      <td>Toyota</td>\n",
       "      <td>Sienna SE</td>\n",
       "      <td>Used</td>\n",
       "      <td>$39,998</td>\n",
       "      <td>Dealer</td>\n",
       "      <td>CarMax Murrieta - Now offering Curbside Pickup and Home Delivery</td>\n",
       "      <td>25560 Madison Ave Murrieta</td>\n",
       "      <td>CA</td>\n",
       "      <td>92562</td>\n",
       "      <td>Great</td>\n",
       "      <td>Red</td>\n",
       "      <td>Black</td>\n",
       "      <td>Front-wheel Drive</td>\n",
       "      <td>Gasoline</td>\n",
       "      <td>8-Speed Automatic</td>\n",
       "      <td>3.5L V6 24V PDI DOHC</td>\n",
       "      <td>5TDXZ3DC2KS015402</td>\n",
       "      <td>22998646</td>\n",
       "    </tr>\n",
       "    <tr>\n",
       "      <th>1</th>\n",
       "      <td>Ford</td>\n",
       "      <td>F-150 Lariat</td>\n",
       "      <td>Used</td>\n",
       "      <td>$49,985</td>\n",
       "      <td>Dealer</td>\n",
       "      <td>Giant Chevrolet</td>\n",
       "      <td>1001 S Ben Maddox Way Visalia</td>\n",
       "      <td>CA</td>\n",
       "      <td>93292</td>\n",
       "      <td>Good</td>\n",
       "      <td>Shadow Black</td>\n",
       "      <td>Black</td>\n",
       "      <td>Four-wheel Drive</td>\n",
       "      <td>Gasoline</td>\n",
       "      <td>10-Speed Automatic</td>\n",
       "      <td>3.5L V6 24V PDI DOHC Twin Turbo</td>\n",
       "      <td>1FTEW1EG2JFD44217</td>\n",
       "      <td>22418A</td>\n",
       "    </tr>\n",
       "    <tr>\n",
       "      <th>2</th>\n",
       "      <td>RAM</td>\n",
       "      <td>1500 Laramie</td>\n",
       "      <td>Used</td>\n",
       "      <td>$41,860</td>\n",
       "      <td>Dealer</td>\n",
       "      <td>Gill Auto Group Madera</td>\n",
       "      <td>1100 S Madera Ave Madera</td>\n",
       "      <td>CA</td>\n",
       "      <td>93637</td>\n",
       "      <td>Good</td>\n",
       "      <td>Granite Crystal Clearcoat Metallic</td>\n",
       "      <td>Black</td>\n",
       "      <td>Four-wheel Drive</td>\n",
       "      <td>Gasoline</td>\n",
       "      <td>8-Speed Automatic</td>\n",
       "      <td>5.7L V8 16V MPFI OHV</td>\n",
       "      <td>1C6RR7VT5HS842283</td>\n",
       "      <td>NG277871G</td>\n",
       "    </tr>\n",
       "    <tr>\n",
       "      <th>3</th>\n",
       "      <td>Honda</td>\n",
       "      <td>Accord Sport SE</td>\n",
       "      <td>Used</td>\n",
       "      <td>$28,500</td>\n",
       "      <td>Dealer</td>\n",
       "      <td>AutoSavvy Las Vegas</td>\n",
       "      <td>2121 E Sahara Ave Las Vegas</td>\n",
       "      <td>NV</td>\n",
       "      <td>89104</td>\n",
       "      <td>NaN</td>\n",
       "      <td>Gray</td>\n",
       "      <td>–</td>\n",
       "      <td>Front-wheel Drive</td>\n",
       "      <td>Gasoline</td>\n",
       "      <td>Automatic CVT</td>\n",
       "      <td>1.5L I4 16V GDI DOHC Turbo</td>\n",
       "      <td>1HGCV1F49MA038035</td>\n",
       "      <td>54237</td>\n",
       "    </tr>\n",
       "    <tr>\n",
       "      <th>4</th>\n",
       "      <td>Lexus</td>\n",
       "      <td>RX 350</td>\n",
       "      <td>Used</td>\n",
       "      <td>$49,000</td>\n",
       "      <td>Dealer</td>\n",
       "      <td>Lexus of Henderson</td>\n",
       "      <td>7737 Eastgate Rd Henderson</td>\n",
       "      <td>NV</td>\n",
       "      <td>89011</td>\n",
       "      <td>Good</td>\n",
       "      <td>Eminent White Pearl</td>\n",
       "      <td>Birch</td>\n",
       "      <td>Front-wheel Drive</td>\n",
       "      <td>Gasoline</td>\n",
       "      <td>8-Speed Automatic</td>\n",
       "      <td>3.5L V6 24V PDI DOHC</td>\n",
       "      <td>2T2AZMAA8LC156270</td>\n",
       "      <td>HDT4181A</td>\n",
       "    </tr>\n",
       "  </tbody>\n",
       "</table>\n",
       "</div>"
      ],
      "text/plain": [
       "     Make            Model Used/New    Price SellerType  \\\n",
       "0  Toyota        Sienna SE     Used  $39,998     Dealer   \n",
       "1    Ford     F-150 Lariat     Used  $49,985     Dealer   \n",
       "2     RAM     1500 Laramie     Used  $41,860     Dealer   \n",
       "3   Honda  Accord Sport SE     Used  $28,500     Dealer   \n",
       "4   Lexus           RX 350     Used  $49,000     Dealer   \n",
       "\n",
       "                                                         SellerName  \\\n",
       "0  CarMax Murrieta - Now offering Curbside Pickup and Home Delivery   \n",
       "1                                                   Giant Chevrolet   \n",
       "2                                            Gill Auto Group Madera   \n",
       "3                                               AutoSavvy Las Vegas   \n",
       "4                                                Lexus of Henderson   \n",
       "\n",
       "                      StreetName State Zipcode DealType  \\\n",
       "0     25560 Madison Ave Murrieta    CA   92562    Great   \n",
       "1  1001 S Ben Maddox Way Visalia    CA   93292     Good   \n",
       "2       1100 S Madera Ave Madera    CA   93637     Good   \n",
       "3    2121 E Sahara Ave Las Vegas    NV   89104      NaN   \n",
       "4     7737 Eastgate Rd Henderson    NV   89011     Good   \n",
       "\n",
       "                        ExteriorColor InteriorColor         Drivetrain  \\\n",
       "0                                 Red         Black  Front-wheel Drive   \n",
       "1                        Shadow Black         Black   Four-wheel Drive   \n",
       "2  Granite Crystal Clearcoat Metallic         Black   Four-wheel Drive   \n",
       "3                                Gray             –  Front-wheel Drive   \n",
       "4                 Eminent White Pearl         Birch  Front-wheel Drive   \n",
       "\n",
       "   FuelType        Transmission                           Engine  \\\n",
       "0  Gasoline   8-Speed Automatic             3.5L V6 24V PDI DOHC   \n",
       "1  Gasoline  10-Speed Automatic  3.5L V6 24V PDI DOHC Twin Turbo   \n",
       "2  Gasoline   8-Speed Automatic             5.7L V8 16V MPFI OHV   \n",
       "3  Gasoline       Automatic CVT       1.5L I4 16V GDI DOHC Turbo   \n",
       "4  Gasoline   8-Speed Automatic             3.5L V6 24V PDI DOHC   \n",
       "\n",
       "                 VIN     Stock#  \n",
       "0  5TDXZ3DC2KS015402   22998646  \n",
       "1  1FTEW1EG2JFD44217     22418A  \n",
       "2  1C6RR7VT5HS842283  NG277871G  \n",
       "3  1HGCV1F49MA038035      54237  \n",
       "4  2T2AZMAA8LC156270   HDT4181A  "
      ]
     },
     "execution_count": 196,
     "metadata": {},
     "output_type": "execute_result"
    }
   ],
   "source": [
    "#We looked columns as a object\n",
    "df.select_dtypes(include =\"object\").head()"
   ]
  },
  {
   "cell_type": "code",
   "execution_count": 197,
   "id": "7057138e",
   "metadata": {
    "papermill": {
     "duration": null,
     "end_time": null,
     "exception": null,
     "start_time": null,
     "status": "pending"
    },
    "tags": []
   },
   "outputs": [
    {
     "name": "stdout",
     "output_type": "stream",
     "text": [
      "Make                : 41\n",
      "Model               : 1304\n",
      "Used/New            : 26\n",
      "Price               : 5064\n",
      "SellerType          : 2\n",
      "SellerName          : 3971\n",
      "StreetName          : 3967\n",
      "State               : 59\n",
      "Zipcode             : 2163\n",
      "DealType            : 3\n",
      "ExteriorColor       : 949\n",
      "InteriorColor       : 374\n",
      "Drivetrain          : 10\n",
      "FuelType            : 13\n",
      "Transmission        : 93\n",
      "Engine              : 326\n",
      "VIN                 : 8474\n",
      "Stock#              : 8431\n"
     ]
    }
   ],
   "source": [
    "# kategorik verilerde unique değerlere baktık\n",
    "for col in df.select_dtypes('object'):\n",
    "    print(f\"{col:<20}:\", df[col].nunique())# col<20: çıktının daha okunabilri hale gelmesi için"
   ]
  },
  {
   "cell_type": "code",
   "execution_count": 198,
   "id": "0e9a174e",
   "metadata": {
    "papermill": {
     "duration": null,
     "end_time": null,
     "exception": null,
     "start_time": null,
     "status": "pending"
    },
    "tags": []
   },
   "outputs": [
    {
     "data": {
      "text/html": [
       "<div>\n",
       "<style scoped>\n",
       "    .dataframe tbody tr th:only-of-type {\n",
       "        vertical-align: middle;\n",
       "    }\n",
       "\n",
       "    .dataframe tbody tr th {\n",
       "        vertical-align: top;\n",
       "    }\n",
       "\n",
       "    .dataframe thead th {\n",
       "        text-align: right;\n",
       "    }\n",
       "</style>\n",
       "<table border=\"1\" class=\"dataframe\">\n",
       "  <thead>\n",
       "    <tr style=\"text-align: right;\">\n",
       "      <th></th>\n",
       "      <th>Year</th>\n",
       "      <th>Make</th>\n",
       "      <th>Model</th>\n",
       "      <th>Used/New</th>\n",
       "      <th>Price</th>\n",
       "      <th>ConsumerRating</th>\n",
       "      <th>ConsumerReviews</th>\n",
       "      <th>SellerType</th>\n",
       "      <th>SellerName</th>\n",
       "      <th>SellerRating</th>\n",
       "      <th>SellerReviews</th>\n",
       "      <th>StreetName</th>\n",
       "      <th>State</th>\n",
       "      <th>Zipcode</th>\n",
       "      <th>DealType</th>\n",
       "      <th>ComfortRating</th>\n",
       "      <th>InteriorDesignRating</th>\n",
       "      <th>PerformanceRating</th>\n",
       "      <th>ValueForMoneyRating</th>\n",
       "      <th>ExteriorStylingRating</th>\n",
       "      <th>ReliabilityRating</th>\n",
       "      <th>ExteriorColor</th>\n",
       "      <th>InteriorColor</th>\n",
       "      <th>Drivetrain</th>\n",
       "      <th>MinMPG</th>\n",
       "      <th>MaxMPG</th>\n",
       "      <th>FuelType</th>\n",
       "      <th>Transmission</th>\n",
       "      <th>Engine</th>\n",
       "      <th>VIN</th>\n",
       "      <th>Stock#</th>\n",
       "      <th>Mileage</th>\n",
       "    </tr>\n",
       "  </thead>\n",
       "  <tbody>\n",
       "    <tr>\n",
       "      <th>212</th>\n",
       "      <td>2004</td>\n",
       "      <td>Toyota</td>\n",
       "      <td>Highlander Base</td>\n",
       "      <td>Used</td>\n",
       "      <td>$5,995</td>\n",
       "      <td>4.50</td>\n",
       "      <td>47</td>\n",
       "      <td>Dealer</td>\n",
       "      <td>Northtown Auto Sales</td>\n",
       "      <td>4.90</td>\n",
       "      <td>2</td>\n",
       "      <td>8325 University Ave NE Minneapolis</td>\n",
       "      <td>MN</td>\n",
       "      <td>55432</td>\n",
       "      <td>Good</td>\n",
       "      <td>4.60</td>\n",
       "      <td>4.30</td>\n",
       "      <td>4.40</td>\n",
       "      <td>4.60</td>\n",
       "      <td>4.30</td>\n",
       "      <td>4.70</td>\n",
       "      <td>Tan</td>\n",
       "      <td>Tan</td>\n",
       "      <td>Front-wheel Drive</td>\n",
       "      <td>23</td>\n",
       "      <td>23</td>\n",
       "      <td>Gasoline</td>\n",
       "      <td>Automatic 5-Speed</td>\n",
       "      <td>3.3L V6</td>\n",
       "      <td>JTEGP21A740039991</td>\n",
       "      <td>40039991STK</td>\n",
       "      <td>204440</td>\n",
       "    </tr>\n",
       "    <tr>\n",
       "      <th>4930</th>\n",
       "      <td>2004</td>\n",
       "      <td>Toyota</td>\n",
       "      <td>Highlander Base</td>\n",
       "      <td>Used</td>\n",
       "      <td>$5,995</td>\n",
       "      <td>4.50</td>\n",
       "      <td>47</td>\n",
       "      <td>Dealer</td>\n",
       "      <td>Northtown Auto Sales</td>\n",
       "      <td>4.90</td>\n",
       "      <td>2</td>\n",
       "      <td>8325 University Ave NE Minneapolis</td>\n",
       "      <td>MN</td>\n",
       "      <td>55432</td>\n",
       "      <td>Good</td>\n",
       "      <td>4.60</td>\n",
       "      <td>4.30</td>\n",
       "      <td>4.40</td>\n",
       "      <td>4.60</td>\n",
       "      <td>4.30</td>\n",
       "      <td>4.70</td>\n",
       "      <td>Tan</td>\n",
       "      <td>Tan</td>\n",
       "      <td>Front-wheel Drive</td>\n",
       "      <td>23</td>\n",
       "      <td>23</td>\n",
       "      <td>Gasoline</td>\n",
       "      <td>Automatic 5-Speed</td>\n",
       "      <td>3.3L V6</td>\n",
       "      <td>JTEGP21A740039991</td>\n",
       "      <td>40039991STK</td>\n",
       "      <td>204440</td>\n",
       "    </tr>\n",
       "    <tr>\n",
       "      <th>2607</th>\n",
       "      <td>2005</td>\n",
       "      <td>Acura</td>\n",
       "      <td>MDX Touring</td>\n",
       "      <td>Used</td>\n",
       "      <td>$6,495</td>\n",
       "      <td>4.70</td>\n",
       "      <td>54</td>\n",
       "      <td>Dealer</td>\n",
       "      <td>JP Motors</td>\n",
       "      <td>4.30</td>\n",
       "      <td>7</td>\n",
       "      <td>7411 Centreville Rd Manassas</td>\n",
       "      <td>VA</td>\n",
       "      <td>20111</td>\n",
       "      <td>Good</td>\n",
       "      <td>4.80</td>\n",
       "      <td>4.50</td>\n",
       "      <td>4.60</td>\n",
       "      <td>4.80</td>\n",
       "      <td>4.60</td>\n",
       "      <td>4.90</td>\n",
       "      <td>Black</td>\n",
       "      <td>Ebony</td>\n",
       "      <td>Four-wheel Drive</td>\n",
       "      <td>17</td>\n",
       "      <td>23</td>\n",
       "      <td>Gasoline</td>\n",
       "      <td>5-Speed Automatic</td>\n",
       "      <td>3.5L V6 24V MPFI SOHC</td>\n",
       "      <td>2HNYD188X5H549256</td>\n",
       "      <td>2P771090</td>\n",
       "      <td>174916</td>\n",
       "    </tr>\n",
       "    <tr>\n",
       "      <th>7006</th>\n",
       "      <td>2005</td>\n",
       "      <td>Acura</td>\n",
       "      <td>MDX Touring</td>\n",
       "      <td>Used</td>\n",
       "      <td>$6,495</td>\n",
       "      <td>4.70</td>\n",
       "      <td>54</td>\n",
       "      <td>Dealer</td>\n",
       "      <td>JP Motors</td>\n",
       "      <td>4.30</td>\n",
       "      <td>7</td>\n",
       "      <td>7411 Centreville Rd Manassas</td>\n",
       "      <td>VA</td>\n",
       "      <td>20111</td>\n",
       "      <td>Good</td>\n",
       "      <td>4.80</td>\n",
       "      <td>4.50</td>\n",
       "      <td>4.60</td>\n",
       "      <td>4.80</td>\n",
       "      <td>4.60</td>\n",
       "      <td>4.90</td>\n",
       "      <td>Black</td>\n",
       "      <td>Ebony</td>\n",
       "      <td>Four-wheel Drive</td>\n",
       "      <td>17</td>\n",
       "      <td>23</td>\n",
       "      <td>Gasoline</td>\n",
       "      <td>5-Speed Automatic</td>\n",
       "      <td>3.5L V6 24V MPFI SOHC</td>\n",
       "      <td>2HNYD188X5H549256</td>\n",
       "      <td>2P771090</td>\n",
       "      <td>174916</td>\n",
       "    </tr>\n",
       "    <tr>\n",
       "      <th>1716</th>\n",
       "      <td>2007</td>\n",
       "      <td>Toyota</td>\n",
       "      <td>Camry LE</td>\n",
       "      <td>Used</td>\n",
       "      <td>$9,950</td>\n",
       "      <td>4.20</td>\n",
       "      <td>301</td>\n",
       "      <td>Dealer</td>\n",
       "      <td>TJK AUTO LLC</td>\n",
       "      <td>4.10</td>\n",
       "      <td>10</td>\n",
       "      <td>14227 S Street Omaha</td>\n",
       "      <td>NE</td>\n",
       "      <td>68137</td>\n",
       "      <td>Great</td>\n",
       "      <td>4.40</td>\n",
       "      <td>4.10</td>\n",
       "      <td>4.10</td>\n",
       "      <td>4.20</td>\n",
       "      <td>4.30</td>\n",
       "      <td>4.30</td>\n",
       "      <td>White</td>\n",
       "      <td>Tan</td>\n",
       "      <td>Front-wheel Drive</td>\n",
       "      <td>22</td>\n",
       "      <td>31</td>\n",
       "      <td>Gasoline</td>\n",
       "      <td>6-Speed Automatic</td>\n",
       "      <td>3.5L V6 24V MPFI DOHC</td>\n",
       "      <td>4T1BK46K87U548913</td>\n",
       "      <td>548913</td>\n",
       "      <td>99223</td>\n",
       "    </tr>\n",
       "    <tr>\n",
       "      <th>...</th>\n",
       "      <td>...</td>\n",
       "      <td>...</td>\n",
       "      <td>...</td>\n",
       "      <td>...</td>\n",
       "      <td>...</td>\n",
       "      <td>...</td>\n",
       "      <td>...</td>\n",
       "      <td>...</td>\n",
       "      <td>...</td>\n",
       "      <td>...</td>\n",
       "      <td>...</td>\n",
       "      <td>...</td>\n",
       "      <td>...</td>\n",
       "      <td>...</td>\n",
       "      <td>...</td>\n",
       "      <td>...</td>\n",
       "      <td>...</td>\n",
       "      <td>...</td>\n",
       "      <td>...</td>\n",
       "      <td>...</td>\n",
       "      <td>...</td>\n",
       "      <td>...</td>\n",
       "      <td>...</td>\n",
       "      <td>...</td>\n",
       "      <td>...</td>\n",
       "      <td>...</td>\n",
       "      <td>...</td>\n",
       "      <td>...</td>\n",
       "      <td>...</td>\n",
       "      <td>...</td>\n",
       "      <td>...</td>\n",
       "      <td>...</td>\n",
       "    </tr>\n",
       "    <tr>\n",
       "      <th>6345</th>\n",
       "      <td>2022</td>\n",
       "      <td>Tesla</td>\n",
       "      <td>Model 3 Long Range</td>\n",
       "      <td>Used</td>\n",
       "      <td>$66,237</td>\n",
       "      <td>4.80</td>\n",
       "      <td>2</td>\n",
       "      <td>Dealer</td>\n",
       "      <td>Napleton's Volkswagen of Sanford</td>\n",
       "      <td>4.60</td>\n",
       "      <td>795</td>\n",
       "      <td>4175 S. Orlando Sanford</td>\n",
       "      <td>FL</td>\n",
       "      <td>32773</td>\n",
       "      <td>Good</td>\n",
       "      <td>5.00</td>\n",
       "      <td>4.50</td>\n",
       "      <td>5.00</td>\n",
       "      <td>4.50</td>\n",
       "      <td>4.50</td>\n",
       "      <td>5.00</td>\n",
       "      <td>Midnight Silver Metallic</td>\n",
       "      <td>Black</td>\n",
       "      <td>All-wheel Drive</td>\n",
       "      <td>0</td>\n",
       "      <td>0</td>\n",
       "      <td>Electric</td>\n",
       "      <td>Automatic</td>\n",
       "      <td>Electric</td>\n",
       "      <td>5YJ3E1EB0NF119495</td>\n",
       "      <td>ZNF119495P</td>\n",
       "      <td>2224</td>\n",
       "    </tr>\n",
       "    <tr>\n",
       "      <th>1596</th>\n",
       "      <td>2022</td>\n",
       "      <td>Toyota</td>\n",
       "      <td>Highlander Hybrid Limited</td>\n",
       "      <td>Used</td>\n",
       "      <td>$52,955</td>\n",
       "      <td>5.00</td>\n",
       "      <td>2</td>\n",
       "      <td>Dealer</td>\n",
       "      <td>AutoNation Toyota Hayward</td>\n",
       "      <td>4.40</td>\n",
       "      <td>1071</td>\n",
       "      <td>24773 Mission Blvd Hayward</td>\n",
       "      <td>CA</td>\n",
       "      <td>94544</td>\n",
       "      <td>Great</td>\n",
       "      <td>5.00</td>\n",
       "      <td>5.00</td>\n",
       "      <td>5.00</td>\n",
       "      <td>5.00</td>\n",
       "      <td>5.00</td>\n",
       "      <td>5.00</td>\n",
       "      <td>Ruby Flare Pearl</td>\n",
       "      <td>–</td>\n",
       "      <td>All-wheel Drive</td>\n",
       "      <td>35</td>\n",
       "      <td>34</td>\n",
       "      <td>Hybrid</td>\n",
       "      <td>Automatic CVT</td>\n",
       "      <td>2.5L I4 16V PDI DOHC Hybrid</td>\n",
       "      <td>5TDXBRCH7NS543753</td>\n",
       "      <td>NS543753</td>\n",
       "      <td>29994</td>\n",
       "    </tr>\n",
       "    <tr>\n",
       "      <th>4898</th>\n",
       "      <td>2022</td>\n",
       "      <td>Toyota</td>\n",
       "      <td>Highlander Hybrid Limited</td>\n",
       "      <td>Used</td>\n",
       "      <td>$52,955</td>\n",
       "      <td>5.00</td>\n",
       "      <td>2</td>\n",
       "      <td>Dealer</td>\n",
       "      <td>AutoNation Toyota Hayward</td>\n",
       "      <td>4.40</td>\n",
       "      <td>1071</td>\n",
       "      <td>24773 Mission Blvd Hayward</td>\n",
       "      <td>CA</td>\n",
       "      <td>94544</td>\n",
       "      <td>Great</td>\n",
       "      <td>5.00</td>\n",
       "      <td>5.00</td>\n",
       "      <td>5.00</td>\n",
       "      <td>5.00</td>\n",
       "      <td>5.00</td>\n",
       "      <td>5.00</td>\n",
       "      <td>Ruby Flare Pearl</td>\n",
       "      <td>–</td>\n",
       "      <td>All-wheel Drive</td>\n",
       "      <td>35</td>\n",
       "      <td>34</td>\n",
       "      <td>Hybrid</td>\n",
       "      <td>Automatic CVT</td>\n",
       "      <td>2.5L I4 16V PDI DOHC Hybrid</td>\n",
       "      <td>5TDXBRCH7NS543753</td>\n",
       "      <td>NS543753</td>\n",
       "      <td>29994</td>\n",
       "    </tr>\n",
       "    <tr>\n",
       "      <th>3145</th>\n",
       "      <td>2022</td>\n",
       "      <td>Volvo</td>\n",
       "      <td>XC60 B5 Inscription</td>\n",
       "      <td>Used</td>\n",
       "      <td>$48,500</td>\n",
       "      <td>2.70</td>\n",
       "      <td>1</td>\n",
       "      <td>Dealer</td>\n",
       "      <td>Volvo Cars Mall of Georgia</td>\n",
       "      <td>4.90</td>\n",
       "      <td>2106</td>\n",
       "      <td>3626 Buford Dr NE Buford</td>\n",
       "      <td>GA</td>\n",
       "      <td>30519</td>\n",
       "      <td>Good</td>\n",
       "      <td>5.00</td>\n",
       "      <td>5.00</td>\n",
       "      <td>1.00</td>\n",
       "      <td>1.00</td>\n",
       "      <td>5.00</td>\n",
       "      <td>1.00</td>\n",
       "      <td>Crystal White Metallic</td>\n",
       "      <td>Blonde</td>\n",
       "      <td>Front-wheel Drive</td>\n",
       "      <td>23</td>\n",
       "      <td>30</td>\n",
       "      <td>Gasoline</td>\n",
       "      <td>8-Speed Automatic</td>\n",
       "      <td>2.0L I4 16V GDI DOHC Turbo</td>\n",
       "      <td>YV4L12DL6N1951540</td>\n",
       "      <td>LC422005B</td>\n",
       "      <td>18310</td>\n",
       "    </tr>\n",
       "    <tr>\n",
       "      <th>8491</th>\n",
       "      <td>2022</td>\n",
       "      <td>Volvo</td>\n",
       "      <td>XC60 B5 Inscription</td>\n",
       "      <td>Used</td>\n",
       "      <td>$48,500</td>\n",
       "      <td>2.70</td>\n",
       "      <td>1</td>\n",
       "      <td>Dealer</td>\n",
       "      <td>Volvo Cars Mall of Georgia</td>\n",
       "      <td>4.90</td>\n",
       "      <td>2106</td>\n",
       "      <td>3626 Buford Dr NE Buford</td>\n",
       "      <td>GA</td>\n",
       "      <td>30519</td>\n",
       "      <td>Good</td>\n",
       "      <td>5.00</td>\n",
       "      <td>5.00</td>\n",
       "      <td>1.00</td>\n",
       "      <td>1.00</td>\n",
       "      <td>5.00</td>\n",
       "      <td>1.00</td>\n",
       "      <td>Crystal White Metallic</td>\n",
       "      <td>Blonde</td>\n",
       "      <td>Front-wheel Drive</td>\n",
       "      <td>23</td>\n",
       "      <td>30</td>\n",
       "      <td>Gasoline</td>\n",
       "      <td>8-Speed Automatic</td>\n",
       "      <td>2.0L I4 16V GDI DOHC Turbo</td>\n",
       "      <td>YV4L12DL6N1951540</td>\n",
       "      <td>LC422005B</td>\n",
       "      <td>18310</td>\n",
       "    </tr>\n",
       "  </tbody>\n",
       "</table>\n",
       "<p>1738 rows × 32 columns</p>\n",
       "</div>"
      ],
      "text/plain": [
       "      Year    Make                      Model Used/New    Price  \\\n",
       "212   2004  Toyota            Highlander Base     Used   $5,995   \n",
       "4930  2004  Toyota            Highlander Base     Used   $5,995   \n",
       "2607  2005   Acura                MDX Touring     Used   $6,495   \n",
       "7006  2005   Acura                MDX Touring     Used   $6,495   \n",
       "1716  2007  Toyota                   Camry LE     Used   $9,950   \n",
       "...    ...     ...                        ...      ...      ...   \n",
       "6345  2022   Tesla         Model 3 Long Range     Used  $66,237   \n",
       "1596  2022  Toyota  Highlander Hybrid Limited     Used  $52,955   \n",
       "4898  2022  Toyota  Highlander Hybrid Limited     Used  $52,955   \n",
       "3145  2022   Volvo        XC60 B5 Inscription     Used  $48,500   \n",
       "8491  2022   Volvo        XC60 B5 Inscription     Used  $48,500   \n",
       "\n",
       "      ConsumerRating  ConsumerReviews SellerType  \\\n",
       "212             4.50               47     Dealer   \n",
       "4930            4.50               47     Dealer   \n",
       "2607            4.70               54     Dealer   \n",
       "7006            4.70               54     Dealer   \n",
       "1716            4.20              301     Dealer   \n",
       "...              ...              ...        ...   \n",
       "6345            4.80                2     Dealer   \n",
       "1596            5.00                2     Dealer   \n",
       "4898            5.00                2     Dealer   \n",
       "3145            2.70                1     Dealer   \n",
       "8491            2.70                1     Dealer   \n",
       "\n",
       "                            SellerName  SellerRating  SellerReviews  \\\n",
       "212               Northtown Auto Sales          4.90              2   \n",
       "4930              Northtown Auto Sales          4.90              2   \n",
       "2607                         JP Motors          4.30              7   \n",
       "7006                         JP Motors          4.30              7   \n",
       "1716                      TJK AUTO LLC          4.10             10   \n",
       "...                                ...           ...            ...   \n",
       "6345  Napleton's Volkswagen of Sanford          4.60            795   \n",
       "1596         AutoNation Toyota Hayward          4.40           1071   \n",
       "4898         AutoNation Toyota Hayward          4.40           1071   \n",
       "3145        Volvo Cars Mall of Georgia          4.90           2106   \n",
       "8491        Volvo Cars Mall of Georgia          4.90           2106   \n",
       "\n",
       "                              StreetName State Zipcode DealType  \\\n",
       "212   8325 University Ave NE Minneapolis    MN   55432     Good   \n",
       "4930  8325 University Ave NE Minneapolis    MN   55432     Good   \n",
       "2607        7411 Centreville Rd Manassas    VA   20111     Good   \n",
       "7006        7411 Centreville Rd Manassas    VA   20111     Good   \n",
       "1716                14227 S Street Omaha    NE   68137    Great   \n",
       "...                                  ...   ...     ...      ...   \n",
       "6345             4175 S. Orlando Sanford    FL   32773     Good   \n",
       "1596          24773 Mission Blvd Hayward    CA   94544    Great   \n",
       "4898          24773 Mission Blvd Hayward    CA   94544    Great   \n",
       "3145            3626 Buford Dr NE Buford    GA   30519     Good   \n",
       "8491            3626 Buford Dr NE Buford    GA   30519     Good   \n",
       "\n",
       "      ComfortRating  InteriorDesignRating  PerformanceRating  \\\n",
       "212            4.60                  4.30               4.40   \n",
       "4930           4.60                  4.30               4.40   \n",
       "2607           4.80                  4.50               4.60   \n",
       "7006           4.80                  4.50               4.60   \n",
       "1716           4.40                  4.10               4.10   \n",
       "...             ...                   ...                ...   \n",
       "6345           5.00                  4.50               5.00   \n",
       "1596           5.00                  5.00               5.00   \n",
       "4898           5.00                  5.00               5.00   \n",
       "3145           5.00                  5.00               1.00   \n",
       "8491           5.00                  5.00               1.00   \n",
       "\n",
       "      ValueForMoneyRating  ExteriorStylingRating  ReliabilityRating  \\\n",
       "212                  4.60                   4.30               4.70   \n",
       "4930                 4.60                   4.30               4.70   \n",
       "2607                 4.80                   4.60               4.90   \n",
       "7006                 4.80                   4.60               4.90   \n",
       "1716                 4.20                   4.30               4.30   \n",
       "...                   ...                    ...                ...   \n",
       "6345                 4.50                   4.50               5.00   \n",
       "1596                 5.00                   5.00               5.00   \n",
       "4898                 5.00                   5.00               5.00   \n",
       "3145                 1.00                   5.00               1.00   \n",
       "8491                 1.00                   5.00               1.00   \n",
       "\n",
       "                 ExteriorColor InteriorColor         Drivetrain  MinMPG  \\\n",
       "212                        Tan           Tan  Front-wheel Drive      23   \n",
       "4930                       Tan           Tan  Front-wheel Drive      23   \n",
       "2607                     Black         Ebony   Four-wheel Drive      17   \n",
       "7006                     Black         Ebony   Four-wheel Drive      17   \n",
       "1716                     White           Tan  Front-wheel Drive      22   \n",
       "...                        ...           ...                ...     ...   \n",
       "6345  Midnight Silver Metallic         Black    All-wheel Drive       0   \n",
       "1596          Ruby Flare Pearl             –    All-wheel Drive      35   \n",
       "4898          Ruby Flare Pearl             –    All-wheel Drive      35   \n",
       "3145    Crystal White Metallic        Blonde  Front-wheel Drive      23   \n",
       "8491    Crystal White Metallic        Blonde  Front-wheel Drive      23   \n",
       "\n",
       "      MaxMPG  FuelType       Transmission                       Engine  \\\n",
       "212       23  Gasoline  Automatic 5-Speed                      3.3L V6   \n",
       "4930      23  Gasoline  Automatic 5-Speed                      3.3L V6   \n",
       "2607      23  Gasoline  5-Speed Automatic        3.5L V6 24V MPFI SOHC   \n",
       "7006      23  Gasoline  5-Speed Automatic        3.5L V6 24V MPFI SOHC   \n",
       "1716      31  Gasoline  6-Speed Automatic        3.5L V6 24V MPFI DOHC   \n",
       "...      ...       ...                ...                          ...   \n",
       "6345       0  Electric          Automatic                     Electric   \n",
       "1596      34    Hybrid      Automatic CVT  2.5L I4 16V PDI DOHC Hybrid   \n",
       "4898      34    Hybrid      Automatic CVT  2.5L I4 16V PDI DOHC Hybrid   \n",
       "3145      30  Gasoline  8-Speed Automatic   2.0L I4 16V GDI DOHC Turbo   \n",
       "8491      30  Gasoline  8-Speed Automatic   2.0L I4 16V GDI DOHC Turbo   \n",
       "\n",
       "                    VIN       Stock#  Mileage  \n",
       "212   JTEGP21A740039991  40039991STK   204440  \n",
       "4930  JTEGP21A740039991  40039991STK   204440  \n",
       "2607  2HNYD188X5H549256     2P771090   174916  \n",
       "7006  2HNYD188X5H549256     2P771090   174916  \n",
       "1716  4T1BK46K87U548913       548913    99223  \n",
       "...                 ...          ...      ...  \n",
       "6345  5YJ3E1EB0NF119495   ZNF119495P     2224  \n",
       "1596  5TDXBRCH7NS543753     NS543753    29994  \n",
       "4898  5TDXBRCH7NS543753     NS543753    29994  \n",
       "3145  YV4L12DL6N1951540    LC422005B    18310  \n",
       "8491  YV4L12DL6N1951540    LC422005B    18310  \n",
       "\n",
       "[1738 rows x 32 columns]"
      ]
     },
     "execution_count": 198,
     "metadata": {},
     "output_type": "execute_result"
    }
   ],
   "source": [
    "df[df.duplicated(keep=False)].sort_values(by=list(df.columns))"
   ]
  },
  {
   "cell_type": "code",
   "execution_count": 199,
   "id": "abac832c",
   "metadata": {
    "papermill": {
     "duration": null,
     "end_time": null,
     "exception": null,
     "start_time": null,
     "status": "pending"
    },
    "tags": []
   },
   "outputs": [],
   "source": [
    "def clean_data(df):\n",
    "    #used-new column replaced to categorical column as a 2 category\n",
    "    df[\"Used/New\"] = df[\"Used/New\"].str.replace(r'.*Certified.*', 'Certified', regex=True)\n",
    "    \n",
    "    #Price column cleaned and turned to float\n",
    "    df[\"Price\"] = df[\"Price\"].astype(str).str.replace('$', '').str.replace(',', '.')\n",
    "    df[\"Price\"] = pd.to_numeric(df[\"Price\"], errors='coerce')\n",
    "    \n",
    "    #drive-train column\n",
    "    nan_drivetrain = df[\"Drivetrain\"].isna()\n",
    "    df[\"Drivetrain\"] = df[\"Drivetrain\"].replace(\"–\", np.nan)\n",
    "\n",
    "    df[\"Drivetrain\"]=df[\"Drivetrain\"].str.replace(\"All-wheel Drive\", \"AWD\")\n",
    "    df[\"Drivetrain\"]=df[\"Drivetrain\"].str.replace(\"Front-wheel Drive\", \"FWD\")\n",
    "    df[\"Drivetrain\"]=df[\"Drivetrain\"].str.replace(\"Front Wheel Drive\", \"FWD\")\n",
    "    df[\"Drivetrain\"]=df[\"Drivetrain\"].str.replace(\"Four-wheel Drive\", \"4WD\")\n",
    "    df[\"Drivetrain\"]=df[\"Drivetrain\"].str.replace(\"Rear-wheel Drive\", \"RWD\")\n",
    "    \n",
    "    df[\"Drivetrain\"].loc[nan_drivetrain] = np.nan\n",
    "\n",
    "    #Transmission\n",
    "    df.Transmission = df.Transmission.str.lower()\n",
    "    df.Transmission = df.Transmission.str.replace(\"-\", \" \")\n",
    "    df.Transmission = df.Transmission.str.replace(\"m/t\", \"manual\")\n",
    "    df.Transmission = df.Transmission.str.replace(\"a/t\", \"automatic\")\n",
    "    df.Transmission = df.Transmission.replace(\"–\", np.nan)\n",
    "    \n",
    "    df.Engine = df.Engine.replace(\"–\", np.nan)\n",
    "\n",
    "\n",
    "\n",
    "    #FuelType\n",
    "    df[\"FuelType\"]= df[\"FuelType\"].replace(\"–\",np.nan)\n",
    "    \n",
    "    return df\n"
   ]
  },
  {
   "cell_type": "code",
   "execution_count": 200,
   "id": "048395bd",
   "metadata": {
    "papermill": {
     "duration": null,
     "end_time": null,
     "exception": null,
     "start_time": null,
     "status": "pending"
    },
    "tags": []
   },
   "outputs": [],
   "source": [
    "df.Engine = df.Engine.replace(\"–\", np.nan)\n",
    "\n"
   ]
  },
  {
   "cell_type": "code",
   "execution_count": 201,
   "id": "ae317692",
   "metadata": {
    "papermill": {
     "duration": null,
     "end_time": null,
     "exception": null,
     "start_time": null,
     "status": "pending"
    },
    "tags": []
   },
   "outputs": [],
   "source": [
    "def fill_na(df):\n",
    "    # Drivetrain sütunundaki NaN değerlerini doldurma\n",
    "    #Model ve markaya göre drivetrain grupladık sonra burdan aldığımız değerlerle null değerleri doldurduk. mode değeri\n",
    "    drive_train_df = df.groupby([\"Make\", \"Model\"])[\"Drivetrain\"].apply(lambda x: x.mode()[0] if x.mode().any() else None).reset_index()\n",
    "    df = pd.merge(df, drive_train_df, on=[\"Make\", \"Model\"], suffixes=('', '_ref'), how='left')\n",
    "    df['Drivetrain'] = df['Drivetrain'].fillna(df['Drivetrain_ref'])\n",
    "    df.drop(\"Drivetrain_ref\", axis=1,inplace=True) \n",
    "    value_counts_dr = df.Drivetrain.isna().sum()\n",
    "\n",
    "\n",
    "    # DealType sütunundaki NaN değerlerini doldurma\n",
    "    deal_type_df = df.groupby(\"SellerName\")[\"DealType\"].apply(lambda x: x.mode().iloc[0] if not x.mode().empty else np.nan).reset_index()\n",
    "    df = pd.merge(df, deal_type_df, on=\"SellerName\", suffixes=('', '_ref'), how='left')\n",
    "    df['DealType'] = df['DealType'].fillna(df['DealType_ref'])\n",
    "    df.drop(\"DealType_ref\", axis=1,inplace=True)   \n",
    "    value_counts_dt = df.DealType.isna().sum()\n",
    "    \n",
    "    \n",
    "    # FuelType sütunundaki NaN değerlerini doldurma\n",
    "    fuel_type_df = df.groupby([\"Make\", \"Model\"])[\"FuelType\"].apply(lambda x: x.mode().iloc[0] if not x.mode().empty else np.nan).reset_index()\n",
    "    df = pd.merge(df, fuel_type_df, on=[\"Make\", \"Model\"], suffixes=('', '_ref'), how='left')\n",
    "    df['FuelType'] = df['FuelType'].fillna(df['FuelType_ref'])\n",
    "    df.drop(columns=['FuelType_ref'], inplace=True)\n",
    "    value_counts_ft = df.FuelType.isna().sum()\n",
    "    \n",
    "    df.dropna(subset=[\"Price\"], inplace=True)\n",
    "\n",
    "    df.dropna(subset=[\"Transmission\"], inplace=True)\n",
    "    df.dropna(subset=[\"Engine\"], inplace=True)\n",
    "\n",
    "    \n",
    "    if value_counts_dr > 0:\n",
    "        print(\"There are\", value_counts_dr, \"Drivetrain values left as NaN.\")\n",
    "        df.dropna(subset=[\"Drivetrain\"], inplace=True)\n",
    "    else:\n",
    "        print(value_counts_dr, \"value droped\")\n",
    "\n",
    "    if value_counts_dt > 0:\n",
    "        print(\"There are\", value_counts_dt, \"DealType values left as NaN.\")\n",
    "        df.dropna(subset=[\"DealType\"], inplace=True)\n",
    "    else:\n",
    "        print(value_counts_dt, + \"value droped\")\n",
    "\n",
    "    if value_counts_ft > 0:\n",
    "        print(\"There are\", value_counts_ft, \"FuelType values left as NaN.\")\n",
    "        df.dropna(subset=[\"FuelType\"], inplace=True)\n",
    "    else:\n",
    "        print(value_counts_ft,\"value droped\")\n",
    "        \n",
    "    return df\n"
   ]
  },
  {
   "cell_type": "code",
   "execution_count": 202,
   "id": "5d8f94ab",
   "metadata": {
    "papermill": {
     "duration": null,
     "end_time": null,
     "exception": null,
     "start_time": null,
     "status": "pending"
    },
    "tags": []
   },
   "outputs": [],
   "source": [
    "# Checks for duplicate observations in the data set and removes them\n",
    "\n",
    "def duplicate_values(df):\n",
    "    \n",
    "    print(\"Duplicate check:\")\n",
    "    num_duplicates = df.duplicated(subset=None, keep='first').sum() #ilk görülen çift tutulur diğeri çift olarak işaretlenir\n",
    "    \n",
    "    if num_duplicates > 0:\n",
    "        \n",
    "        print(\"There are\", num_duplicates, \"duplicated observations in the dataset.\")\n",
    "        df.drop_duplicates(keep='first', inplace=True)\n",
    "        print(num_duplicates, \"duplicates were dropped!\")\n",
    "        print(\"No more duplicate rows!\")\n",
    "        \n",
    "    else:\n",
    "        print(\"There are no duplicated observations in the dataset.\")\n",
    "        \n",
    "    return df"
   ]
  },
  {
   "cell_type": "code",
   "execution_count": 203,
   "id": "1c7521de",
   "metadata": {
    "papermill": {
     "duration": null,
     "end_time": null,
     "exception": null,
     "start_time": null,
     "status": "pending"
    },
    "tags": []
   },
   "outputs": [
    {
     "name": "stdout",
     "output_type": "stream",
     "text": [
      "Duplicate check:\n",
      "There are 872 duplicated observations in the dataset.\n",
      "872 duplicates were dropped!\n",
      "No more duplicate rows!\n",
      "There are 1 Drivetrain values left as NaN.\n",
      "There are 104 DealType values left as NaN.\n",
      "There are 4 FuelType values left as NaN.\n"
     ]
    }
   ],
   "source": [
    "#Fonksiyonları uygulama\n",
    "df = duplicate_values(df)\n",
    "df = clean_data(df)\n",
    "df = fill_na(df)"
   ]
  },
  {
   "cell_type": "markdown",
   "id": "c5b9fe04-6434-416c-a6a4-77b97e5c6fa7",
   "metadata": {},
   "source": [
    "## Splitin transmiision column"
   ]
  },
  {
   "cell_type": "code",
   "execution_count": 228,
   "id": "1832fb07-ac2d-457d-aa53-e86d6114427a",
   "metadata": {},
   "outputs": [],
   "source": [
    "auto_pattern = re.compile(r'\\b(\\d\\s)?auto(matic)?\\b|\\bauto(matic)?\\s(\\d\\b|\\d\\s\\w+)?', re.IGNORECASE)\n",
    "manual_pattern = re.compile(r'\\b(\\d\\s)?manual\\b|\\bmanual\\s\\d\\b', re.IGNORECASE)\n",
    "speed_pattern = re.compile(r'(\\d+)\\s*speed', re.IGNORECASE)\n",
    "cvt_pattern = re.compile(r'\\b(cvt|continuously variable|xtronic continuously variable)\\b', re.IGNORECASE)\n",
    "\n",
    "\n",
    "def categorize_transmission(transmission):\n",
    "    if cvt_pattern.search(transmission):\n",
    "        return 'cvt'\n",
    "    elif auto_pattern.search(transmission):\n",
    "        return 'auto'\n",
    "    elif manual_pattern.search(transmission):\n",
    "        return 'manuel'\n",
    "    else:\n",
    "        return transmission\n",
    "        \n",
    "def extract_speed(transmission):\n",
    "    match = speed_pattern.search(transmission)\n",
    "    if match:\n",
    "        return match.group(1)\n",
    "    else:\n",
    "        # \"spd\" yazısını kontrol eden ek desen\n",
    "        spd_pattern = re.compile(r'(\\d+)\\s*spd', re.IGNORECASE)\n",
    "        match = spd_pattern.search(transmission)\n",
    "        return match.group(1) if match else None\n",
    "    \n",
    "df['Transmission_Type'] = df['Transmission'].apply(categorize_transmission)\n",
    "df['Speed_Type'] = df['Transmission'].apply(extract_speed)"
   ]
  },
  {
   "cell_type": "code",
   "execution_count": 232,
   "id": "97f7203b-5325-44d1-9523-8073b1a39aa6",
   "metadata": {},
   "outputs": [
    {
     "data": {
      "text/html": [
       "<div>\n",
       "<style scoped>\n",
       "    .dataframe tbody tr th:only-of-type {\n",
       "        vertical-align: middle;\n",
       "    }\n",
       "\n",
       "    .dataframe tbody tr th {\n",
       "        vertical-align: top;\n",
       "    }\n",
       "\n",
       "    .dataframe thead th {\n",
       "        text-align: right;\n",
       "    }\n",
       "</style>\n",
       "<table border=\"1\" class=\"dataframe\">\n",
       "  <thead>\n",
       "    <tr style=\"text-align: right;\">\n",
       "      <th></th>\n",
       "      <th>Year</th>\n",
       "      <th>Make</th>\n",
       "      <th>Model</th>\n",
       "      <th>Used/New</th>\n",
       "      <th>Price</th>\n",
       "      <th>ConsumerRating</th>\n",
       "      <th>ConsumerReviews</th>\n",
       "      <th>SellerType</th>\n",
       "      <th>SellerName</th>\n",
       "      <th>SellerRating</th>\n",
       "      <th>SellerReviews</th>\n",
       "      <th>StreetName</th>\n",
       "      <th>State</th>\n",
       "      <th>Zipcode</th>\n",
       "      <th>DealType</th>\n",
       "      <th>ComfortRating</th>\n",
       "      <th>InteriorDesignRating</th>\n",
       "      <th>PerformanceRating</th>\n",
       "      <th>ValueForMoneyRating</th>\n",
       "      <th>ExteriorStylingRating</th>\n",
       "      <th>ReliabilityRating</th>\n",
       "      <th>ExteriorColor</th>\n",
       "      <th>InteriorColor</th>\n",
       "      <th>Drivetrain</th>\n",
       "      <th>MinMPG</th>\n",
       "      <th>MaxMPG</th>\n",
       "      <th>FuelType</th>\n",
       "      <th>Transmission</th>\n",
       "      <th>Engine</th>\n",
       "      <th>VIN</th>\n",
       "      <th>Stock#</th>\n",
       "      <th>Mileage</th>\n",
       "      <th>Speed_Type</th>\n",
       "      <th>Transmission_Type</th>\n",
       "    </tr>\n",
       "  </thead>\n",
       "  <tbody>\n",
       "    <tr>\n",
       "      <th>6</th>\n",
       "      <td>2017</td>\n",
       "      <td>Honda</td>\n",
       "      <td>HR-V LX</td>\n",
       "      <td>Used</td>\n",
       "      <td>21.00</td>\n",
       "      <td>4.60</td>\n",
       "      <td>200</td>\n",
       "      <td>Dealer</td>\n",
       "      <td>Downtown Toyota-Subaru of Oakland</td>\n",
       "      <td>4.40</td>\n",
       "      <td>2695</td>\n",
       "      <td>4145 Broadway Oakland</td>\n",
       "      <td>CA</td>\n",
       "      <td>94611</td>\n",
       "      <td>Great</td>\n",
       "      <td>4.60</td>\n",
       "      <td>4.40</td>\n",
       "      <td>4.40</td>\n",
       "      <td>4.50</td>\n",
       "      <td>4.70</td>\n",
       "      <td>4.80</td>\n",
       "      <td>Modern Steel Metallic</td>\n",
       "      <td>Black</td>\n",
       "      <td>FWD</td>\n",
       "      <td>28</td>\n",
       "      <td>34</td>\n",
       "      <td>Gasoline</td>\n",
       "      <td>automatic cvt</td>\n",
       "      <td>1.8L I4 16V MPFI SOHC</td>\n",
       "      <td>3CZRU5H32HG703897</td>\n",
       "      <td>T1480</td>\n",
       "      <td>10458</td>\n",
       "      <td>None</td>\n",
       "      <td>cvt</td>\n",
       "    </tr>\n",
       "    <tr>\n",
       "      <th>18</th>\n",
       "      <td>2018</td>\n",
       "      <td>Ford</td>\n",
       "      <td>Explorer XLT</td>\n",
       "      <td>Used</td>\n",
       "      <td>33.34</td>\n",
       "      <td>4.80</td>\n",
       "      <td>265</td>\n",
       "      <td>Dealer</td>\n",
       "      <td>Larry H. Miller Used Car Supermarket Sandy</td>\n",
       "      <td>3.90</td>\n",
       "      <td>338</td>\n",
       "      <td>10990 Auto Mall Dr Sandy</td>\n",
       "      <td>UT</td>\n",
       "      <td>84070</td>\n",
       "      <td>Good</td>\n",
       "      <td>4.90</td>\n",
       "      <td>4.80</td>\n",
       "      <td>4.80</td>\n",
       "      <td>4.70</td>\n",
       "      <td>4.90</td>\n",
       "      <td>4.80</td>\n",
       "      <td>Red</td>\n",
       "      <td>–</td>\n",
       "      <td>4WD</td>\n",
       "      <td>16</td>\n",
       "      <td>22</td>\n",
       "      <td>Gasoline</td>\n",
       "      <td>automatic</td>\n",
       "      <td>Regular Unleaded V-6 3.5 L/213</td>\n",
       "      <td>1FM5K8D82JGC77140</td>\n",
       "      <td>R5631</td>\n",
       "      <td>81375</td>\n",
       "      <td>None</td>\n",
       "      <td>auto</td>\n",
       "    </tr>\n",
       "    <tr>\n",
       "      <th>25</th>\n",
       "      <td>2018</td>\n",
       "      <td>Subaru</td>\n",
       "      <td>Crosstrek 2.0i Premium</td>\n",
       "      <td>Used</td>\n",
       "      <td>32.00</td>\n",
       "      <td>4.80</td>\n",
       "      <td>343</td>\n",
       "      <td>Dealer</td>\n",
       "      <td>Jennifer's Auto Sales &amp; Service</td>\n",
       "      <td>4.00</td>\n",
       "      <td>43</td>\n",
       "      <td>15020 E Sprague Ave Spokane Valley</td>\n",
       "      <td>WA</td>\n",
       "      <td>99216</td>\n",
       "      <td>Fair</td>\n",
       "      <td>4.80</td>\n",
       "      <td>4.80</td>\n",
       "      <td>4.60</td>\n",
       "      <td>4.80</td>\n",
       "      <td>4.90</td>\n",
       "      <td>4.90</td>\n",
       "      <td>Venetian Red Pearl</td>\n",
       "      <td>Black</td>\n",
       "      <td>AWD</td>\n",
       "      <td>27</td>\n",
       "      <td>33</td>\n",
       "      <td>Gasoline</td>\n",
       "      <td>automatic cvt</td>\n",
       "      <td>2.0L H4 16V GDI DOHC</td>\n",
       "      <td>JF2GTADC9JH323841</td>\n",
       "      <td>15919</td>\n",
       "      <td>30849</td>\n",
       "      <td>None</td>\n",
       "      <td>cvt</td>\n",
       "    </tr>\n",
       "    <tr>\n",
       "      <th>26</th>\n",
       "      <td>2018</td>\n",
       "      <td>Subaru</td>\n",
       "      <td>Crosstrek 2.0i Premium</td>\n",
       "      <td>Used</td>\n",
       "      <td>24.56</td>\n",
       "      <td>4.80</td>\n",
       "      <td>343</td>\n",
       "      <td>Dealer</td>\n",
       "      <td>AutoNation Audi Volkswagen Spokane</td>\n",
       "      <td>4.60</td>\n",
       "      <td>176</td>\n",
       "      <td>10006 E Sprague Ave Spokane Valley</td>\n",
       "      <td>WA</td>\n",
       "      <td>99206</td>\n",
       "      <td>Good</td>\n",
       "      <td>4.80</td>\n",
       "      <td>4.80</td>\n",
       "      <td>4.60</td>\n",
       "      <td>4.80</td>\n",
       "      <td>4.90</td>\n",
       "      <td>4.90</td>\n",
       "      <td>Venetian Red Pearl</td>\n",
       "      <td>Black</td>\n",
       "      <td>AWD</td>\n",
       "      <td>27</td>\n",
       "      <td>33</td>\n",
       "      <td>Gasoline</td>\n",
       "      <td>automatic cvt</td>\n",
       "      <td>2.0L H4 16V GDI DOHC</td>\n",
       "      <td>JF2GTADC4JH245601</td>\n",
       "      <td>JH245601</td>\n",
       "      <td>86759</td>\n",
       "      <td>None</td>\n",
       "      <td>cvt</td>\n",
       "    </tr>\n",
       "    <tr>\n",
       "      <th>27</th>\n",
       "      <td>2018</td>\n",
       "      <td>Subaru</td>\n",
       "      <td>Crosstrek 2.0i Premium</td>\n",
       "      <td>Used</td>\n",
       "      <td>24.92</td>\n",
       "      <td>4.80</td>\n",
       "      <td>343</td>\n",
       "      <td>Dealer</td>\n",
       "      <td>NW Group Auto Sales</td>\n",
       "      <td>1.00</td>\n",
       "      <td>1</td>\n",
       "      <td>2995 E Mullan Ave Post Falls</td>\n",
       "      <td>ID</td>\n",
       "      <td>83854</td>\n",
       "      <td>Good</td>\n",
       "      <td>4.80</td>\n",
       "      <td>4.80</td>\n",
       "      <td>4.60</td>\n",
       "      <td>4.80</td>\n",
       "      <td>4.90</td>\n",
       "      <td>4.90</td>\n",
       "      <td>Crystal White Pearl</td>\n",
       "      <td>Black</td>\n",
       "      <td>AWD</td>\n",
       "      <td>27</td>\n",
       "      <td>33</td>\n",
       "      <td>Gasoline</td>\n",
       "      <td>automatic cvt</td>\n",
       "      <td>2.0L H4 16V GDI DOHC</td>\n",
       "      <td>JF2GTADC9JH280909</td>\n",
       "      <td>R280909</td>\n",
       "      <td>61053</td>\n",
       "      <td>None</td>\n",
       "      <td>cvt</td>\n",
       "    </tr>\n",
       "    <tr>\n",
       "      <th>...</th>\n",
       "      <td>...</td>\n",
       "      <td>...</td>\n",
       "      <td>...</td>\n",
       "      <td>...</td>\n",
       "      <td>...</td>\n",
       "      <td>...</td>\n",
       "      <td>...</td>\n",
       "      <td>...</td>\n",
       "      <td>...</td>\n",
       "      <td>...</td>\n",
       "      <td>...</td>\n",
       "      <td>...</td>\n",
       "      <td>...</td>\n",
       "      <td>...</td>\n",
       "      <td>...</td>\n",
       "      <td>...</td>\n",
       "      <td>...</td>\n",
       "      <td>...</td>\n",
       "      <td>...</td>\n",
       "      <td>...</td>\n",
       "      <td>...</td>\n",
       "      <td>...</td>\n",
       "      <td>...</td>\n",
       "      <td>...</td>\n",
       "      <td>...</td>\n",
       "      <td>...</td>\n",
       "      <td>...</td>\n",
       "      <td>...</td>\n",
       "      <td>...</td>\n",
       "      <td>...</td>\n",
       "      <td>...</td>\n",
       "      <td>...</td>\n",
       "      <td>...</td>\n",
       "      <td>...</td>\n",
       "    </tr>\n",
       "    <tr>\n",
       "      <th>8499</th>\n",
       "      <td>2019</td>\n",
       "      <td>Honda</td>\n",
       "      <td>CR-V EX-L</td>\n",
       "      <td>Used</td>\n",
       "      <td>33.28</td>\n",
       "      <td>4.80</td>\n",
       "      <td>540</td>\n",
       "      <td>Dealer</td>\n",
       "      <td>Millennium Honda</td>\n",
       "      <td>4.70</td>\n",
       "      <td>4705</td>\n",
       "      <td>286 N Franklin St Hempstead</td>\n",
       "      <td>NY</td>\n",
       "      <td>11550</td>\n",
       "      <td>Good</td>\n",
       "      <td>4.80</td>\n",
       "      <td>4.80</td>\n",
       "      <td>4.70</td>\n",
       "      <td>4.70</td>\n",
       "      <td>4.80</td>\n",
       "      <td>4.80</td>\n",
       "      <td>Platinum White Pearl</td>\n",
       "      <td>Black</td>\n",
       "      <td>AWD</td>\n",
       "      <td>27</td>\n",
       "      <td>33</td>\n",
       "      <td>Gasoline</td>\n",
       "      <td>automatic cvt</td>\n",
       "      <td>1.5L I4 16V GDI DOHC Turbo</td>\n",
       "      <td>7FARW2H81KE025123</td>\n",
       "      <td>U34582T</td>\n",
       "      <td>18025</td>\n",
       "      <td>None</td>\n",
       "      <td>cvt</td>\n",
       "    </tr>\n",
       "    <tr>\n",
       "      <th>8500</th>\n",
       "      <td>2019</td>\n",
       "      <td>Subaru</td>\n",
       "      <td>Crosstrek 2.0i Limited</td>\n",
       "      <td>Used</td>\n",
       "      <td>30.00</td>\n",
       "      <td>4.70</td>\n",
       "      <td>205</td>\n",
       "      <td>Dealer</td>\n",
       "      <td>Garavel Subaru</td>\n",
       "      <td>4.90</td>\n",
       "      <td>5447</td>\n",
       "      <td>10 Tindall Ave Norwalk</td>\n",
       "      <td>CT</td>\n",
       "      <td>06851</td>\n",
       "      <td>Good</td>\n",
       "      <td>4.70</td>\n",
       "      <td>4.70</td>\n",
       "      <td>4.60</td>\n",
       "      <td>4.70</td>\n",
       "      <td>4.80</td>\n",
       "      <td>4.80</td>\n",
       "      <td>Crystal White Pearl</td>\n",
       "      <td>Gray</td>\n",
       "      <td>AWD</td>\n",
       "      <td>27</td>\n",
       "      <td>33</td>\n",
       "      <td>Gasoline</td>\n",
       "      <td>automatic cvt</td>\n",
       "      <td>2.0L H4 16V GDI DOHC</td>\n",
       "      <td>JF2GTAMC0K8356082</td>\n",
       "      <td>S22-0526A</td>\n",
       "      <td>15306</td>\n",
       "      <td>None</td>\n",
       "      <td>cvt</td>\n",
       "    </tr>\n",
       "    <tr>\n",
       "      <th>8502</th>\n",
       "      <td>2019</td>\n",
       "      <td>Honda</td>\n",
       "      <td>CR-V EX-L</td>\n",
       "      <td>Used</td>\n",
       "      <td>32.00</td>\n",
       "      <td>4.80</td>\n",
       "      <td>540</td>\n",
       "      <td>Dealer</td>\n",
       "      <td>Hoffman Honda</td>\n",
       "      <td>4.80</td>\n",
       "      <td>1917</td>\n",
       "      <td>40 Albany Tpke West Simsbury</td>\n",
       "      <td>CT</td>\n",
       "      <td>06092</td>\n",
       "      <td>Good</td>\n",
       "      <td>4.80</td>\n",
       "      <td>4.80</td>\n",
       "      <td>4.70</td>\n",
       "      <td>4.70</td>\n",
       "      <td>4.80</td>\n",
       "      <td>4.80</td>\n",
       "      <td>Obsidian Blue Pearl</td>\n",
       "      <td>–</td>\n",
       "      <td>AWD</td>\n",
       "      <td>27</td>\n",
       "      <td>33</td>\n",
       "      <td>Gasoline</td>\n",
       "      <td>automatic cvt</td>\n",
       "      <td>1.5L I4 16V GDI DOHC Turbo</td>\n",
       "      <td>2HKRW2H87KH643043</td>\n",
       "      <td>10553HB</td>\n",
       "      <td>44481</td>\n",
       "      <td>None</td>\n",
       "      <td>cvt</td>\n",
       "    </tr>\n",
       "    <tr>\n",
       "      <th>8503</th>\n",
       "      <td>2019</td>\n",
       "      <td>Subaru</td>\n",
       "      <td>Crosstrek 2.0i Premium</td>\n",
       "      <td>Used</td>\n",
       "      <td>27.37</td>\n",
       "      <td>4.70</td>\n",
       "      <td>205</td>\n",
       "      <td>Dealer</td>\n",
       "      <td>Bertera Subaru of West Springfield</td>\n",
       "      <td>4.40</td>\n",
       "      <td>443</td>\n",
       "      <td>657 Riverdale St. West Springfield</td>\n",
       "      <td>MA</td>\n",
       "      <td>01089</td>\n",
       "      <td>Good</td>\n",
       "      <td>4.70</td>\n",
       "      <td>4.70</td>\n",
       "      <td>4.60</td>\n",
       "      <td>4.70</td>\n",
       "      <td>4.80</td>\n",
       "      <td>4.80</td>\n",
       "      <td>Quartz Blue Pearl</td>\n",
       "      <td>Gray</td>\n",
       "      <td>AWD</td>\n",
       "      <td>27</td>\n",
       "      <td>33</td>\n",
       "      <td>Gasoline</td>\n",
       "      <td>automatic cvt</td>\n",
       "      <td>2.0L H4 16V GDI DOHC</td>\n",
       "      <td>JF2GTADC4KH318032</td>\n",
       "      <td>220502A</td>\n",
       "      <td>15606</td>\n",
       "      <td>None</td>\n",
       "      <td>cvt</td>\n",
       "    </tr>\n",
       "    <tr>\n",
       "      <th>8505</th>\n",
       "      <td>2019</td>\n",
       "      <td>Subaru</td>\n",
       "      <td>Forester Premium</td>\n",
       "      <td>Used</td>\n",
       "      <td>28.57</td>\n",
       "      <td>4.70</td>\n",
       "      <td>279</td>\n",
       "      <td>Dealer</td>\n",
       "      <td>Ira Subaru</td>\n",
       "      <td>4.40</td>\n",
       "      <td>680</td>\n",
       "      <td>97 Andover St Danvers</td>\n",
       "      <td>MA</td>\n",
       "      <td>01923</td>\n",
       "      <td>Good</td>\n",
       "      <td>4.80</td>\n",
       "      <td>4.70</td>\n",
       "      <td>4.60</td>\n",
       "      <td>4.70</td>\n",
       "      <td>4.70</td>\n",
       "      <td>4.80</td>\n",
       "      <td>Crystal Black Silica</td>\n",
       "      <td>Black</td>\n",
       "      <td>AWD</td>\n",
       "      <td>26</td>\n",
       "      <td>33</td>\n",
       "      <td>Gasoline</td>\n",
       "      <td>automatic cvt</td>\n",
       "      <td>2.5L H4 16V GDI DOHC</td>\n",
       "      <td>JF2SKAGC9KH423450</td>\n",
       "      <td>KH423450</td>\n",
       "      <td>30760</td>\n",
       "      <td>None</td>\n",
       "      <td>cvt</td>\n",
       "    </tr>\n",
       "  </tbody>\n",
       "</table>\n",
       "<p>1536 rows × 34 columns</p>\n",
       "</div>"
      ],
      "text/plain": [
       "      Year    Make                   Model Used/New  Price  ConsumerRating  \\\n",
       "6     2017   Honda                 HR-V LX     Used  21.00            4.60   \n",
       "18    2018    Ford            Explorer XLT     Used  33.34            4.80   \n",
       "25    2018  Subaru  Crosstrek 2.0i Premium     Used  32.00            4.80   \n",
       "26    2018  Subaru  Crosstrek 2.0i Premium     Used  24.56            4.80   \n",
       "27    2018  Subaru  Crosstrek 2.0i Premium     Used  24.92            4.80   \n",
       "...    ...     ...                     ...      ...    ...             ...   \n",
       "8499  2019   Honda               CR-V EX-L     Used  33.28            4.80   \n",
       "8500  2019  Subaru  Crosstrek 2.0i Limited     Used  30.00            4.70   \n",
       "8502  2019   Honda               CR-V EX-L     Used  32.00            4.80   \n",
       "8503  2019  Subaru  Crosstrek 2.0i Premium     Used  27.37            4.70   \n",
       "8505  2019  Subaru        Forester Premium     Used  28.57            4.70   \n",
       "\n",
       "      ConsumerReviews SellerType                                  SellerName  \\\n",
       "6                 200     Dealer           Downtown Toyota-Subaru of Oakland   \n",
       "18                265     Dealer  Larry H. Miller Used Car Supermarket Sandy   \n",
       "25                343     Dealer             Jennifer's Auto Sales & Service   \n",
       "26                343     Dealer          AutoNation Audi Volkswagen Spokane   \n",
       "27                343     Dealer                         NW Group Auto Sales   \n",
       "...               ...        ...                                         ...   \n",
       "8499              540     Dealer                            Millennium Honda   \n",
       "8500              205     Dealer                              Garavel Subaru   \n",
       "8502              540     Dealer                               Hoffman Honda   \n",
       "8503              205     Dealer          Bertera Subaru of West Springfield   \n",
       "8505              279     Dealer                                  Ira Subaru   \n",
       "\n",
       "      SellerRating  SellerReviews                          StreetName State  \\\n",
       "6             4.40           2695               4145 Broadway Oakland    CA   \n",
       "18            3.90            338            10990 Auto Mall Dr Sandy    UT   \n",
       "25            4.00             43  15020 E Sprague Ave Spokane Valley    WA   \n",
       "26            4.60            176  10006 E Sprague Ave Spokane Valley    WA   \n",
       "27            1.00              1        2995 E Mullan Ave Post Falls    ID   \n",
       "...            ...            ...                                 ...   ...   \n",
       "8499          4.70           4705         286 N Franklin St Hempstead    NY   \n",
       "8500          4.90           5447              10 Tindall Ave Norwalk    CT   \n",
       "8502          4.80           1917        40 Albany Tpke West Simsbury    CT   \n",
       "8503          4.40            443  657 Riverdale St. West Springfield    MA   \n",
       "8505          4.40            680               97 Andover St Danvers    MA   \n",
       "\n",
       "     Zipcode DealType  ComfortRating  InteriorDesignRating  PerformanceRating  \\\n",
       "6      94611    Great           4.60                  4.40               4.40   \n",
       "18     84070     Good           4.90                  4.80               4.80   \n",
       "25     99216     Fair           4.80                  4.80               4.60   \n",
       "26     99206     Good           4.80                  4.80               4.60   \n",
       "27     83854     Good           4.80                  4.80               4.60   \n",
       "...      ...      ...            ...                   ...                ...   \n",
       "8499   11550     Good           4.80                  4.80               4.70   \n",
       "8500   06851     Good           4.70                  4.70               4.60   \n",
       "8502   06092     Good           4.80                  4.80               4.70   \n",
       "8503   01089     Good           4.70                  4.70               4.60   \n",
       "8505   01923     Good           4.80                  4.70               4.60   \n",
       "\n",
       "      ValueForMoneyRating  ExteriorStylingRating  ReliabilityRating  \\\n",
       "6                    4.50                   4.70               4.80   \n",
       "18                   4.70                   4.90               4.80   \n",
       "25                   4.80                   4.90               4.90   \n",
       "26                   4.80                   4.90               4.90   \n",
       "27                   4.80                   4.90               4.90   \n",
       "...                   ...                    ...                ...   \n",
       "8499                 4.70                   4.80               4.80   \n",
       "8500                 4.70                   4.80               4.80   \n",
       "8502                 4.70                   4.80               4.80   \n",
       "8503                 4.70                   4.80               4.80   \n",
       "8505                 4.70                   4.70               4.80   \n",
       "\n",
       "              ExteriorColor InteriorColor Drivetrain  MinMPG  MaxMPG  \\\n",
       "6     Modern Steel Metallic         Black        FWD      28      34   \n",
       "18                      Red             –        4WD      16      22   \n",
       "25       Venetian Red Pearl         Black        AWD      27      33   \n",
       "26       Venetian Red Pearl         Black        AWD      27      33   \n",
       "27      Crystal White Pearl         Black        AWD      27      33   \n",
       "...                     ...           ...        ...     ...     ...   \n",
       "8499   Platinum White Pearl         Black        AWD      27      33   \n",
       "8500    Crystal White Pearl          Gray        AWD      27      33   \n",
       "8502    Obsidian Blue Pearl             –        AWD      27      33   \n",
       "8503      Quartz Blue Pearl          Gray        AWD      27      33   \n",
       "8505   Crystal Black Silica         Black        AWD      26      33   \n",
       "\n",
       "      FuelType   Transmission                          Engine  \\\n",
       "6     Gasoline  automatic cvt           1.8L I4 16V MPFI SOHC   \n",
       "18    Gasoline      automatic  Regular Unleaded V-6 3.5 L/213   \n",
       "25    Gasoline  automatic cvt            2.0L H4 16V GDI DOHC   \n",
       "26    Gasoline  automatic cvt            2.0L H4 16V GDI DOHC   \n",
       "27    Gasoline  automatic cvt            2.0L H4 16V GDI DOHC   \n",
       "...        ...            ...                             ...   \n",
       "8499  Gasoline  automatic cvt      1.5L I4 16V GDI DOHC Turbo   \n",
       "8500  Gasoline  automatic cvt            2.0L H4 16V GDI DOHC   \n",
       "8502  Gasoline  automatic cvt      1.5L I4 16V GDI DOHC Turbo   \n",
       "8503  Gasoline  automatic cvt            2.0L H4 16V GDI DOHC   \n",
       "8505  Gasoline  automatic cvt            2.5L H4 16V GDI DOHC   \n",
       "\n",
       "                    VIN     Stock#  Mileage Speed_Type Transmission_Type  \n",
       "6     3CZRU5H32HG703897      T1480    10458       None               cvt  \n",
       "18    1FM5K8D82JGC77140      R5631    81375       None              auto  \n",
       "25    JF2GTADC9JH323841      15919    30849       None               cvt  \n",
       "26    JF2GTADC4JH245601   JH245601    86759       None               cvt  \n",
       "27    JF2GTADC9JH280909    R280909    61053       None               cvt  \n",
       "...                 ...        ...      ...        ...               ...  \n",
       "8499  7FARW2H81KE025123    U34582T    18025       None               cvt  \n",
       "8500  JF2GTAMC0K8356082  S22-0526A    15306       None               cvt  \n",
       "8502  2HKRW2H87KH643043    10553HB    44481       None               cvt  \n",
       "8503  JF2GTADC4KH318032    220502A    15606       None               cvt  \n",
       "8505  JF2SKAGC9KH423450   KH423450    30760       None               cvt  \n",
       "\n",
       "[1536 rows x 34 columns]"
      ]
     },
     "execution_count": 232,
     "metadata": {},
     "output_type": "execute_result"
    }
   ],
   "source": [
    "df[df.Speed_Type.isna()==True]  # bunlar üstünde ne işlem yapmam gerketiğini bilmiyorum. 1500 e yakın none değer var ve doldurulması imkansız ortalam ile doldurabilirim ama o zaman bozar çünkü cvt denen şey sınırsız vites demekmiş"
   ]
  },
  {
   "cell_type": "code",
   "execution_count": 241,
   "id": "b1c34f42-a418-4ec7-8f82-21d9f46a0f8b",
   "metadata": {},
   "outputs": [],
   "source": [
    "df[\"Speed_Type\"]= df.Speed_Type.fillna(0)\n",
    "df['Speed_Type'] = pd.to_numeric(df['Speed_Type'], errors='coerce')\n"
   ]
  },
  {
   "cell_type": "code",
   "execution_count": 53,
   "id": "285008c2",
   "metadata": {
    "papermill": {
     "duration": null,
     "end_time": null,
     "exception": null,
     "start_time": null,
     "status": "pending"
    },
    "tags": []
   },
   "outputs": [
    {
     "data": {
      "image/png": "[encoded data removed]",
      "text/plain": [
       "<Figure size 1400x800 with 1 Axes>"
      ]
     },
     "metadata": {},
     "output_type": "display_data"
    }
   ],
   "source": [
    "plt.figure(figsize=(14, 8))\n",
    "sns.barplot(x='Transmission', y='Price', data=df, palette='viridis')\n",
    "plt.xticks(rotation=90)\n",
    "plt.title('Transmission Type vs. Price')\n",
    "plt.xlabel('Transmission Type')\n",
    "plt.ylabel('Price')\n",
    "plt.tight_layout()\n",
    "plt.show()"
   ]
  },
  {
   "cell_type": "code",
   "execution_count": 208,
   "id": "7d5a4a0a",
   "metadata": {
    "papermill": {
     "duration": null,
     "end_time": null,
     "exception": null,
     "start_time": null,
     "status": "pending"
    },
    "tags": []
   },
   "outputs": [
    {
     "data": {
      "image/png": "[encoded data removed]",
      "text/plain": [
       "<Figure size 1200x800 with 1 Axes>"
      ]
     },
     "metadata": {},
     "output_type": "display_data"
    }
   ],
   "source": [
    "plt.figure(figsize=(12, 8))\n",
    "sns.boxplot(x='Transmission_Type', y='Price', data=df)\n",
    "plt.xticks(rotation=90)\n",
    "plt.title('Transmission Type vs. Price Statistics')\n",
    "plt.xlabel('Transmission Type')\n",
    "plt.ylabel('Price')\n",
    "plt.tight_layout()\n",
    "plt.show()"
   ]
  },
  {
   "cell_type": "markdown",
   "id": "e40d3a80",
   "metadata": {
    "papermill": {
     "duration": null,
     "end_time": null,
     "exception": null,
     "start_time": null,
     "status": "pending"
    },
    "tags": []
   },
   "source": [
    "## Engine üstüne işlemler"
   ]
  },
  {
   "cell_type": "code",
   "execution_count": 242,
   "id": "b0c94cf7-29d0-4e24-bb52-db43d3a3dc8e",
   "metadata": {},
   "outputs": [],
   "source": [
    "df[\"Engine\"]=df[\"Engine\"].str.replace(\"-\", \"\")"
   ]
  },
  {
   "cell_type": "code",
   "execution_count": 257,
   "id": "9aa31652-7899-48ec-b51c-a794071f6c5d",
   "metadata": {},
   "outputs": [],
   "source": [
    "pattern_L = r\"(\\d+(\\.\\d+)?)\\s*L\\b\"\n",
    "pattern_VI = r\"\\b(V\\d+|I\\d+|H\\d+)\\b\"\n",
    "pattern_cylinder = r\"(\\d+)\\s*cylinder\\b|\\b(\\d+)\\s*cyl\\b|\\b(\\d+)\\s*cyl\\w*\\b\"\n",
    "\n",
    "# Fonksiyonlar\n",
    "def extract_litre(engine):\n",
    "    match = re.search(pattern_L, engine)\n",
    "    return match.group(1) if match else None\n",
    "\n",
    "def extract_cylinder_arrangement(engine):\n",
    "    match_VI = re.findall(pattern_VI, engine, flags=re.IGNORECASE)\n",
    "    match_cylinder = re.findall(pattern_cylinder, engine, flags=re.IGNORECASE)\n",
    "    \n",
    "    if match_VI:\n",
    "        return match_VI[-1]  # En son bulunan V veya I desenini döndür\n",
    "    elif match_cylinder:\n",
    "        for match in match_cylinder[0]:\n",
    "            if match:\n",
    "                return f\"{match} Cylinder\"  # Yakalanan silindir düzenini döndür\n",
    "    else:\n",
    "        return None\n",
    "\n",
    "# Uygulama\n",
    "df['Litre'] = df['Engine'].apply(extract_litre)\n",
    "df.Litre = df.Litre.astype(float)\n",
    "df['Cylindder_Arrangement'] = df['Engine'].apply(extract_cylinder_arrangement)"
   ]
  },
  {
   "cell_type": "code",
   "execution_count": 259,
   "id": "e26dd6f9-40c1-4bbb-bc52-645e8e3711a9",
   "metadata": {},
   "outputs": [],
   "source": [
    "df[df.Cylindder_Arrangement.isna()==True]  # mesela burda elektrikli araçların litre türünden motor hacmi olmazmış ynai yokmuş aslında bunlar drop edilebilir\n",
    "#ama ben 0 ile dolduracağım\n",
    "df.Litre = df.Litre2.fillna(0)"
   ]
  },
  {
   "cell_type": "code",
   "execution_count": 265,
   "id": "7745e615-65c4-4b5b-b886-37abbaf9c7d6",
   "metadata": {},
   "outputs": [
    {
     "data": {
      "text/plain": [
       "Engine\n",
       "Electric                                              149\n",
       "2.0L                                                   29\n",
       "2.5L                                                    7\n",
       "Electric Motor                                          5\n",
       "Electric Motor Electric Fuel System                     3\n",
       "0.0                                                     2\n",
       "3.6L                                                    2\n",
       "382.0HP Electric Motor Electric Fuel System             1\n",
       "0 0.0                                                   1\n",
       "6.0L W12 48V MPFI DOHC Twin Turbo                       1\n",
       "Turbocharged Gas 1.5L/92                                1\n",
       "NOT SPECIFIED NOT SPECIFIED                             1\n",
       "6.0L W12 48V MPFI DOHC Twin Turbo Flexible Fuel         1\n",
       "3.0L                                                    1\n",
       "0 MOTOR AC PERMANENT MAGNET                             1\n",
       "Dual Motor: Fr AC Induction/Rr AC Permanent Magnet      1\n",
       "Name: count, dtype: int64"
      ]
     },
     "execution_count": 265,
     "metadata": {},
     "output_type": "execute_result"
    }
   ],
   "source": [
    "df[df.Cylindder_Arrangement.isna()==True][\"Engine\"].value_counts()"
   ]
  },
  {
   "cell_type": "code",
   "execution_count": 272,
   "id": "49a3ce3c-a309-404f-b284-b707df1765dd",
   "metadata": {},
   "outputs": [],
   "source": [
    "df.Cylindder_Arrangement = df.Cylindder_Arrangement.str.replace(\"4 Cylinder\", \"I4\").replace(\"6 Cylinder\", \"V6\").replace(\"8 Cylinder\", \"V8\").replace(\"10 Cylinder\", \"V10\")"
   ]
  },
  {
   "cell_type": "code",
   "execution_count": 275,
   "id": "ed590412-5147-47b2-bb98-7e130ea449f3",
   "metadata": {},
   "outputs": [
    {
     "data": {
      "text/html": [
       "<div>\n",
       "<style scoped>\n",
       "    .dataframe tbody tr th:only-of-type {\n",
       "        vertical-align: middle;\n",
       "    }\n",
       "\n",
       "    .dataframe tbody tr th {\n",
       "        vertical-align: top;\n",
       "    }\n",
       "\n",
       "    .dataframe thead th {\n",
       "        text-align: right;\n",
       "    }\n",
       "</style>\n",
       "<table border=\"1\" class=\"dataframe\">\n",
       "  <thead>\n",
       "    <tr style=\"text-align: right;\">\n",
       "      <th></th>\n",
       "      <th>Year</th>\n",
       "      <th>Make</th>\n",
       "      <th>Model</th>\n",
       "      <th>Used/New</th>\n",
       "      <th>Price</th>\n",
       "      <th>ConsumerRating</th>\n",
       "      <th>ConsumerReviews</th>\n",
       "      <th>SellerType</th>\n",
       "      <th>SellerName</th>\n",
       "      <th>SellerRating</th>\n",
       "      <th>SellerReviews</th>\n",
       "      <th>StreetName</th>\n",
       "      <th>State</th>\n",
       "      <th>Zipcode</th>\n",
       "      <th>DealType</th>\n",
       "      <th>ComfortRating</th>\n",
       "      <th>InteriorDesignRating</th>\n",
       "      <th>PerformanceRating</th>\n",
       "      <th>ValueForMoneyRating</th>\n",
       "      <th>ExteriorStylingRating</th>\n",
       "      <th>ReliabilityRating</th>\n",
       "      <th>ExteriorColor</th>\n",
       "      <th>InteriorColor</th>\n",
       "      <th>Drivetrain</th>\n",
       "      <th>MinMPG</th>\n",
       "      <th>MaxMPG</th>\n",
       "      <th>FuelType</th>\n",
       "      <th>Transmission</th>\n",
       "      <th>Engine</th>\n",
       "      <th>VIN</th>\n",
       "      <th>Stock#</th>\n",
       "      <th>Mileage</th>\n",
       "      <th>Speed_Type</th>\n",
       "      <th>Transmission_Type</th>\n",
       "      <th>Cylindder_Arrangement</th>\n",
       "      <th>Litre</th>\n",
       "    </tr>\n",
       "  </thead>\n",
       "  <tbody>\n",
       "    <tr>\n",
       "      <th>45</th>\n",
       "      <td>2017</td>\n",
       "      <td>Tesla</td>\n",
       "      <td>Model S 75</td>\n",
       "      <td>Used</td>\n",
       "      <td>47.00</td>\n",
       "      <td>4.60</td>\n",
       "      <td>37</td>\n",
       "      <td>Private</td>\n",
       "      <td>Kenny</td>\n",
       "      <td>4.20</td>\n",
       "      <td>380</td>\n",
       "      <td>Gallatin</td>\n",
       "      <td>TN</td>\n",
       "      <td>37066</td>\n",
       "      <td>Good</td>\n",
       "      <td>4.70</td>\n",
       "      <td>4.40</td>\n",
       "      <td>4.90</td>\n",
       "      <td>4.10</td>\n",
       "      <td>4.70</td>\n",
       "      <td>4.50</td>\n",
       "      <td>Silver</td>\n",
       "      <td>White</td>\n",
       "      <td>RWD</td>\n",
       "      <td>0</td>\n",
       "      <td>0</td>\n",
       "      <td>Electric Fuel System</td>\n",
       "      <td>automatic</td>\n",
       "      <td>382.0HP Electric Motor Electric Fuel System</td>\n",
       "      <td>5YJSA1E17HF196111</td>\n",
       "      <td>–</td>\n",
       "      <td>84000</td>\n",
       "      <td>0</td>\n",
       "      <td>auto</td>\n",
       "      <td>None</td>\n",
       "      <td>0.00</td>\n",
       "    </tr>\n",
       "    <tr>\n",
       "      <th>163</th>\n",
       "      <td>2020</td>\n",
       "      <td>Tesla</td>\n",
       "      <td>Model Y Long Range</td>\n",
       "      <td>Used</td>\n",
       "      <td>66.00</td>\n",
       "      <td>3.70</td>\n",
       "      <td>10</td>\n",
       "      <td>Dealer</td>\n",
       "      <td>Victory Mitsubishi</td>\n",
       "      <td>3.40</td>\n",
       "      <td>472</td>\n",
       "      <td>4070 Boston rd Bronx</td>\n",
       "      <td>NY</td>\n",
       "      <td>10475</td>\n",
       "      <td>Great</td>\n",
       "      <td>3.90</td>\n",
       "      <td>3.80</td>\n",
       "      <td>4.10</td>\n",
       "      <td>3.30</td>\n",
       "      <td>3.80</td>\n",
       "      <td>4.00</td>\n",
       "      <td>Blue</td>\n",
       "      <td>–</td>\n",
       "      <td>AWD</td>\n",
       "      <td>127</td>\n",
       "      <td>114</td>\n",
       "      <td>Electric</td>\n",
       "      <td>1 speed automatic</td>\n",
       "      <td>Electric</td>\n",
       "      <td>5YJYGDEE8LF049382</td>\n",
       "      <td>17666</td>\n",
       "      <td>9561</td>\n",
       "      <td>1</td>\n",
       "      <td>auto</td>\n",
       "      <td>None</td>\n",
       "      <td>0.00</td>\n",
       "    </tr>\n",
       "    <tr>\n",
       "      <th>171</th>\n",
       "      <td>2021</td>\n",
       "      <td>Tesla</td>\n",
       "      <td>Model Y Long Range</td>\n",
       "      <td>Used</td>\n",
       "      <td>71.28</td>\n",
       "      <td>4.00</td>\n",
       "      <td>15</td>\n",
       "      <td>Dealer</td>\n",
       "      <td>AutoFair Honda</td>\n",
       "      <td>4.80</td>\n",
       "      <td>3306</td>\n",
       "      <td>200 Keller Street Manchester</td>\n",
       "      <td>NH</td>\n",
       "      <td>03103</td>\n",
       "      <td>Good</td>\n",
       "      <td>4.10</td>\n",
       "      <td>4.20</td>\n",
       "      <td>4.30</td>\n",
       "      <td>3.70</td>\n",
       "      <td>4.20</td>\n",
       "      <td>3.80</td>\n",
       "      <td>Pearl White Multi</td>\n",
       "      <td>White / Black</td>\n",
       "      <td>AWD</td>\n",
       "      <td>131</td>\n",
       "      <td>117</td>\n",
       "      <td>Electric</td>\n",
       "      <td>1 speed automatic</td>\n",
       "      <td>Electric</td>\n",
       "      <td>5YJYGDEE4MF086057</td>\n",
       "      <td>HM11774C</td>\n",
       "      <td>15002</td>\n",
       "      <td>1</td>\n",
       "      <td>auto</td>\n",
       "      <td>None</td>\n",
       "      <td>0.00</td>\n",
       "    </tr>\n",
       "    <tr>\n",
       "      <th>177</th>\n",
       "      <td>2020</td>\n",
       "      <td>Tesla</td>\n",
       "      <td>Model Y Long Range</td>\n",
       "      <td>Used</td>\n",
       "      <td>73.99</td>\n",
       "      <td>3.70</td>\n",
       "      <td>10</td>\n",
       "      <td>Dealer</td>\n",
       "      <td>Gilroy Chevrolet</td>\n",
       "      <td>4.60</td>\n",
       "      <td>143</td>\n",
       "      <td>6720 Automall Ct Gilroy</td>\n",
       "      <td>CA</td>\n",
       "      <td>95020</td>\n",
       "      <td>Good</td>\n",
       "      <td>3.90</td>\n",
       "      <td>3.80</td>\n",
       "      <td>4.10</td>\n",
       "      <td>3.30</td>\n",
       "      <td>3.80</td>\n",
       "      <td>4.00</td>\n",
       "      <td>White</td>\n",
       "      <td>White / Black</td>\n",
       "      <td>AWD</td>\n",
       "      <td>127</td>\n",
       "      <td>114</td>\n",
       "      <td>Electric</td>\n",
       "      <td>1 speed automatic</td>\n",
       "      <td>Electric</td>\n",
       "      <td>5YJYGDEEXLF020479</td>\n",
       "      <td>LF020479T</td>\n",
       "      <td>12332</td>\n",
       "      <td>1</td>\n",
       "      <td>auto</td>\n",
       "      <td>None</td>\n",
       "      <td>0.00</td>\n",
       "    </tr>\n",
       "    <tr>\n",
       "      <th>285</th>\n",
       "      <td>2021</td>\n",
       "      <td>Tesla</td>\n",
       "      <td>Model Y Performance</td>\n",
       "      <td>Used</td>\n",
       "      <td>74.80</td>\n",
       "      <td>4.00</td>\n",
       "      <td>15</td>\n",
       "      <td>Dealer</td>\n",
       "      <td>INFINITI of San Antonio</td>\n",
       "      <td>4.70</td>\n",
       "      <td>507</td>\n",
       "      <td>12150 I-10 San Antonio</td>\n",
       "      <td>TX</td>\n",
       "      <td>78230</td>\n",
       "      <td>Good</td>\n",
       "      <td>4.10</td>\n",
       "      <td>4.20</td>\n",
       "      <td>4.30</td>\n",
       "      <td>3.70</td>\n",
       "      <td>4.20</td>\n",
       "      <td>3.80</td>\n",
       "      <td>Pearl White Multi</td>\n",
       "      <td>White / Black</td>\n",
       "      <td>AWD</td>\n",
       "      <td>115</td>\n",
       "      <td>106</td>\n",
       "      <td>Electric</td>\n",
       "      <td>1 speed automatic</td>\n",
       "      <td>Electric</td>\n",
       "      <td>5YJYGDEFXMF076271</td>\n",
       "      <td>MF076271</td>\n",
       "      <td>12708</td>\n",
       "      <td>1</td>\n",
       "      <td>auto</td>\n",
       "      <td>None</td>\n",
       "      <td>0.00</td>\n",
       "    </tr>\n",
       "    <tr>\n",
       "      <th>...</th>\n",
       "      <td>...</td>\n",
       "      <td>...</td>\n",
       "      <td>...</td>\n",
       "      <td>...</td>\n",
       "      <td>...</td>\n",
       "      <td>...</td>\n",
       "      <td>...</td>\n",
       "      <td>...</td>\n",
       "      <td>...</td>\n",
       "      <td>...</td>\n",
       "      <td>...</td>\n",
       "      <td>...</td>\n",
       "      <td>...</td>\n",
       "      <td>...</td>\n",
       "      <td>...</td>\n",
       "      <td>...</td>\n",
       "      <td>...</td>\n",
       "      <td>...</td>\n",
       "      <td>...</td>\n",
       "      <td>...</td>\n",
       "      <td>...</td>\n",
       "      <td>...</td>\n",
       "      <td>...</td>\n",
       "      <td>...</td>\n",
       "      <td>...</td>\n",
       "      <td>...</td>\n",
       "      <td>...</td>\n",
       "      <td>...</td>\n",
       "      <td>...</td>\n",
       "      <td>...</td>\n",
       "      <td>...</td>\n",
       "      <td>...</td>\n",
       "      <td>...</td>\n",
       "      <td>...</td>\n",
       "      <td>...</td>\n",
       "      <td>...</td>\n",
       "    </tr>\n",
       "    <tr>\n",
       "      <th>8252</th>\n",
       "      <td>2019</td>\n",
       "      <td>Hyundai</td>\n",
       "      <td>Kona EV Limited</td>\n",
       "      <td>Used</td>\n",
       "      <td>31.98</td>\n",
       "      <td>4.80</td>\n",
       "      <td>13</td>\n",
       "      <td>Dealer</td>\n",
       "      <td>Bill Luke Tempe</td>\n",
       "      <td>4.80</td>\n",
       "      <td>1105</td>\n",
       "      <td>7833 S Autoplex Loop Tempe</td>\n",
       "      <td>AZ</td>\n",
       "      <td>85284</td>\n",
       "      <td>Good</td>\n",
       "      <td>4.80</td>\n",
       "      <td>4.90</td>\n",
       "      <td>4.90</td>\n",
       "      <td>4.80</td>\n",
       "      <td>4.70</td>\n",
       "      <td>4.80</td>\n",
       "      <td>Galactic Gray</td>\n",
       "      <td>Black</td>\n",
       "      <td>FWD</td>\n",
       "      <td>132</td>\n",
       "      <td>108</td>\n",
       "      <td>Electric</td>\n",
       "      <td>1 speed automatic</td>\n",
       "      <td>Electric</td>\n",
       "      <td>KM8K33AG8KU051279</td>\n",
       "      <td>BF25217</td>\n",
       "      <td>48116</td>\n",
       "      <td>1</td>\n",
       "      <td>auto</td>\n",
       "      <td>None</td>\n",
       "      <td>0.00</td>\n",
       "    </tr>\n",
       "    <tr>\n",
       "      <th>8279</th>\n",
       "      <td>2022</td>\n",
       "      <td>Hyundai</td>\n",
       "      <td>IONIQ 5 SE</td>\n",
       "      <td>Used</td>\n",
       "      <td>55.00</td>\n",
       "      <td>5.00</td>\n",
       "      <td>6</td>\n",
       "      <td>Dealer</td>\n",
       "      <td>Hyundai of Palatine</td>\n",
       "      <td>4.50</td>\n",
       "      <td>481</td>\n",
       "      <td>221 E Lake Cook Rd Palatine</td>\n",
       "      <td>IL</td>\n",
       "      <td>60074</td>\n",
       "      <td>Good</td>\n",
       "      <td>5.00</td>\n",
       "      <td>5.00</td>\n",
       "      <td>4.70</td>\n",
       "      <td>5.00</td>\n",
       "      <td>5.00</td>\n",
       "      <td>5.00</td>\n",
       "      <td>Phantom Black</td>\n",
       "      <td>Gray</td>\n",
       "      <td>AWD</td>\n",
       "      <td>110</td>\n",
       "      <td>87</td>\n",
       "      <td>Electric</td>\n",
       "      <td>automatic</td>\n",
       "      <td>Electric</td>\n",
       "      <td>KM8KMDAF7NU084241</td>\n",
       "      <td>D818</td>\n",
       "      <td>121</td>\n",
       "      <td>0</td>\n",
       "      <td>auto</td>\n",
       "      <td>None</td>\n",
       "      <td>0.00</td>\n",
       "    </tr>\n",
       "    <tr>\n",
       "      <th>8351</th>\n",
       "      <td>2020</td>\n",
       "      <td>Tesla</td>\n",
       "      <td>Model Y Long Range</td>\n",
       "      <td>Used</td>\n",
       "      <td>64.99</td>\n",
       "      <td>3.70</td>\n",
       "      <td>10</td>\n",
       "      <td>Dealer</td>\n",
       "      <td>Dallas Autos Direct</td>\n",
       "      <td>4.40</td>\n",
       "      <td>333</td>\n",
       "      <td>3228 Skylane Dr Carrollton</td>\n",
       "      <td>TX</td>\n",
       "      <td>75006</td>\n",
       "      <td>Good</td>\n",
       "      <td>3.90</td>\n",
       "      <td>3.80</td>\n",
       "      <td>4.10</td>\n",
       "      <td>3.30</td>\n",
       "      <td>3.80</td>\n",
       "      <td>4.00</td>\n",
       "      <td>Black</td>\n",
       "      <td>Black</td>\n",
       "      <td>AWD</td>\n",
       "      <td>127</td>\n",
       "      <td>114</td>\n",
       "      <td>Electric</td>\n",
       "      <td>1 speed automatic</td>\n",
       "      <td>Electric</td>\n",
       "      <td>5YJYGDEE1LF018636</td>\n",
       "      <td>LF018636</td>\n",
       "      <td>33077</td>\n",
       "      <td>1</td>\n",
       "      <td>auto</td>\n",
       "      <td>None</td>\n",
       "      <td>0.00</td>\n",
       "    </tr>\n",
       "    <tr>\n",
       "      <th>8388</th>\n",
       "      <td>2018</td>\n",
       "      <td>Tesla</td>\n",
       "      <td>Model X 100D</td>\n",
       "      <td>Used</td>\n",
       "      <td>82.35</td>\n",
       "      <td>4.50</td>\n",
       "      <td>15</td>\n",
       "      <td>Dealer</td>\n",
       "      <td>Sheehy Ford Lincoln of Gaithersburg</td>\n",
       "      <td>4.90</td>\n",
       "      <td>3110</td>\n",
       "      <td>901 N. Frederick Ave. Gaithersburg</td>\n",
       "      <td>MD</td>\n",
       "      <td>20879</td>\n",
       "      <td>Fair</td>\n",
       "      <td>4.60</td>\n",
       "      <td>4.60</td>\n",
       "      <td>4.70</td>\n",
       "      <td>4.30</td>\n",
       "      <td>4.90</td>\n",
       "      <td>4.10</td>\n",
       "      <td>Deep Blue Metallic</td>\n",
       "      <td>Black</td>\n",
       "      <td>AWD</td>\n",
       "      <td>86</td>\n",
       "      <td>89</td>\n",
       "      <td>Electric</td>\n",
       "      <td>1 speed automatic</td>\n",
       "      <td>Electric</td>\n",
       "      <td>5YJXCBE2XJF102386</td>\n",
       "      <td>CMA2543A</td>\n",
       "      <td>41321</td>\n",
       "      <td>1</td>\n",
       "      <td>auto</td>\n",
       "      <td>None</td>\n",
       "      <td>0.00</td>\n",
       "    </tr>\n",
       "    <tr>\n",
       "      <th>8491</th>\n",
       "      <td>2019</td>\n",
       "      <td>Tesla</td>\n",
       "      <td>Model 3 Long Range</td>\n",
       "      <td>Used</td>\n",
       "      <td>55.00</td>\n",
       "      <td>4.90</td>\n",
       "      <td>33</td>\n",
       "      <td>Dealer</td>\n",
       "      <td>Delaware Cadillac, Subaru, Kia</td>\n",
       "      <td>4.80</td>\n",
       "      <td>944</td>\n",
       "      <td>1606 Pennsylvania Ave Wilmington</td>\n",
       "      <td>DE</td>\n",
       "      <td>19806</td>\n",
       "      <td>Good</td>\n",
       "      <td>4.90</td>\n",
       "      <td>4.90</td>\n",
       "      <td>5.00</td>\n",
       "      <td>4.80</td>\n",
       "      <td>4.90</td>\n",
       "      <td>5.00</td>\n",
       "      <td>Red Multi</td>\n",
       "      <td>Black</td>\n",
       "      <td>RWD</td>\n",
       "      <td>136</td>\n",
       "      <td>123</td>\n",
       "      <td>Electric</td>\n",
       "      <td>1 speed automatic</td>\n",
       "      <td>Electric</td>\n",
       "      <td>5YJ3E1EA7KF329501</td>\n",
       "      <td>EV1837P</td>\n",
       "      <td>7909</td>\n",
       "      <td>1</td>\n",
       "      <td>auto</td>\n",
       "      <td>None</td>\n",
       "      <td>0.00</td>\n",
       "    </tr>\n",
       "  </tbody>\n",
       "</table>\n",
       "<p>206 rows × 36 columns</p>\n",
       "</div>"
      ],
      "text/plain": [
       "      Year     Make                Model Used/New  Price  ConsumerRating  \\\n",
       "45    2017    Tesla           Model S 75     Used  47.00            4.60   \n",
       "163   2020    Tesla   Model Y Long Range     Used  66.00            3.70   \n",
       "171   2021    Tesla   Model Y Long Range     Used  71.28            4.00   \n",
       "177   2020    Tesla   Model Y Long Range     Used  73.99            3.70   \n",
       "285   2021    Tesla  Model Y Performance     Used  74.80            4.00   \n",
       "...    ...      ...                  ...      ...    ...             ...   \n",
       "8252  2019  Hyundai      Kona EV Limited     Used  31.98            4.80   \n",
       "8279  2022  Hyundai           IONIQ 5 SE     Used  55.00            5.00   \n",
       "8351  2020    Tesla   Model Y Long Range     Used  64.99            3.70   \n",
       "8388  2018    Tesla         Model X 100D     Used  82.35            4.50   \n",
       "8491  2019    Tesla   Model 3 Long Range     Used  55.00            4.90   \n",
       "\n",
       "      ConsumerReviews SellerType                           SellerName  \\\n",
       "45                 37    Private                                Kenny   \n",
       "163                10     Dealer                   Victory Mitsubishi   \n",
       "171                15     Dealer                       AutoFair Honda   \n",
       "177                10     Dealer                     Gilroy Chevrolet   \n",
       "285                15     Dealer              INFINITI of San Antonio   \n",
       "...               ...        ...                                  ...   \n",
       "8252               13     Dealer                      Bill Luke Tempe   \n",
       "8279                6     Dealer                  Hyundai of Palatine   \n",
       "8351               10     Dealer                  Dallas Autos Direct   \n",
       "8388               15     Dealer  Sheehy Ford Lincoln of Gaithersburg   \n",
       "8491               33     Dealer       Delaware Cadillac, Subaru, Kia   \n",
       "\n",
       "      SellerRating  SellerReviews                          StreetName State  \\\n",
       "45            4.20            380                            Gallatin    TN   \n",
       "163           3.40            472                4070 Boston rd Bronx    NY   \n",
       "171           4.80           3306        200 Keller Street Manchester    NH   \n",
       "177           4.60            143             6720 Automall Ct Gilroy    CA   \n",
       "285           4.70            507              12150 I-10 San Antonio    TX   \n",
       "...            ...            ...                                 ...   ...   \n",
       "8252          4.80           1105          7833 S Autoplex Loop Tempe    AZ   \n",
       "8279          4.50            481         221 E Lake Cook Rd Palatine    IL   \n",
       "8351          4.40            333          3228 Skylane Dr Carrollton    TX   \n",
       "8388          4.90           3110  901 N. Frederick Ave. Gaithersburg    MD   \n",
       "8491          4.80            944    1606 Pennsylvania Ave Wilmington    DE   \n",
       "\n",
       "     Zipcode DealType  ComfortRating  InteriorDesignRating  PerformanceRating  \\\n",
       "45     37066     Good           4.70                  4.40               4.90   \n",
       "163    10475    Great           3.90                  3.80               4.10   \n",
       "171    03103     Good           4.10                  4.20               4.30   \n",
       "177    95020     Good           3.90                  3.80               4.10   \n",
       "285    78230     Good           4.10                  4.20               4.30   \n",
       "...      ...      ...            ...                   ...                ...   \n",
       "8252   85284     Good           4.80                  4.90               4.90   \n",
       "8279   60074     Good           5.00                  5.00               4.70   \n",
       "8351   75006     Good           3.90                  3.80               4.10   \n",
       "8388   20879     Fair           4.60                  4.60               4.70   \n",
       "8491   19806     Good           4.90                  4.90               5.00   \n",
       "\n",
       "      ValueForMoneyRating  ExteriorStylingRating  ReliabilityRating  \\\n",
       "45                   4.10                   4.70               4.50   \n",
       "163                  3.30                   3.80               4.00   \n",
       "171                  3.70                   4.20               3.80   \n",
       "177                  3.30                   3.80               4.00   \n",
       "285                  3.70                   4.20               3.80   \n",
       "...                   ...                    ...                ...   \n",
       "8252                 4.80                   4.70               4.80   \n",
       "8279                 5.00                   5.00               5.00   \n",
       "8351                 3.30                   3.80               4.00   \n",
       "8388                 4.30                   4.90               4.10   \n",
       "8491                 4.80                   4.90               5.00   \n",
       "\n",
       "           ExteriorColor  InteriorColor Drivetrain  MinMPG  MaxMPG  \\\n",
       "45                Silver          White        RWD       0       0   \n",
       "163                 Blue              –        AWD     127     114   \n",
       "171    Pearl White Multi  White / Black        AWD     131     117   \n",
       "177                White  White / Black        AWD     127     114   \n",
       "285    Pearl White Multi  White / Black        AWD     115     106   \n",
       "...                  ...            ...        ...     ...     ...   \n",
       "8252       Galactic Gray          Black        FWD     132     108   \n",
       "8279       Phantom Black           Gray        AWD     110      87   \n",
       "8351               Black          Black        AWD     127     114   \n",
       "8388  Deep Blue Metallic          Black        AWD      86      89   \n",
       "8491           Red Multi          Black        RWD     136     123   \n",
       "\n",
       "                  FuelType       Transmission  \\\n",
       "45    Electric Fuel System          automatic   \n",
       "163               Electric  1 speed automatic   \n",
       "171               Electric  1 speed automatic   \n",
       "177               Electric  1 speed automatic   \n",
       "285               Electric  1 speed automatic   \n",
       "...                    ...                ...   \n",
       "8252              Electric  1 speed automatic   \n",
       "8279              Electric          automatic   \n",
       "8351              Electric  1 speed automatic   \n",
       "8388              Electric  1 speed automatic   \n",
       "8491              Electric  1 speed automatic   \n",
       "\n",
       "                                           Engine                VIN  \\\n",
       "45    382.0HP Electric Motor Electric Fuel System  5YJSA1E17HF196111   \n",
       "163                                      Electric  5YJYGDEE8LF049382   \n",
       "171                                      Electric  5YJYGDEE4MF086057   \n",
       "177                                      Electric  5YJYGDEEXLF020479   \n",
       "285                                      Electric  5YJYGDEFXMF076271   \n",
       "...                                           ...                ...   \n",
       "8252                                     Electric  KM8K33AG8KU051279   \n",
       "8279                                     Electric  KM8KMDAF7NU084241   \n",
       "8351                                     Electric  5YJYGDEE1LF018636   \n",
       "8388                                     Electric  5YJXCBE2XJF102386   \n",
       "8491                                     Electric  5YJ3E1EA7KF329501   \n",
       "\n",
       "         Stock#  Mileage  Speed_Type Transmission_Type Cylindder_Arrangement  \\\n",
       "45            –    84000           0              auto                  None   \n",
       "163       17666     9561           1              auto                  None   \n",
       "171    HM11774C    15002           1              auto                  None   \n",
       "177   LF020479T    12332           1              auto                  None   \n",
       "285    MF076271    12708           1              auto                  None   \n",
       "...         ...      ...         ...               ...                   ...   \n",
       "8252    BF25217    48116           1              auto                  None   \n",
       "8279       D818      121           0              auto                  None   \n",
       "8351   LF018636    33077           1              auto                  None   \n",
       "8388   CMA2543A    41321           1              auto                  None   \n",
       "8491    EV1837P     7909           1              auto                  None   \n",
       "\n",
       "      Litre  \n",
       "45     0.00  \n",
       "163    0.00  \n",
       "171    0.00  \n",
       "177    0.00  \n",
       "285    0.00  \n",
       "...     ...  \n",
       "8252   0.00  \n",
       "8279   0.00  \n",
       "8351   0.00  \n",
       "8388   0.00  \n",
       "8491   0.00  \n",
       "\n",
       "[206 rows x 36 columns]"
      ]
     },
     "execution_count": 275,
     "metadata": {},
     "output_type": "execute_result"
    }
   ],
   "source": [
    "df[df.Cylindder_Arrangement.isna() == True]"
   ]
  },
  {
   "cell_type": "code",
   "execution_count": 274,
   "id": "a63e8d0d-3d3e-4c16-becd-31ae1fde3800",
   "metadata": {},
   "outputs": [
    {
     "data": {
      "text/plain": [
       "Cylindder_Arrangement\n",
       "I4      3646\n",
       "V6      2780\n",
       "V8      1001\n",
       "I6       407\n",
       "H4       242\n",
       "None     206\n",
       "H6        32\n",
       "I3        22\n",
       "V10       18\n",
       "I5         7\n",
       "Name: count, dtype: int64"
      ]
     },
     "execution_count": 274,
     "metadata": {},
     "output_type": "execute_result"
    }
   ],
   "source": [
    "df.Cylindder_Arrangement.value_counts(dropna = False)  #artık 9 tane unique değerimiz var ve de 206 tane none değerimiz"
   ]
  },
  {
   "cell_type": "code",
   "execution_count": 277,
   "id": "75c8cf73-b2f8-4d99-b0d4-25a53b8756f7",
   "metadata": {},
   "outputs": [
    {
     "data": {
      "text/html": [
       "<div>\n",
       "<style scoped>\n",
       "    .dataframe tbody tr th:only-of-type {\n",
       "        vertical-align: middle;\n",
       "    }\n",
       "\n",
       "    .dataframe tbody tr th {\n",
       "        vertical-align: top;\n",
       "    }\n",
       "\n",
       "    .dataframe thead th {\n",
       "        text-align: right;\n",
       "    }\n",
       "</style>\n",
       "<table border=\"1\" class=\"dataframe\">\n",
       "  <thead>\n",
       "    <tr style=\"text-align: right;\">\n",
       "      <th></th>\n",
       "      <th>Year</th>\n",
       "      <th>Make</th>\n",
       "      <th>Model</th>\n",
       "      <th>Used/New</th>\n",
       "      <th>Price</th>\n",
       "      <th>ConsumerRating</th>\n",
       "      <th>ConsumerReviews</th>\n",
       "      <th>SellerType</th>\n",
       "      <th>SellerName</th>\n",
       "      <th>SellerRating</th>\n",
       "      <th>SellerReviews</th>\n",
       "      <th>StreetName</th>\n",
       "      <th>State</th>\n",
       "      <th>Zipcode</th>\n",
       "      <th>DealType</th>\n",
       "      <th>ComfortRating</th>\n",
       "      <th>InteriorDesignRating</th>\n",
       "      <th>PerformanceRating</th>\n",
       "      <th>ValueForMoneyRating</th>\n",
       "      <th>ExteriorStylingRating</th>\n",
       "      <th>ReliabilityRating</th>\n",
       "      <th>ExteriorColor</th>\n",
       "      <th>InteriorColor</th>\n",
       "      <th>Drivetrain</th>\n",
       "      <th>MinMPG</th>\n",
       "      <th>MaxMPG</th>\n",
       "      <th>FuelType</th>\n",
       "      <th>Transmission</th>\n",
       "      <th>Engine</th>\n",
       "      <th>VIN</th>\n",
       "      <th>Stock#</th>\n",
       "      <th>Mileage</th>\n",
       "      <th>Speed_Type</th>\n",
       "      <th>Transmission_Type</th>\n",
       "      <th>Cylindder_Arrangement</th>\n",
       "      <th>Litre</th>\n",
       "    </tr>\n",
       "  </thead>\n",
       "  <tbody>\n",
       "    <tr>\n",
       "      <th>45</th>\n",
       "      <td>2017</td>\n",
       "      <td>Tesla</td>\n",
       "      <td>Model S 75</td>\n",
       "      <td>Used</td>\n",
       "      <td>47.00</td>\n",
       "      <td>4.60</td>\n",
       "      <td>37</td>\n",
       "      <td>Private</td>\n",
       "      <td>Kenny</td>\n",
       "      <td>4.20</td>\n",
       "      <td>380</td>\n",
       "      <td>Gallatin</td>\n",
       "      <td>TN</td>\n",
       "      <td>37066</td>\n",
       "      <td>Good</td>\n",
       "      <td>4.70</td>\n",
       "      <td>4.40</td>\n",
       "      <td>4.90</td>\n",
       "      <td>4.10</td>\n",
       "      <td>4.70</td>\n",
       "      <td>4.50</td>\n",
       "      <td>Silver</td>\n",
       "      <td>White</td>\n",
       "      <td>RWD</td>\n",
       "      <td>0</td>\n",
       "      <td>0</td>\n",
       "      <td>Electric Fuel System</td>\n",
       "      <td>automatic</td>\n",
       "      <td>382.0HP Electric Motor Electric Fuel System</td>\n",
       "      <td>5YJSA1E17HF196111</td>\n",
       "      <td>–</td>\n",
       "      <td>84000</td>\n",
       "      <td>0</td>\n",
       "      <td>auto</td>\n",
       "      <td>None</td>\n",
       "      <td>0.00</td>\n",
       "    </tr>\n",
       "    <tr>\n",
       "      <th>163</th>\n",
       "      <td>2020</td>\n",
       "      <td>Tesla</td>\n",
       "      <td>Model Y Long Range</td>\n",
       "      <td>Used</td>\n",
       "      <td>66.00</td>\n",
       "      <td>3.70</td>\n",
       "      <td>10</td>\n",
       "      <td>Dealer</td>\n",
       "      <td>Victory Mitsubishi</td>\n",
       "      <td>3.40</td>\n",
       "      <td>472</td>\n",
       "      <td>4070 Boston rd Bronx</td>\n",
       "      <td>NY</td>\n",
       "      <td>10475</td>\n",
       "      <td>Great</td>\n",
       "      <td>3.90</td>\n",
       "      <td>3.80</td>\n",
       "      <td>4.10</td>\n",
       "      <td>3.30</td>\n",
       "      <td>3.80</td>\n",
       "      <td>4.00</td>\n",
       "      <td>Blue</td>\n",
       "      <td>–</td>\n",
       "      <td>AWD</td>\n",
       "      <td>127</td>\n",
       "      <td>114</td>\n",
       "      <td>Electric</td>\n",
       "      <td>1 speed automatic</td>\n",
       "      <td>Electric</td>\n",
       "      <td>5YJYGDEE8LF049382</td>\n",
       "      <td>17666</td>\n",
       "      <td>9561</td>\n",
       "      <td>1</td>\n",
       "      <td>auto</td>\n",
       "      <td>None</td>\n",
       "      <td>0.00</td>\n",
       "    </tr>\n",
       "    <tr>\n",
       "      <th>171</th>\n",
       "      <td>2021</td>\n",
       "      <td>Tesla</td>\n",
       "      <td>Model Y Long Range</td>\n",
       "      <td>Used</td>\n",
       "      <td>71.28</td>\n",
       "      <td>4.00</td>\n",
       "      <td>15</td>\n",
       "      <td>Dealer</td>\n",
       "      <td>AutoFair Honda</td>\n",
       "      <td>4.80</td>\n",
       "      <td>3306</td>\n",
       "      <td>200 Keller Street Manchester</td>\n",
       "      <td>NH</td>\n",
       "      <td>03103</td>\n",
       "      <td>Good</td>\n",
       "      <td>4.10</td>\n",
       "      <td>4.20</td>\n",
       "      <td>4.30</td>\n",
       "      <td>3.70</td>\n",
       "      <td>4.20</td>\n",
       "      <td>3.80</td>\n",
       "      <td>Pearl White Multi</td>\n",
       "      <td>White / Black</td>\n",
       "      <td>AWD</td>\n",
       "      <td>131</td>\n",
       "      <td>117</td>\n",
       "      <td>Electric</td>\n",
       "      <td>1 speed automatic</td>\n",
       "      <td>Electric</td>\n",
       "      <td>5YJYGDEE4MF086057</td>\n",
       "      <td>HM11774C</td>\n",
       "      <td>15002</td>\n",
       "      <td>1</td>\n",
       "      <td>auto</td>\n",
       "      <td>None</td>\n",
       "      <td>0.00</td>\n",
       "    </tr>\n",
       "    <tr>\n",
       "      <th>177</th>\n",
       "      <td>2020</td>\n",
       "      <td>Tesla</td>\n",
       "      <td>Model Y Long Range</td>\n",
       "      <td>Used</td>\n",
       "      <td>73.99</td>\n",
       "      <td>3.70</td>\n",
       "      <td>10</td>\n",
       "      <td>Dealer</td>\n",
       "      <td>Gilroy Chevrolet</td>\n",
       "      <td>4.60</td>\n",
       "      <td>143</td>\n",
       "      <td>6720 Automall Ct Gilroy</td>\n",
       "      <td>CA</td>\n",
       "      <td>95020</td>\n",
       "      <td>Good</td>\n",
       "      <td>3.90</td>\n",
       "      <td>3.80</td>\n",
       "      <td>4.10</td>\n",
       "      <td>3.30</td>\n",
       "      <td>3.80</td>\n",
       "      <td>4.00</td>\n",
       "      <td>White</td>\n",
       "      <td>White / Black</td>\n",
       "      <td>AWD</td>\n",
       "      <td>127</td>\n",
       "      <td>114</td>\n",
       "      <td>Electric</td>\n",
       "      <td>1 speed automatic</td>\n",
       "      <td>Electric</td>\n",
       "      <td>5YJYGDEEXLF020479</td>\n",
       "      <td>LF020479T</td>\n",
       "      <td>12332</td>\n",
       "      <td>1</td>\n",
       "      <td>auto</td>\n",
       "      <td>None</td>\n",
       "      <td>0.00</td>\n",
       "    </tr>\n",
       "    <tr>\n",
       "      <th>285</th>\n",
       "      <td>2021</td>\n",
       "      <td>Tesla</td>\n",
       "      <td>Model Y Performance</td>\n",
       "      <td>Used</td>\n",
       "      <td>74.80</td>\n",
       "      <td>4.00</td>\n",
       "      <td>15</td>\n",
       "      <td>Dealer</td>\n",
       "      <td>INFINITI of San Antonio</td>\n",
       "      <td>4.70</td>\n",
       "      <td>507</td>\n",
       "      <td>12150 I-10 San Antonio</td>\n",
       "      <td>TX</td>\n",
       "      <td>78230</td>\n",
       "      <td>Good</td>\n",
       "      <td>4.10</td>\n",
       "      <td>4.20</td>\n",
       "      <td>4.30</td>\n",
       "      <td>3.70</td>\n",
       "      <td>4.20</td>\n",
       "      <td>3.80</td>\n",
       "      <td>Pearl White Multi</td>\n",
       "      <td>White / Black</td>\n",
       "      <td>AWD</td>\n",
       "      <td>115</td>\n",
       "      <td>106</td>\n",
       "      <td>Electric</td>\n",
       "      <td>1 speed automatic</td>\n",
       "      <td>Electric</td>\n",
       "      <td>5YJYGDEFXMF076271</td>\n",
       "      <td>MF076271</td>\n",
       "      <td>12708</td>\n",
       "      <td>1</td>\n",
       "      <td>auto</td>\n",
       "      <td>None</td>\n",
       "      <td>0.00</td>\n",
       "    </tr>\n",
       "    <tr>\n",
       "      <th>...</th>\n",
       "      <td>...</td>\n",
       "      <td>...</td>\n",
       "      <td>...</td>\n",
       "      <td>...</td>\n",
       "      <td>...</td>\n",
       "      <td>...</td>\n",
       "      <td>...</td>\n",
       "      <td>...</td>\n",
       "      <td>...</td>\n",
       "      <td>...</td>\n",
       "      <td>...</td>\n",
       "      <td>...</td>\n",
       "      <td>...</td>\n",
       "      <td>...</td>\n",
       "      <td>...</td>\n",
       "      <td>...</td>\n",
       "      <td>...</td>\n",
       "      <td>...</td>\n",
       "      <td>...</td>\n",
       "      <td>...</td>\n",
       "      <td>...</td>\n",
       "      <td>...</td>\n",
       "      <td>...</td>\n",
       "      <td>...</td>\n",
       "      <td>...</td>\n",
       "      <td>...</td>\n",
       "      <td>...</td>\n",
       "      <td>...</td>\n",
       "      <td>...</td>\n",
       "      <td>...</td>\n",
       "      <td>...</td>\n",
       "      <td>...</td>\n",
       "      <td>...</td>\n",
       "      <td>...</td>\n",
       "      <td>...</td>\n",
       "      <td>...</td>\n",
       "    </tr>\n",
       "    <tr>\n",
       "      <th>8252</th>\n",
       "      <td>2019</td>\n",
       "      <td>Hyundai</td>\n",
       "      <td>Kona EV Limited</td>\n",
       "      <td>Used</td>\n",
       "      <td>31.98</td>\n",
       "      <td>4.80</td>\n",
       "      <td>13</td>\n",
       "      <td>Dealer</td>\n",
       "      <td>Bill Luke Tempe</td>\n",
       "      <td>4.80</td>\n",
       "      <td>1105</td>\n",
       "      <td>7833 S Autoplex Loop Tempe</td>\n",
       "      <td>AZ</td>\n",
       "      <td>85284</td>\n",
       "      <td>Good</td>\n",
       "      <td>4.80</td>\n",
       "      <td>4.90</td>\n",
       "      <td>4.90</td>\n",
       "      <td>4.80</td>\n",
       "      <td>4.70</td>\n",
       "      <td>4.80</td>\n",
       "      <td>Galactic Gray</td>\n",
       "      <td>Black</td>\n",
       "      <td>FWD</td>\n",
       "      <td>132</td>\n",
       "      <td>108</td>\n",
       "      <td>Electric</td>\n",
       "      <td>1 speed automatic</td>\n",
       "      <td>Electric</td>\n",
       "      <td>KM8K33AG8KU051279</td>\n",
       "      <td>BF25217</td>\n",
       "      <td>48116</td>\n",
       "      <td>1</td>\n",
       "      <td>auto</td>\n",
       "      <td>None</td>\n",
       "      <td>0.00</td>\n",
       "    </tr>\n",
       "    <tr>\n",
       "      <th>8279</th>\n",
       "      <td>2022</td>\n",
       "      <td>Hyundai</td>\n",
       "      <td>IONIQ 5 SE</td>\n",
       "      <td>Used</td>\n",
       "      <td>55.00</td>\n",
       "      <td>5.00</td>\n",
       "      <td>6</td>\n",
       "      <td>Dealer</td>\n",
       "      <td>Hyundai of Palatine</td>\n",
       "      <td>4.50</td>\n",
       "      <td>481</td>\n",
       "      <td>221 E Lake Cook Rd Palatine</td>\n",
       "      <td>IL</td>\n",
       "      <td>60074</td>\n",
       "      <td>Good</td>\n",
       "      <td>5.00</td>\n",
       "      <td>5.00</td>\n",
       "      <td>4.70</td>\n",
       "      <td>5.00</td>\n",
       "      <td>5.00</td>\n",
       "      <td>5.00</td>\n",
       "      <td>Phantom Black</td>\n",
       "      <td>Gray</td>\n",
       "      <td>AWD</td>\n",
       "      <td>110</td>\n",
       "      <td>87</td>\n",
       "      <td>Electric</td>\n",
       "      <td>automatic</td>\n",
       "      <td>Electric</td>\n",
       "      <td>KM8KMDAF7NU084241</td>\n",
       "      <td>D818</td>\n",
       "      <td>121</td>\n",
       "      <td>0</td>\n",
       "      <td>auto</td>\n",
       "      <td>None</td>\n",
       "      <td>0.00</td>\n",
       "    </tr>\n",
       "    <tr>\n",
       "      <th>8351</th>\n",
       "      <td>2020</td>\n",
       "      <td>Tesla</td>\n",
       "      <td>Model Y Long Range</td>\n",
       "      <td>Used</td>\n",
       "      <td>64.99</td>\n",
       "      <td>3.70</td>\n",
       "      <td>10</td>\n",
       "      <td>Dealer</td>\n",
       "      <td>Dallas Autos Direct</td>\n",
       "      <td>4.40</td>\n",
       "      <td>333</td>\n",
       "      <td>3228 Skylane Dr Carrollton</td>\n",
       "      <td>TX</td>\n",
       "      <td>75006</td>\n",
       "      <td>Good</td>\n",
       "      <td>3.90</td>\n",
       "      <td>3.80</td>\n",
       "      <td>4.10</td>\n",
       "      <td>3.30</td>\n",
       "      <td>3.80</td>\n",
       "      <td>4.00</td>\n",
       "      <td>Black</td>\n",
       "      <td>Black</td>\n",
       "      <td>AWD</td>\n",
       "      <td>127</td>\n",
       "      <td>114</td>\n",
       "      <td>Electric</td>\n",
       "      <td>1 speed automatic</td>\n",
       "      <td>Electric</td>\n",
       "      <td>5YJYGDEE1LF018636</td>\n",
       "      <td>LF018636</td>\n",
       "      <td>33077</td>\n",
       "      <td>1</td>\n",
       "      <td>auto</td>\n",
       "      <td>None</td>\n",
       "      <td>0.00</td>\n",
       "    </tr>\n",
       "    <tr>\n",
       "      <th>8388</th>\n",
       "      <td>2018</td>\n",
       "      <td>Tesla</td>\n",
       "      <td>Model X 100D</td>\n",
       "      <td>Used</td>\n",
       "      <td>82.35</td>\n",
       "      <td>4.50</td>\n",
       "      <td>15</td>\n",
       "      <td>Dealer</td>\n",
       "      <td>Sheehy Ford Lincoln of Gaithersburg</td>\n",
       "      <td>4.90</td>\n",
       "      <td>3110</td>\n",
       "      <td>901 N. Frederick Ave. Gaithersburg</td>\n",
       "      <td>MD</td>\n",
       "      <td>20879</td>\n",
       "      <td>Fair</td>\n",
       "      <td>4.60</td>\n",
       "      <td>4.60</td>\n",
       "      <td>4.70</td>\n",
       "      <td>4.30</td>\n",
       "      <td>4.90</td>\n",
       "      <td>4.10</td>\n",
       "      <td>Deep Blue Metallic</td>\n",
       "      <td>Black</td>\n",
       "      <td>AWD</td>\n",
       "      <td>86</td>\n",
       "      <td>89</td>\n",
       "      <td>Electric</td>\n",
       "      <td>1 speed automatic</td>\n",
       "      <td>Electric</td>\n",
       "      <td>5YJXCBE2XJF102386</td>\n",
       "      <td>CMA2543A</td>\n",
       "      <td>41321</td>\n",
       "      <td>1</td>\n",
       "      <td>auto</td>\n",
       "      <td>None</td>\n",
       "      <td>0.00</td>\n",
       "    </tr>\n",
       "    <tr>\n",
       "      <th>8491</th>\n",
       "      <td>2019</td>\n",
       "      <td>Tesla</td>\n",
       "      <td>Model 3 Long Range</td>\n",
       "      <td>Used</td>\n",
       "      <td>55.00</td>\n",
       "      <td>4.90</td>\n",
       "      <td>33</td>\n",
       "      <td>Dealer</td>\n",
       "      <td>Delaware Cadillac, Subaru, Kia</td>\n",
       "      <td>4.80</td>\n",
       "      <td>944</td>\n",
       "      <td>1606 Pennsylvania Ave Wilmington</td>\n",
       "      <td>DE</td>\n",
       "      <td>19806</td>\n",
       "      <td>Good</td>\n",
       "      <td>4.90</td>\n",
       "      <td>4.90</td>\n",
       "      <td>5.00</td>\n",
       "      <td>4.80</td>\n",
       "      <td>4.90</td>\n",
       "      <td>5.00</td>\n",
       "      <td>Red Multi</td>\n",
       "      <td>Black</td>\n",
       "      <td>RWD</td>\n",
       "      <td>136</td>\n",
       "      <td>123</td>\n",
       "      <td>Electric</td>\n",
       "      <td>1 speed automatic</td>\n",
       "      <td>Electric</td>\n",
       "      <td>5YJ3E1EA7KF329501</td>\n",
       "      <td>EV1837P</td>\n",
       "      <td>7909</td>\n",
       "      <td>1</td>\n",
       "      <td>auto</td>\n",
       "      <td>None</td>\n",
       "      <td>0.00</td>\n",
       "    </tr>\n",
       "  </tbody>\n",
       "</table>\n",
       "<p>206 rows × 36 columns</p>\n",
       "</div>"
      ],
      "text/plain": [
       "      Year     Make                Model Used/New  Price  ConsumerRating  \\\n",
       "45    2017    Tesla           Model S 75     Used  47.00            4.60   \n",
       "163   2020    Tesla   Model Y Long Range     Used  66.00            3.70   \n",
       "171   2021    Tesla   Model Y Long Range     Used  71.28            4.00   \n",
       "177   2020    Tesla   Model Y Long Range     Used  73.99            3.70   \n",
       "285   2021    Tesla  Model Y Performance     Used  74.80            4.00   \n",
       "...    ...      ...                  ...      ...    ...             ...   \n",
       "8252  2019  Hyundai      Kona EV Limited     Used  31.98            4.80   \n",
       "8279  2022  Hyundai           IONIQ 5 SE     Used  55.00            5.00   \n",
       "8351  2020    Tesla   Model Y Long Range     Used  64.99            3.70   \n",
       "8388  2018    Tesla         Model X 100D     Used  82.35            4.50   \n",
       "8491  2019    Tesla   Model 3 Long Range     Used  55.00            4.90   \n",
       "\n",
       "      ConsumerReviews SellerType                           SellerName  \\\n",
       "45                 37    Private                                Kenny   \n",
       "163                10     Dealer                   Victory Mitsubishi   \n",
       "171                15     Dealer                       AutoFair Honda   \n",
       "177                10     Dealer                     Gilroy Chevrolet   \n",
       "285                15     Dealer              INFINITI of San Antonio   \n",
       "...               ...        ...                                  ...   \n",
       "8252               13     Dealer                      Bill Luke Tempe   \n",
       "8279                6     Dealer                  Hyundai of Palatine   \n",
       "8351               10     Dealer                  Dallas Autos Direct   \n",
       "8388               15     Dealer  Sheehy Ford Lincoln of Gaithersburg   \n",
       "8491               33     Dealer       Delaware Cadillac, Subaru, Kia   \n",
       "\n",
       "      SellerRating  SellerReviews                          StreetName State  \\\n",
       "45            4.20            380                            Gallatin    TN   \n",
       "163           3.40            472                4070 Boston rd Bronx    NY   \n",
       "171           4.80           3306        200 Keller Street Manchester    NH   \n",
       "177           4.60            143             6720 Automall Ct Gilroy    CA   \n",
       "285           4.70            507              12150 I-10 San Antonio    TX   \n",
       "...            ...            ...                                 ...   ...   \n",
       "8252          4.80           1105          7833 S Autoplex Loop Tempe    AZ   \n",
       "8279          4.50            481         221 E Lake Cook Rd Palatine    IL   \n",
       "8351          4.40            333          3228 Skylane Dr Carrollton    TX   \n",
       "8388          4.90           3110  901 N. Frederick Ave. Gaithersburg    MD   \n",
       "8491          4.80            944    1606 Pennsylvania Ave Wilmington    DE   \n",
       "\n",
       "     Zipcode DealType  ComfortRating  InteriorDesignRating  PerformanceRating  \\\n",
       "45     37066     Good           4.70                  4.40               4.90   \n",
       "163    10475    Great           3.90                  3.80               4.10   \n",
       "171    03103     Good           4.10                  4.20               4.30   \n",
       "177    95020     Good           3.90                  3.80               4.10   \n",
       "285    78230     Good           4.10                  4.20               4.30   \n",
       "...      ...      ...            ...                   ...                ...   \n",
       "8252   85284     Good           4.80                  4.90               4.90   \n",
       "8279   60074     Good           5.00                  5.00               4.70   \n",
       "8351   75006     Good           3.90                  3.80               4.10   \n",
       "8388   20879     Fair           4.60                  4.60               4.70   \n",
       "8491   19806     Good           4.90                  4.90               5.00   \n",
       "\n",
       "      ValueForMoneyRating  ExteriorStylingRating  ReliabilityRating  \\\n",
       "45                   4.10                   4.70               4.50   \n",
       "163                  3.30                   3.80               4.00   \n",
       "171                  3.70                   4.20               3.80   \n",
       "177                  3.30                   3.80               4.00   \n",
       "285                  3.70                   4.20               3.80   \n",
       "...                   ...                    ...                ...   \n",
       "8252                 4.80                   4.70               4.80   \n",
       "8279                 5.00                   5.00               5.00   \n",
       "8351                 3.30                   3.80               4.00   \n",
       "8388                 4.30                   4.90               4.10   \n",
       "8491                 4.80                   4.90               5.00   \n",
       "\n",
       "           ExteriorColor  InteriorColor Drivetrain  MinMPG  MaxMPG  \\\n",
       "45                Silver          White        RWD       0       0   \n",
       "163                 Blue              –        AWD     127     114   \n",
       "171    Pearl White Multi  White / Black        AWD     131     117   \n",
       "177                White  White / Black        AWD     127     114   \n",
       "285    Pearl White Multi  White / Black        AWD     115     106   \n",
       "...                  ...            ...        ...     ...     ...   \n",
       "8252       Galactic Gray          Black        FWD     132     108   \n",
       "8279       Phantom Black           Gray        AWD     110      87   \n",
       "8351               Black          Black        AWD     127     114   \n",
       "8388  Deep Blue Metallic          Black        AWD      86      89   \n",
       "8491           Red Multi          Black        RWD     136     123   \n",
       "\n",
       "                  FuelType       Transmission  \\\n",
       "45    Electric Fuel System          automatic   \n",
       "163               Electric  1 speed automatic   \n",
       "171               Electric  1 speed automatic   \n",
       "177               Electric  1 speed automatic   \n",
       "285               Electric  1 speed automatic   \n",
       "...                    ...                ...   \n",
       "8252              Electric  1 speed automatic   \n",
       "8279              Electric          automatic   \n",
       "8351              Electric  1 speed automatic   \n",
       "8388              Electric  1 speed automatic   \n",
       "8491              Electric  1 speed automatic   \n",
       "\n",
       "                                           Engine                VIN  \\\n",
       "45    382.0HP Electric Motor Electric Fuel System  5YJSA1E17HF196111   \n",
       "163                                      Electric  5YJYGDEE8LF049382   \n",
       "171                                      Electric  5YJYGDEE4MF086057   \n",
       "177                                      Electric  5YJYGDEEXLF020479   \n",
       "285                                      Electric  5YJYGDEFXMF076271   \n",
       "...                                           ...                ...   \n",
       "8252                                     Electric  KM8K33AG8KU051279   \n",
       "8279                                     Electric  KM8KMDAF7NU084241   \n",
       "8351                                     Electric  5YJYGDEE1LF018636   \n",
       "8388                                     Electric  5YJXCBE2XJF102386   \n",
       "8491                                     Electric  5YJ3E1EA7KF329501   \n",
       "\n",
       "         Stock#  Mileage  Speed_Type Transmission_Type Cylindder_Arrangement  \\\n",
       "45            –    84000           0              auto                  None   \n",
       "163       17666     9561           1              auto                  None   \n",
       "171    HM11774C    15002           1              auto                  None   \n",
       "177   LF020479T    12332           1              auto                  None   \n",
       "285    MF076271    12708           1              auto                  None   \n",
       "...         ...      ...         ...               ...                   ...   \n",
       "8252    BF25217    48116           1              auto                  None   \n",
       "8279       D818      121           0              auto                  None   \n",
       "8351   LF018636    33077           1              auto                  None   \n",
       "8388   CMA2543A    41321           1              auto                  None   \n",
       "8491    EV1837P     7909           1              auto                  None   \n",
       "\n",
       "      Litre  \n",
       "45     0.00  \n",
       "163    0.00  \n",
       "171    0.00  \n",
       "177    0.00  \n",
       "285    0.00  \n",
       "...     ...  \n",
       "8252   0.00  \n",
       "8279   0.00  \n",
       "8351   0.00  \n",
       "8388   0.00  \n",
       "8491   0.00  \n",
       "\n",
       "[206 rows x 36 columns]"
      ]
     },
     "execution_count": 277,
     "metadata": {},
     "output_type": "execute_result"
    }
   ],
   "source": [
    "df[df.Cylindder_Arrangement.isna()==True]"
   ]
  },
  {
   "cell_type": "markdown",
   "id": "e9451aa7",
   "metadata": {
    "papermill": {
     "duration": null,
     "end_time": null,
     "exception": null,
     "start_time": null,
     "status": "pending"
    },
    "tags": []
   },
   "source": [
    " # Create Columns"
   ]
  },
  {
   "cell_type": "code",
   "execution_count": null,
   "id": "ab6ad7ca",
   "metadata": {
    "execution": {
     "iopub.execute_input": "2024-07-05T08:35:29.073302Z",
     "iopub.status.busy": "2024-07-05T08:35:29.071897Z",
     "iopub.status.idle": "2024-07-05T08:35:29.082913Z",
     "shell.execute_reply": "2024-07-05T08:35:29.081494Z",
     "shell.execute_reply.started": "2024-07-05T08:35:29.073251Z"
    },
    "papermill": {
     "duration": null,
     "end_time": null,
     "exception": null,
     "start_time": null,
     "status": "pending"
    },
    "tags": []
   },
   "outputs": [],
   "source": [
    "df[\"Make-Model\"] = df[\"Make\"] + \" \" + df[\"Model\"]"
   ]
  },
  {
   "cell_type": "code",
   "execution_count": null,
   "id": "f0981beb",
   "metadata": {
    "execution": {
     "iopub.execute_input": "2024-07-05T08:35:29.467317Z",
     "iopub.status.busy": "2024-07-05T08:35:29.466906Z",
     "iopub.status.idle": "2024-07-05T08:35:29.479078Z",
     "shell.execute_reply": "2024-07-05T08:35:29.478030Z",
     "shell.execute_reply.started": "2024-07-05T08:35:29.467280Z"
    },
    "papermill": {
     "duration": null,
     "end_time": null,
     "exception": null,
     "start_time": null,
     "status": "pending"
    },
    "tags": []
   },
   "outputs": [],
   "source": [
    "df[\"Make-Model\"].value_counts().sort_values(ascending=False)"
   ]
  },
  {
   "cell_type": "code",
   "execution_count": null,
   "id": "e591bf14",
   "metadata": {
    "execution": {
     "iopub.execute_input": "2024-07-05T08:35:31.571554Z",
     "iopub.status.busy": "2024-07-05T08:35:31.571096Z",
     "iopub.status.idle": "2024-07-05T08:35:31.589358Z",
     "shell.execute_reply": "2024-07-05T08:35:31.587942Z",
     "shell.execute_reply.started": "2024-07-05T08:35:31.571517Z"
    },
    "papermill": {
     "duration": null,
     "end_time": null,
     "exception": null,
     "start_time": null,
     "status": "pending"
    },
    "tags": []
   },
   "outputs": [],
   "source": [
    "model_count = df.groupby(\"Make\")[\"Model\"].count().reset_index()\n",
    "model_count.columns = [\"Make\", \"Count_of_model\"]\n",
    "\n",
    "# df veri çerçevenize \"Count_of_model\" sütununu ekleyin\n",
    "df = pd.merge(df, model_count, on=\"Make\", how=\"left\")"
   ]
  },
  {
   "cell_type": "code",
   "execution_count": null,
   "id": "28115bec",
   "metadata": {
    "execution": {
     "iopub.execute_input": "2024-07-04T13:39:11.396821Z",
     "iopub.status.busy": "2024-07-04T13:39:11.396440Z",
     "iopub.status.idle": "2024-07-04T13:39:11.671288Z",
     "shell.execute_reply": "2024-07-04T13:39:11.670126Z",
     "shell.execute_reply.started": "2024-07-04T13:39:11.396792Z"
    },
    "papermill": {
     "duration": null,
     "end_time": null,
     "exception": null,
     "start_time": null,
     "status": "pending"
    },
    "tags": []
   },
   "outputs": [],
   "source": [
    "#make-mode sütunu oluşturduk ve burda value count belli sayı üstünde olanları verimize ekledik\n",
    "value_counts = df['Make-Model'].value_counts()\n",
    "\n",
    "# Eğer değer sayısı 100'den fazla ise, yeni bir sütun oluşturun\n",
    "for category, count in value_counts.items():\n",
    "    if count >= 30:  # 100 yerine 2  yazdıysen One-hot-Encoding yapmış oluyoruz.\n",
    "        df[category] = df['Make-Model'].apply(lambda x: int(category == x))\n",
    "\n",
    "# Make-Model sütununu drop edin\n"
   ]
  },
  {
   "cell_type": "code",
   "execution_count": 263,
   "id": "8b4b9bb2",
   "metadata": {
    "papermill": {
     "duration": null,
     "end_time": null,
     "exception": null,
     "start_time": null,
     "status": "pending"
    },
    "tags": []
   },
   "outputs": [],
   "source": [
    "df.drop(columns=['Make-Model'], inplace=True)\n"
   ]
  },
  {
   "cell_type": "code",
   "execution_count": null,
   "id": "8b265a48",
   "metadata": {
    "execution": {
     "iopub.execute_input": "2024-07-05T08:35:47.538776Z",
     "iopub.status.busy": "2024-07-05T08:35:47.537713Z",
     "iopub.status.idle": "2024-07-05T08:35:47.545027Z",
     "shell.execute_reply": "2024-07-05T08:35:47.543818Z",
     "shell.execute_reply.started": "2024-07-05T08:35:47.538733Z"
    },
    "papermill": {
     "duration": null,
     "end_time": null,
     "exception": null,
     "start_time": null,
     "status": "pending"
    },
    "tags": []
   },
   "outputs": [],
   "source": [
    "year_of_age = 2024 - df.Year\n",
    "df[\"year_of_age\"] = year_of_age"
   ]
  },
  {
   "cell_type": "code",
   "execution_count": null,
   "id": "b45385b4",
   "metadata": {
    "execution": {
     "iopub.execute_input": "2024-07-05T08:21:51.747245Z",
     "iopub.status.busy": "2024-07-05T08:21:51.746437Z",
     "iopub.status.idle": "2024-07-05T08:24:14.623282Z",
     "shell.execute_reply": "2024-07-05T08:24:14.621471Z",
     "shell.execute_reply.started": "2024-07-05T08:21:51.747206Z"
    },
    "papermill": {
     "duration": null,
     "end_time": null,
     "exception": null,
     "start_time": null,
     "status": "pending"
    },
    "tags": []
   },
   "outputs": [],
   "source": [
    "plt.figure(figsize=(12, 6))\n",
    "sns.pairplot(df, palette=\"Dark2\")"
   ]
  },
  {
   "cell_type": "code",
   "execution_count": 50,
   "id": "804626d9",
   "metadata": {
    "papermill": {
     "duration": null,
     "end_time": null,
     "exception": null,
     "start_time": null,
     "status": "pending"
    },
    "tags": []
   },
   "outputs": [
    {
     "data": {
      "image/png": "[encoded data removed]",
      "text/plain": [
       "<Figure size 1200x800 with 2 Axes>"
      ]
     },
     "metadata": {},
     "output_type": "display_data"
    }
   ],
   "source": [
    "numeric_df = df.select_dtypes(include=['number'])\n",
    "\n",
    "plt.figure(figsize=(12, 8))\n",
    "sns.heatmap(numeric_df.corr(), annot=True, fmt=\".2f\", cmap='coolwarm', linewidths=.5)\n",
    "plt.title('Correlation Matrix Heatmap')\n",
    "plt.show()\n"
   ]
  },
  {
   "cell_type": "markdown",
   "id": "d4b46bcd",
   "metadata": {
    "papermill": {
     "duration": null,
     "end_time": null,
     "exception": null,
     "start_time": null,
     "status": "pending"
    },
    "tags": []
   },
   "source": [
    "MinMPG: Şehir içi yakıt verimliliğini belirtir. Daha düşük değerler gösterir.\n",
    "MaxMPG: Şehir dışı yakıt verimliliğini belirtir. Daha yüksek değerler gösterir."
   ]
  },
  {
   "cell_type": "code",
   "execution_count": null,
   "id": "f4c709f2",
   "metadata": {
    "execution": {
     "iopub.execute_input": "2024-07-05T08:25:37.853995Z",
     "iopub.status.busy": "2024-07-05T08:25:37.853565Z",
     "iopub.status.idle": "2024-07-05T08:25:38.466468Z",
     "shell.execute_reply": "2024-07-05T08:25:38.465335Z",
     "shell.execute_reply.started": "2024-07-05T08:25:37.853953Z"
    },
    "papermill": {
     "duration": null,
     "end_time": null,
     "exception": null,
     "start_time": null,
     "status": "pending"
    },
    "tags": []
   },
   "outputs": [],
   "source": [
    "categorical_cols = df.select_dtypes(include=['object']).columns\n",
    "\n",
    "plt.figure(figsize=(10, 6))\n",
    "sns.countplot(data=df, x='Make')\n",
    "plt.title(f'Distribution of Brand of Car')\n",
    "plt.xticks(rotation=90)\n",
    "plt.show()\n"
   ]
  },
  {
   "cell_type": "code",
   "execution_count": null,
   "id": "7b02f3ca",
   "metadata": {
    "execution": {
     "iopub.execute_input": "2024-07-05T08:35:54.702400Z",
     "iopub.status.busy": "2024-07-05T08:35:54.701967Z",
     "iopub.status.idle": "2024-07-05T08:35:54.719612Z",
     "shell.execute_reply": "2024-07-05T08:35:54.718345Z",
     "shell.execute_reply.started": "2024-07-05T08:35:54.702348Z"
    },
    "papermill": {
     "duration": null,
     "end_time": null,
     "exception": null,
     "start_time": null,
     "status": "pending"
    },
    "tags": []
   },
   "outputs": [],
   "source": [
    "value_counts = df['Make'].value_counts()\n",
    "\n",
    "# Değer sayısı 2'den küçük olan indeksleri alalım\n",
    "to_drop = value_counts[value_counts < 2].index\n",
    "\n",
    "# to_drop listesindeki indekslere sahip satırları düşürür\n",
    "df = df[~df['Make'].isin(to_drop)]"
   ]
  },
  {
   "cell_type": "code",
   "execution_count": null,
   "id": "022137f6",
   "metadata": {
    "execution": {
     "iopub.execute_input": "2024-07-05T08:26:08.663256Z",
     "iopub.status.busy": "2024-07-05T08:26:08.662857Z",
     "iopub.status.idle": "2024-07-05T08:26:08.993567Z",
     "shell.execute_reply": "2024-07-05T08:26:08.992385Z",
     "shell.execute_reply.started": "2024-07-05T08:26:08.663224Z"
    },
    "papermill": {
     "duration": null,
     "end_time": null,
     "exception": null,
     "start_time": null,
     "status": "pending"
    },
    "tags": []
   },
   "outputs": [],
   "source": [
    "categorical_cols = df.select_dtypes(include=['object']).columns\n",
    "\n",
    "plt.figure(figsize=(10, 6))\n",
    "sns.countplot(data=df, x='Drivetrain')\n",
    "plt.title(f'Distribution of Used/New')\n",
    "plt.xticks(rotation=90)\n",
    "plt.show()\n"
   ]
  },
  {
   "cell_type": "code",
   "execution_count": null,
   "id": "befd0804",
   "metadata": {
    "execution": {
     "iopub.execute_input": "2024-07-05T08:26:41.244959Z",
     "iopub.status.busy": "2024-07-05T08:26:41.244556Z",
     "iopub.status.idle": "2024-07-05T08:26:42.197729Z",
     "shell.execute_reply": "2024-07-05T08:26:42.196527Z",
     "shell.execute_reply.started": "2024-07-05T08:26:41.244921Z"
    },
    "papermill": {
     "duration": null,
     "end_time": null,
     "exception": null,
     "start_time": null,
     "status": "pending"
    },
    "tags": []
   },
   "outputs": [],
   "source": [
    "numeric_cols = df.select_dtypes(include=['number']).columns\n",
    "\n",
    "plt.figure(figsize=(30, 25))\n",
    "sns.boxplot(data=df[numeric_cols])\n",
    "plt.xticks(rotation=90)\n",
    "plt.title('Box Plots of All Numeric Columns')\n",
    "plt.show()\n"
   ]
  },
  {
   "cell_type": "code",
   "execution_count": null,
   "id": "669cdd0e",
   "metadata": {
    "execution": {
     "iopub.execute_input": "2024-07-05T08:27:20.839488Z",
     "iopub.status.busy": "2024-07-05T08:27:20.838483Z",
     "iopub.status.idle": "2024-07-05T08:27:25.519314Z",
     "shell.execute_reply": "2024-07-05T08:27:25.518138Z",
     "shell.execute_reply.started": "2024-07-05T08:27:20.839452Z"
    },
    "papermill": {
     "duration": null,
     "end_time": null,
     "exception": null,
     "start_time": null,
     "status": "pending"
    },
    "tags": []
   },
   "outputs": [],
   "source": [
    "#outlie durumöarını gözlemlediimizde Sellerreviews'de daha açık görüyoruz\n",
    "numeric_cols = df.select_dtypes(include=['number']).columns\n",
    "\n",
    "# Her bir sayısal sütun için box plot oluşturma\n",
    "for col in numeric_cols:\n",
    "    plt.figure(figsize=(10, 6))\n",
    "    sns.boxplot(x=df[col])\n",
    "    plt.title(f'Box Plot of {col}')\n",
    "    plt.show()\n"
   ]
  },
  {
   "cell_type": "code",
   "execution_count": null,
   "id": "303864aa",
   "metadata": {
    "execution": {
     "iopub.execute_input": "2024-07-03T11:55:57.541053Z",
     "iopub.status.busy": "2024-07-03T11:55:57.540601Z",
     "iopub.status.idle": "2024-07-03T11:55:57.580757Z",
     "shell.execute_reply": "2024-07-03T11:55:57.579661Z",
     "shell.execute_reply.started": "2024-07-03T11:55:57.541010Z"
    },
    "papermill": {
     "duration": null,
     "end_time": null,
     "exception": null,
     "start_time": null,
     "status": "pending"
    },
    "tags": []
   },
   "outputs": [],
   "source": [
    "df[df[\"SellerReviews\"]>15000]  # 8 tane değer var. burda drop işlemi yapabiliriz outlier değerler için"
   ]
  },
  {
   "cell_type": "code",
   "execution_count": null,
   "id": "23b3f89f",
   "metadata": {
    "execution": {
     "iopub.execute_input": "2024-07-05T08:36:05.804649Z",
     "iopub.status.busy": "2024-07-05T08:36:05.803746Z",
     "iopub.status.idle": "2024-07-05T08:36:05.816425Z",
     "shell.execute_reply": "2024-07-05T08:36:05.815253Z",
     "shell.execute_reply.started": "2024-07-05T08:36:05.804608Z"
    },
    "papermill": {
     "duration": null,
     "end_time": null,
     "exception": null,
     "start_time": null,
     "status": "pending"
    },
    "tags": []
   },
   "outputs": [],
   "source": [
    "value_counts = df['SellerReviews'].value_counts()\n",
    "\n",
    "to_drop = value_counts[value_counts < 2].index\n",
    "\n",
    "# to_drop listesindeki indekslere sahip satırları düşürür\n",
    "df = df[~df['SellerReviews'].isin(to_drop)]"
   ]
  },
  {
   "cell_type": "code",
   "execution_count": null,
   "id": "8fa74c39",
   "metadata": {
    "execution": {
     "iopub.execute_input": "2024-07-05T08:36:07.131344Z",
     "iopub.status.busy": "2024-07-05T08:36:07.130540Z",
     "iopub.status.idle": "2024-07-05T08:36:07.141444Z",
     "shell.execute_reply": "2024-07-05T08:36:07.140349Z",
     "shell.execute_reply.started": "2024-07-05T08:36:07.131287Z"
    },
    "papermill": {
     "duration": null,
     "end_time": null,
     "exception": null,
     "start_time": null,
     "status": "pending"
    },
    "tags": []
   },
   "outputs": [],
   "source": [
    "a = df[df[\"MaxMPG\"] == 0].index\n",
    "df.drop(index=a, inplace=True)\n"
   ]
  },
  {
   "cell_type": "code",
   "execution_count": null,
   "id": "1da5affc",
   "metadata": {
    "execution": {
     "iopub.execute_input": "2024-07-05T08:36:08.590504Z",
     "iopub.status.busy": "2024-07-05T08:36:08.590048Z",
     "iopub.status.idle": "2024-07-05T08:36:08.602309Z",
     "shell.execute_reply": "2024-07-05T08:36:08.601171Z",
     "shell.execute_reply.started": "2024-07-05T08:36:08.590467Z"
    },
    "papermill": {
     "duration": null,
     "end_time": null,
     "exception": null,
     "start_time": null,
     "status": "pending"
    },
    "tags": []
   },
   "outputs": [],
   "source": [
    "#min ve maxmpg 0 olan değerleri düşürmemiz gereklidir. çünkü yanlış veri girişi yapılmış \n",
    "to_drop = df[(df[\"MinMPG\"] == 0) & (df[\"MaxMPG\"] == 0)].index\n",
    "\n",
    "df.drop(index=to_drop, inplace=True)\n"
   ]
  },
  {
   "cell_type": "code",
   "execution_count": null,
   "id": "489878da",
   "metadata": {
    "execution": {
     "iopub.execute_input": "2024-07-05T08:36:14.286069Z",
     "iopub.status.busy": "2024-07-05T08:36:14.285652Z",
     "iopub.status.idle": "2024-07-05T08:36:14.297287Z",
     "shell.execute_reply": "2024-07-05T08:36:14.295937Z",
     "shell.execute_reply.started": "2024-07-05T08:36:14.286022Z"
    },
    "papermill": {
     "duration": null,
     "end_time": null,
     "exception": null,
     "start_time": null,
     "status": "pending"
    },
    "tags": []
   },
   "outputs": [],
   "source": [
    "droppp = df[df[\"MinMPG\"]>130].index\n",
    "df.drop(index=droppp, inplace=True)\n"
   ]
  },
  {
   "cell_type": "code",
   "execution_count": null,
   "id": "2a0f41a3",
   "metadata": {
    "execution": {
     "iopub.execute_input": "2024-07-05T08:32:07.990336Z",
     "iopub.status.busy": "2024-07-05T08:32:07.989880Z",
     "iopub.status.idle": "2024-07-05T08:32:08.251290Z",
     "shell.execute_reply": "2024-07-05T08:32:08.250175Z",
     "shell.execute_reply.started": "2024-07-05T08:32:07.990276Z"
    },
    "papermill": {
     "duration": null,
     "end_time": null,
     "exception": null,
     "start_time": null,
     "status": "pending"
    },
    "tags": []
   },
   "outputs": [],
   "source": [
    "plt.figure(figsize=(16,6))\n",
    "sns.boxplot(x=\"MaxMPG\", data=df, whis=3, color=\"royalblue\")\n",
    "plt.show()"
   ]
  },
  {
   "cell_type": "code",
   "execution_count": null,
   "id": "195c2109",
   "metadata": {
    "execution": {
     "iopub.execute_input": "2024-07-05T08:32:12.046316Z",
     "iopub.status.busy": "2024-07-05T08:32:12.045863Z",
     "iopub.status.idle": "2024-07-05T08:32:12.853762Z",
     "shell.execute_reply": "2024-07-05T08:32:12.852534Z",
     "shell.execute_reply.started": "2024-07-05T08:32:12.046279Z"
    },
    "papermill": {
     "duration": null,
     "end_time": null,
     "exception": null,
     "start_time": null,
     "status": "pending"
    },
    "tags": []
   },
   "outputs": [],
   "source": [
    "plt.figure(figsize=(16,6))\n",
    "sns.boxplot(x=\"Make\", y=\"Price\", data=df, whis=3, color=\"royalblue\")\n",
    "plt.show()"
   ]
  },
  {
   "cell_type": "code",
   "execution_count": null,
   "id": "b9c2572e",
   "metadata": {
    "execution": {
     "iopub.execute_input": "2024-07-05T08:32:20.416217Z",
     "iopub.status.busy": "2024-07-05T08:32:20.415180Z",
     "iopub.status.idle": "2024-07-05T08:32:21.667570Z",
     "shell.execute_reply": "2024-07-05T08:32:21.666308Z",
     "shell.execute_reply.started": "2024-07-05T08:32:20.416173Z"
    },
    "papermill": {
     "duration": null,
     "end_time": null,
     "exception": null,
     "start_time": null,
     "status": "pending"
    },
    "tags": []
   },
   "outputs": [],
   "source": [
    "plt.figure(figsize=(12, 8))\n",
    "sns.heatmap(numeric_df.corr(), annot=True, fmt=\".2f\", cmap='coolwarm', linewidths=.5)\n",
    "plt.title('Correlation Matrix Heatmap')\n",
    "plt.show()"
   ]
  },
  {
   "cell_type": "code",
   "execution_count": null,
   "id": "1cd0b1ac",
   "metadata": {
    "execution": {
     "iopub.execute_input": "2024-07-05T08:36:19.769953Z",
     "iopub.status.busy": "2024-07-05T08:36:19.769546Z",
     "iopub.status.idle": "2024-07-05T08:36:19.779260Z",
     "shell.execute_reply": "2024-07-05T08:36:19.777879Z",
     "shell.execute_reply.started": "2024-07-05T08:36:19.769919Z"
    },
    "papermill": {
     "duration": null,
     "end_time": null,
     "exception": null,
     "start_time": null,
     "status": "pending"
    },
    "tags": []
   },
   "outputs": [],
   "source": [
    "df.drop([\"Model\", \"SellerName\", \"StreetName\", \"State\", \"ExteriorColor\", \"InteriorColor\", \"Engine\", \"VIN\", \"Stock#\"], axis=1, inplace=True)"
   ]
  },
  {
   "cell_type": "code",
   "execution_count": null,
   "id": "096b61a0",
   "metadata": {
    "execution": {
     "iopub.execute_input": "2024-07-05T08:36:20.239917Z",
     "iopub.status.busy": "2024-07-05T08:36:20.238954Z",
     "iopub.status.idle": "2024-07-05T08:36:20.281166Z",
     "shell.execute_reply": "2024-07-05T08:36:20.279974Z",
     "shell.execute_reply.started": "2024-07-05T08:36:20.239876Z"
    },
    "papermill": {
     "duration": null,
     "end_time": null,
     "exception": null,
     "start_time": null,
     "status": "pending"
    },
    "tags": []
   },
   "outputs": [],
   "source": [
    "#transmisson sütunundan aynı olan değerleri bir araya getirdik\n",
    "value_counts = df['Transmission'].value_counts()\n",
    "\n",
    "for category, count in value_counts.items():\n",
    "    if count >= 77:  # \n",
    "        df[category] = df['Transmission'].apply(lambda x: int(category == x))\n"
   ]
  },
  {
   "cell_type": "code",
   "execution_count": null,
   "id": "2173392d",
   "metadata": {
    "execution": {
     "iopub.execute_input": "2024-07-05T08:36:22.282977Z",
     "iopub.status.busy": "2024-07-05T08:36:22.282552Z",
     "iopub.status.idle": "2024-07-05T08:36:22.530629Z",
     "shell.execute_reply": "2024-07-05T08:36:22.529458Z",
     "shell.execute_reply.started": "2024-07-05T08:36:22.282943Z"
    },
    "papermill": {
     "duration": null,
     "end_time": null,
     "exception": null,
     "start_time": null,
     "status": "pending"
    },
    "tags": []
   },
   "outputs": [],
   "source": [
    "df = df.join(df[\"Drivetrain\"].str.get_dummies().add_prefix(\"dt_\"))\n",
    "df = df.join(df[\"DealType\"].str.get_dummies().add_prefix(\"deal_\"))\n",
    "df = df.join(df[\"FuelType\"].str.get_dummies().add_prefix(\"dt_\"))\n",
    "df = df.join(df[\"Make\"].str.get_dummies().add_prefix(\"mk_\")) #make'i encode yapıcaz ya da drop\n"
   ]
  },
  {
   "cell_type": "code",
   "execution_count": null,
   "id": "2f8e241d",
   "metadata": {
    "execution": {
     "iopub.execute_input": "2024-07-05T08:36:22.712499Z",
     "iopub.status.busy": "2024-07-05T08:36:22.711569Z",
     "iopub.status.idle": "2024-07-05T08:36:22.720301Z",
     "shell.execute_reply": "2024-07-05T08:36:22.719161Z",
     "shell.execute_reply.started": "2024-07-05T08:36:22.712459Z"
    },
    "papermill": {
     "duration": null,
     "end_time": null,
     "exception": null,
     "start_time": null,
     "status": "pending"
    },
    "tags": []
   },
   "outputs": [],
   "source": [
    "df.drop([\"DealType\", \"Drivetrain\", \"FuelType\",\"Zipcode\",\"Make\",\"Transmission\"], axis=1, inplace=True)"
   ]
  },
  {
   "cell_type": "code",
   "execution_count": null,
   "id": "d137f462",
   "metadata": {
    "execution": {
     "iopub.execute_input": "2024-07-05T08:36:25.870134Z",
     "iopub.status.busy": "2024-07-05T08:36:25.869738Z",
     "iopub.status.idle": "2024-07-05T08:36:25.925428Z",
     "shell.execute_reply": "2024-07-05T08:36:25.924328Z",
     "shell.execute_reply.started": "2024-07-05T08:36:25.870099Z"
    },
    "papermill": {
     "duration": null,
     "end_time": null,
     "exception": null,
     "start_time": null,
     "status": "pending"
    },
    "tags": []
   },
   "outputs": [],
   "source": [
    "\n",
    "label_encoder = LabelEncoder()\n",
    "\n",
    "columns_to_encode = ['Used/New', 'SellerType']\n",
    "\n",
    "for col in columns_to_encode:\n",
    "    df[col] = label_encoder.fit_transform(df[col])\n",
    "\n",
    "df"
   ]
  },
  {
   "cell_type": "code",
   "execution_count": null,
   "id": "c0ae73b5",
   "metadata": {
    "execution": {
     "iopub.execute_input": "2024-07-05T08:36:30.496964Z",
     "iopub.status.busy": "2024-07-05T08:36:30.496530Z",
     "iopub.status.idle": "2024-07-05T08:36:30.507253Z",
     "shell.execute_reply": "2024-07-05T08:36:30.505711Z",
     "shell.execute_reply.started": "2024-07-05T08:36:30.496927Z"
    },
    "papermill": {
     "duration": null,
     "end_time": null,
     "exception": null,
     "start_time": null,
     "status": "pending"
    },
    "tags": []
   },
   "outputs": [],
   "source": [
    "df.isnull().any().any()\n"
   ]
  },
  {
   "cell_type": "code",
   "execution_count": null,
   "id": "c9f5ce23",
   "metadata": {
    "execution": {
     "iopub.execute_input": "2024-07-05T08:36:31.638468Z",
     "iopub.status.busy": "2024-07-05T08:36:31.637603Z",
     "iopub.status.idle": "2024-07-05T08:36:31.774356Z",
     "shell.execute_reply": "2024-07-05T08:36:31.773073Z",
     "shell.execute_reply.started": "2024-07-05T08:36:31.638423Z"
    },
    "papermill": {
     "duration": null,
     "end_time": null,
     "exception": null,
     "start_time": null,
     "status": "pending"
    },
    "tags": []
   },
   "outputs": [],
   "source": [
    "corr_by_price = df.corr()[\"Price\"].sort_values()[:-1]\n",
    "corr_by_price"
   ]
  },
  {
   "cell_type": "code",
   "execution_count": null,
   "id": "a3b22a17",
   "metadata": {
    "execution": {
     "iopub.execute_input": "2024-07-04T13:31:20.389613Z",
     "iopub.status.busy": "2024-07-04T13:31:20.389248Z",
     "iopub.status.idle": "2024-07-04T13:31:21.192350Z",
     "shell.execute_reply": "2024-07-04T13:31:21.191216Z",
     "shell.execute_reply.started": "2024-07-04T13:31:20.389586Z"
    },
    "papermill": {
     "duration": null,
     "end_time": null,
     "exception": null,
     "start_time": null,
     "status": "pending"
    },
    "tags": []
   },
   "outputs": [],
   "source": [
    "plt.figure(figsize = (20,10))\n",
    "sns.barplot(x = corr_by_price.index, y = corr_by_price, palette=\"magma\")\n",
    "plt.xticks(rotation=90)\n",
    "plt.tight_layout();\n"
   ]
  },
  {
   "cell_type": "markdown",
   "id": "77369e69",
   "metadata": {
    "papermill": {
     "duration": null,
     "end_time": null,
     "exception": null,
     "start_time": null,
     "status": "pending"
    },
    "tags": []
   },
   "source": [
    "# Lazy Predict"
   ]
  },
  {
   "cell_type": "code",
   "execution_count": null,
   "id": "cbe430ef",
   "metadata": {
    "execution": {
     "iopub.execute_input": "2024-07-05T05:21:41.028978Z",
     "iopub.status.busy": "2024-07-05T05:21:41.028576Z",
     "iopub.status.idle": "2024-07-05T05:21:55.078381Z",
     "shell.execute_reply": "2024-07-05T05:21:55.076765Z",
     "shell.execute_reply.started": "2024-07-05T05:21:41.028946Z"
    },
    "papermill": {
     "duration": null,
     "end_time": null,
     "exception": null,
     "start_time": null,
     "status": "pending"
    },
    "tags": []
   },
   "outputs": [],
   "source": []
  },
  {
   "cell_type": "code",
   "execution_count": null,
   "id": "bd06c87b",
   "metadata": {
    "execution": {
     "iopub.execute_input": "2024-07-05T08:04:56.279229Z",
     "iopub.status.busy": "2024-07-05T08:04:56.278817Z",
     "iopub.status.idle": "2024-07-05T08:06:18.548694Z",
     "shell.execute_reply": "2024-07-05T08:06:18.547553Z",
     "shell.execute_reply.started": "2024-07-05T08:04:56.279194Z"
    },
    "papermill": {
     "duration": null,
     "end_time": null,
     "exception": null,
     "start_time": null,
     "status": "pending"
    },
    "tags": []
   },
   "outputs": [],
   "source": [
    "pd.set_option('display.max_columns', None)\n",
    "\n",
    "reg = LazyRegressor(verbose=0,ignore_warnings=False, custom_metric=None )\n",
    "models,predictions = reg.fit(X_train, X_test, y_train, y_test)\n",
    "\n",
    "print(models)"
   ]
  },
  {
   "cell_type": "markdown",
   "id": "68602da8",
   "metadata": {
    "papermill": {
     "duration": null,
     "end_time": null,
     "exception": null,
     "start_time": null,
     "status": "pending"
    },
    "tags": []
   },
   "source": [
    "# Train - Test"
   ]
  },
  {
   "cell_type": "markdown",
   "id": "01210da2",
   "metadata": {
    "papermill": {
     "duration": null,
     "end_time": null,
     "exception": null,
     "start_time": null,
     "status": "pending"
    },
    "tags": []
   },
   "source": [
    "### encode işelmelrini X ğzerinden alıp yapabilrisin daha düzelidir"
   ]
  },
  {
   "cell_type": "code",
   "execution_count": null,
   "id": "2f3e14ee",
   "metadata": {
    "execution": {
     "iopub.execute_input": "2024-07-05T08:52:37.632310Z",
     "iopub.status.busy": "2024-07-05T08:52:37.631794Z",
     "iopub.status.idle": "2024-07-05T08:52:37.642102Z",
     "shell.execute_reply": "2024-07-05T08:52:37.640919Z",
     "shell.execute_reply.started": "2024-07-05T08:52:37.632274Z"
    },
    "papermill": {
     "duration": null,
     "end_time": null,
     "exception": null,
     "start_time": null,
     "status": "pending"
    },
    "tags": []
   },
   "outputs": [],
   "source": [
    "X= df.drop(columns=\"Price\")\n",
    "y= df.Price"
   ]
  },
  {
   "cell_type": "code",
   "execution_count": null,
   "id": "7a0373a6",
   "metadata": {
    "execution": {
     "iopub.execute_input": "2024-07-05T08:52:38.673153Z",
     "iopub.status.busy": "2024-07-05T08:52:38.672716Z",
     "iopub.status.idle": "2024-07-05T08:52:38.684857Z",
     "shell.execute_reply": "2024-07-05T08:52:38.683724Z",
     "shell.execute_reply.started": "2024-07-05T08:52:38.673116Z"
    },
    "papermill": {
     "duration": null,
     "end_time": null,
     "exception": null,
     "start_time": null,
     "status": "pending"
    },
    "tags": []
   },
   "outputs": [],
   "source": [
    "X_train, X_test, y_train, y_test = train_test_split(X, y, test_size=0.20, random_state=42)\n"
   ]
  },
  {
   "cell_type": "code",
   "execution_count": null,
   "id": "b3fe61e4",
   "metadata": {
    "execution": {
     "iopub.execute_input": "2024-07-05T08:52:39.836906Z",
     "iopub.status.busy": "2024-07-05T08:52:39.836507Z",
     "iopub.status.idle": "2024-07-05T08:52:39.848385Z",
     "shell.execute_reply": "2024-07-05T08:52:39.847173Z",
     "shell.execute_reply.started": "2024-07-05T08:52:39.836873Z"
    },
    "papermill": {
     "duration": null,
     "end_time": null,
     "exception": null,
     "start_time": null,
     "status": "pending"
    },
    "tags": []
   },
   "outputs": [],
   "source": [
    "X_train.shape"
   ]
  },
  {
   "cell_type": "code",
   "execution_count": null,
   "id": "b125906d",
   "metadata": {
    "execution": {
     "iopub.execute_input": "2024-07-05T08:04:50.689693Z",
     "iopub.status.busy": "2024-07-05T08:04:50.688944Z",
     "iopub.status.idle": "2024-07-05T08:04:50.696399Z",
     "shell.execute_reply": "2024-07-05T08:04:50.695310Z",
     "shell.execute_reply.started": "2024-07-05T08:04:50.689655Z"
    },
    "papermill": {
     "duration": null,
     "end_time": null,
     "exception": null,
     "start_time": null,
     "status": "pending"
    },
    "tags": []
   },
   "outputs": [],
   "source": [
    "X_test.shape"
   ]
  },
  {
   "cell_type": "code",
   "execution_count": null,
   "id": "ad064a0c",
   "metadata": {
    "execution": {
     "iopub.execute_input": "2024-07-05T08:52:43.012792Z",
     "iopub.status.busy": "2024-07-05T08:52:43.012385Z",
     "iopub.status.idle": "2024-07-05T08:52:43.024548Z",
     "shell.execute_reply": "2024-07-05T08:52:43.023420Z",
     "shell.execute_reply.started": "2024-07-05T08:52:43.012759Z"
    },
    "papermill": {
     "duration": null,
     "end_time": null,
     "exception": null,
     "start_time": null,
     "status": "pending"
    },
    "tags": []
   },
   "outputs": [],
   "source": [
    "def train_val(model, X_train, y_train, X_test, y_test):\n",
    "    \n",
    "    y_pred = model.predict(X_test)\n",
    "    y_train_pred = model.predict(X_train)\n",
    "    \n",
    "    scores = {\"train\": {\"R2\" : r2_score(y_train, y_train_pred),\n",
    "    \"mae\" : mean_absolute_error(y_train, y_train_pred),\n",
    "    \"mse\" : mean_squared_error(y_train, y_train_pred),                          \n",
    "    \"rmse\" : np.sqrt(mean_squared_error(y_train, y_train_pred))},\n",
    "    \n",
    "    \"test\": {\"R2\" : r2_score(y_test, y_pred),\n",
    "    \"mae\" : mean_absolute_error(y_test, y_pred),\n",
    "    \"mse\" : mean_squared_error(y_test, y_pred),\n",
    "    \"rmse\" : np.sqrt(mean_squared_error(y_test, y_pred))}}\n",
    "    \n",
    "    return pd.DataFrame(scores)"
   ]
  },
  {
   "cell_type": "code",
   "execution_count": null,
   "id": "88495e7b",
   "metadata": {
    "execution": {
     "iopub.execute_input": "2024-07-05T08:52:46.070239Z",
     "iopub.status.busy": "2024-07-05T08:52:46.069823Z",
     "iopub.status.idle": "2024-07-05T08:52:46.075462Z",
     "shell.execute_reply": "2024-07-05T08:52:46.074240Z",
     "shell.execute_reply.started": "2024-07-05T08:52:46.070203Z"
    },
    "papermill": {
     "duration": null,
     "end_time": null,
     "exception": null,
     "start_time": null,
     "status": "pending"
    },
    "tags": []
   },
   "outputs": [],
   "source": []
  },
  {
   "cell_type": "code",
   "execution_count": null,
   "id": "68dc74a5",
   "metadata": {
    "execution": {
     "iopub.execute_input": "2024-07-05T08:52:47.628542Z",
     "iopub.status.busy": "2024-07-05T08:52:47.628117Z",
     "iopub.status.idle": "2024-07-05T08:52:48.559548Z",
     "shell.execute_reply": "2024-07-05T08:52:48.558526Z",
     "shell.execute_reply.started": "2024-07-05T08:52:47.628505Z"
    },
    "papermill": {
     "duration": null,
     "end_time": null,
     "exception": null,
     "start_time": null,
     "status": "pending"
    },
    "tags": []
   },
   "outputs": [],
   "source": [
    "from sklearn.ensemble import AdaBoostRegressor\n",
    "\n",
    "from sklearn.tree import DecisionTreeRegressor\n",
    "operations = [\n",
    "    (\"Ada_model\",\n",
    "     AdaBoostRegressor(base_estimator=DecisionTreeRegressor(max_depth=3), ##sık kullanılan değer 3 müşd\n",
    "                       random_state=101))]\n",
    "\n",
    "pipe_model = Pipeline(steps=operations)\n",
    "\n",
    "pipe_model.fit(X_train, y_train)\n",
    "\n",
    "# adaboostregressor algoritması default olarak base_estimator=DecisionTreeRegressor(max_depth=3) kullanır."
   ]
  },
  {
   "cell_type": "code",
   "execution_count": null,
   "id": "64be281e",
   "metadata": {
    "execution": {
     "iopub.execute_input": "2024-07-05T08:52:49.258516Z",
     "iopub.status.busy": "2024-07-05T08:52:49.258016Z",
     "iopub.status.idle": "2024-07-05T08:52:49.366855Z",
     "shell.execute_reply": "2024-07-05T08:52:49.365632Z",
     "shell.execute_reply.started": "2024-07-05T08:52:49.258478Z"
    },
    "papermill": {
     "duration": null,
     "end_time": null,
     "exception": null,
     "start_time": null,
     "status": "pending"
    },
    "tags": []
   },
   "outputs": [],
   "source": [
    "train_val(pipe_model, X_train, y_train, X_test, y_test)\n"
   ]
  },
  {
   "cell_type": "code",
   "execution_count": null,
   "id": "aa9ec197",
   "metadata": {
    "papermill": {
     "duration": null,
     "end_time": null,
     "exception": null,
     "start_time": null,
     "status": "pending"
    },
    "tags": []
   },
   "outputs": [],
   "source": []
  },
  {
   "cell_type": "code",
   "execution_count": null,
   "id": "d56ce9d8",
   "metadata": {
    "papermill": {
     "duration": null,
     "end_time": null,
     "exception": null,
     "start_time": null,
     "status": "pending"
    },
    "tags": []
   },
   "outputs": [],
   "source": []
  },
  {
   "cell_type": "code",
   "execution_count": null,
   "id": "778409d5",
   "metadata": {
    "papermill": {
     "duration": null,
     "end_time": null,
     "exception": null,
     "start_time": null,
     "status": "pending"
    },
    "tags": []
   },
   "outputs": [],
   "source": []
  },
  {
   "cell_type": "code",
   "execution_count": null,
   "id": "4a211927",
   "metadata": {
    "papermill": {
     "duration": null,
     "end_time": null,
     "exception": null,
     "start_time": null,
     "status": "pending"
    },
    "tags": []
   },
   "outputs": [],
   "source": []
  },
  {
   "cell_type": "code",
   "execution_count": null,
   "id": "8455fb6d",
   "metadata": {
    "papermill": {
     "duration": null,
     "end_time": null,
     "exception": null,
     "start_time": null,
     "status": "pending"
    },
    "tags": []
   },
   "outputs": [],
   "source": []
  },
  {
   "cell_type": "code",
   "execution_count": null,
   "id": "e2a96dda",
   "metadata": {
    "papermill": {
     "duration": null,
     "end_time": null,
     "exception": null,
     "start_time": null,
     "status": "pending"
    },
    "tags": []
   },
   "outputs": [],
   "source": []
  },
  {
   "cell_type": "code",
   "execution_count": null,
   "id": "d8d774b6",
   "metadata": {
    "papermill": {
     "duration": null,
     "end_time": null,
     "exception": null,
     "start_time": null,
     "status": "pending"
    },
    "tags": []
   },
   "outputs": [],
   "source": []
  },
  {
   "cell_type": "code",
   "execution_count": null,
   "id": "428a0d24",
   "metadata": {
    "papermill": {
     "duration": null,
     "end_time": null,
     "exception": null,
     "start_time": null,
     "status": "pending"
    },
    "tags": []
   },
   "outputs": [],
   "source": []
  },
  {
   "cell_type": "markdown",
   "id": "0bad2797",
   "metadata": {
    "papermill": {
     "duration": null,
     "end_time": null,
     "exception": null,
     "start_time": null,
     "status": "pending"
    },
    "tags": []
   },
   "source": [
    "## Model"
   ]
  },
  {
   "cell_type": "code",
   "execution_count": null,
   "id": "7555f276",
   "metadata": {
    "execution": {
     "iopub.execute_input": "2024-07-05T08:49:40.892863Z",
     "iopub.status.busy": "2024-07-05T08:49:40.891818Z",
     "iopub.status.idle": "2024-07-05T08:49:40.904016Z",
     "shell.execute_reply": "2024-07-05T08:49:40.902885Z",
     "shell.execute_reply.started": "2024-07-05T08:49:40.892822Z"
    },
    "papermill": {
     "duration": null,
     "end_time": null,
     "exception": null,
     "start_time": null,
     "status": "pending"
    },
    "tags": []
   },
   "outputs": [],
   "source": [
    "#metriclerden gelen sonuçlarla datanın predictlere bir göz atıyoruz\n",
    "def train_val(model, X_train, y_train, X_test, y_test):\n",
    "    \n",
    "    y_pred = model.predict(X_test)\n",
    "    y_train_pred = model.predict(X_train)\n",
    "    \n",
    "    scores = {\n",
    "    \"train\": {\n",
    "    \"R2\" : r2_score(y_train, y_train_pred),\n",
    "    \"mae\" : mean_absolute_error(y_train, y_train_pred),\n",
    "    \"mse\" : mean_squared_error(y_train, y_train_pred),                          \n",
    "    \"rmse\" : np.sqrt(mean_squared_error(y_train, y_train_pred))},\n",
    "    \n",
    "    \"test\": {\n",
    "    \"R2\" : r2_score(y_test, y_pred),\n",
    "    \"mae\" : mean_absolute_error(y_test, y_pred),\n",
    "    \"mse\" : mean_squared_error(y_test, y_pred),\n",
    "    \"rmse\" : np.sqrt(mean_squared_error(y_test, y_pred))}\n",
    "               }\n",
    "    \n",
    "    return pd.DataFrame(scores)"
   ]
  },
  {
   "cell_type": "code",
   "execution_count": null,
   "id": "def01c9e",
   "metadata": {
    "execution": {
     "iopub.execute_input": "2024-07-05T08:49:42.007069Z",
     "iopub.status.busy": "2024-07-05T08:49:42.006644Z",
     "iopub.status.idle": "2024-07-05T08:49:42.201887Z",
     "shell.execute_reply": "2024-07-05T08:49:42.200168Z",
     "shell.execute_reply.started": "2024-07-05T08:49:42.007025Z"
    },
    "papermill": {
     "duration": null,
     "end_time": null,
     "exception": null,
     "start_time": null,
     "status": "pending"
    },
    "tags": []
   },
   "outputs": [],
   "source": [
    "\n",
    "\n",
    "lm = LinearRegression()\n",
    "lm.fit(X_train,y_train)\n",
    "train_val(lm, X_train, y_train, X_test, y_test)\n"
   ]
  },
  {
   "cell_type": "code",
   "execution_count": null,
   "id": "989a5b3f",
   "metadata": {
    "execution": {
     "iopub.execute_input": "2024-07-05T08:49:48.602315Z",
     "iopub.status.busy": "2024-07-05T08:49:48.601892Z",
     "iopub.status.idle": "2024-07-05T08:49:48.795156Z",
     "shell.execute_reply": "2024-07-05T08:49:48.793470Z",
     "shell.execute_reply.started": "2024-07-05T08:49:48.602264Z"
    },
    "papermill": {
     "duration": null,
     "end_time": null,
     "exception": null,
     "start_time": null,
     "status": "pending"
    },
    "tags": []
   },
   "outputs": [],
   "source": [
    "\n",
    "lm = LinearRegression()\n",
    "lm.fit(X_train,y_train)\n",
    "train_val(lm, X_train, y_train, X_test, y_test)\n"
   ]
  },
  {
   "cell_type": "code",
   "execution_count": null,
   "id": "2b54e76b",
   "metadata": {
    "execution": {
     "iopub.execute_input": "2024-07-05T05:28:21.562509Z",
     "iopub.status.busy": "2024-07-05T05:28:21.561393Z",
     "iopub.status.idle": "2024-07-05T05:28:21.568529Z",
     "shell.execute_reply": "2024-07-05T05:28:21.567077Z",
     "shell.execute_reply.started": "2024-07-05T05:28:21.562470Z"
    },
    "papermill": {
     "duration": null,
     "end_time": null,
     "exception": null,
     "start_time": null,
     "status": "pending"
    },
    "tags": []
   },
   "outputs": [],
   "source": [
    "def adj_r2(y_test, y_pred, df):\n",
    "    r2 = r2_score(y_test, y_pred)       # Modelin R2 değerini hesaplar\n",
    "    n = df.shape[0]                     # Veri setindeki gözlem (örnek) sayısını alır\n",
    "    p = df.shape[1]-1                   # Bağımsız değişkenlerin (feature ların) sayısını alır \n",
    "    adj_r2 = 1 - (1-r2)*(n-1)/(n-p-1)   # Adjusted R2 formülünü kullanarak değeri hesaplar\n",
    "    return adj_r2\n"
   ]
  },
  {
   "cell_type": "code",
   "execution_count": null,
   "id": "8b3ebaed",
   "metadata": {
    "execution": {
     "iopub.execute_input": "2024-07-05T05:28:21.824883Z",
     "iopub.status.busy": "2024-07-05T05:28:21.824473Z",
     "iopub.status.idle": "2024-07-05T05:28:21.870227Z",
     "shell.execute_reply": "2024-07-05T05:28:21.868040Z",
     "shell.execute_reply.started": "2024-07-05T05:28:21.824852Z"
    },
    "papermill": {
     "duration": null,
     "end_time": null,
     "exception": null,
     "start_time": null,
     "status": "pending"
    },
    "tags": []
   },
   "outputs": [],
   "source": [
    "y_pred = lm.predict(X_test)\n",
    "adj_r2(y_test, y_pred, df)  # R2 skorumuzla aynı çıktı demekki çok sıkıntı yok. ama bunu yapmayı bırakmamak lazım"
   ]
  },
  {
   "cell_type": "markdown",
   "id": "d3b7e8be",
   "metadata": {
    "papermill": {
     "duration": null,
     "end_time": null,
     "exception": null,
     "start_time": null,
     "status": "pending"
    },
    "tags": []
   },
   "source": [
    "# CV"
   ]
  },
  {
   "cell_type": "code",
   "execution_count": null,
   "id": "164ea6e5",
   "metadata": {
    "execution": {
     "iopub.execute_input": "2024-07-05T05:28:27.266420Z",
     "iopub.status.busy": "2024-07-05T05:28:27.265989Z",
     "iopub.status.idle": "2024-07-05T05:28:29.412286Z",
     "shell.execute_reply": "2024-07-05T05:28:29.408142Z",
     "shell.execute_reply.started": "2024-07-05T05:28:27.266361Z"
    },
    "papermill": {
     "duration": null,
     "end_time": null,
     "exception": null,
     "start_time": null,
     "status": "pending"
    },
    "tags": []
   },
   "outputs": [],
   "source": [
    "model = LinearRegression()\n",
    "scores = cross_validate(model, X_train, y_train, scoring=['r2', \n",
    "            'neg_mean_absolute_error','neg_mean_squared_error','neg_root_mean_squared_error'],#modelin performansını değerlendirmek için kullanılan metrikler\n",
    "             cv =10, return_train_score=True)"
   ]
  },
  {
   "cell_type": "code",
   "execution_count": null,
   "id": "529f88f9",
   "metadata": {
    "execution": {
     "iopub.execute_input": "2024-07-05T05:28:29.416195Z",
     "iopub.status.busy": "2024-07-05T05:28:29.415809Z",
     "iopub.status.idle": "2024-07-05T05:28:29.473650Z",
     "shell.execute_reply": "2024-07-05T05:28:29.471162Z",
     "shell.execute_reply.started": "2024-07-05T05:28:29.416163Z"
    },
    "papermill": {
     "duration": null,
     "end_time": null,
     "exception": null,
     "start_time": null,
     "status": "pending"
    },
    "tags": []
   },
   "outputs": [],
   "source": [
    "pd.DataFrame(scores)\n"
   ]
  },
  {
   "cell_type": "code",
   "execution_count": null,
   "id": "c31536bd",
   "metadata": {
    "execution": {
     "iopub.execute_input": "2024-07-05T05:28:29.480017Z",
     "iopub.status.busy": "2024-07-05T05:28:29.476046Z",
     "iopub.status.idle": "2024-07-05T05:28:29.504936Z",
     "shell.execute_reply": "2024-07-05T05:28:29.503735Z",
     "shell.execute_reply.started": "2024-07-05T05:28:29.479978Z"
    },
    "papermill": {
     "duration": null,
     "end_time": null,
     "exception": null,
     "start_time": null,
     "status": "pending"
    },
    "tags": []
   },
   "outputs": [],
   "source": [
    "pd.DataFrame(scores).iloc[:, 2:].mean()\n"
   ]
  },
  {
   "cell_type": "code",
   "execution_count": null,
   "id": "ea733689",
   "metadata": {
    "execution": {
     "iopub.execute_input": "2024-07-05T05:28:35.117385Z",
     "iopub.status.busy": "2024-07-05T05:28:35.116538Z",
     "iopub.status.idle": "2024-07-05T05:28:35.193442Z",
     "shell.execute_reply": "2024-07-05T05:28:35.190547Z",
     "shell.execute_reply.started": "2024-07-05T05:28:35.117340Z"
    },
    "papermill": {
     "duration": null,
     "end_time": null,
     "exception": null,
     "start_time": null,
     "status": "pending"
    },
    "tags": []
   },
   "outputs": [],
   "source": [
    "train_val(lm, X_train, y_train, X_test, y_test)\n"
   ]
  },
  {
   "cell_type": "code",
   "execution_count": null,
   "id": "ebba6dbf",
   "metadata": {
    "execution": {
     "iopub.execute_input": "2024-07-05T05:28:45.621961Z",
     "iopub.status.busy": "2024-07-05T05:28:45.621553Z",
     "iopub.status.idle": "2024-07-05T05:28:45.632553Z",
     "shell.execute_reply": "2024-07-05T05:28:45.631255Z",
     "shell.execute_reply.started": "2024-07-05T05:28:45.621926Z"
    },
    "papermill": {
     "duration": null,
     "end_time": null,
     "exception": null,
     "start_time": null,
     "status": "pending"
    },
    "tags": []
   },
   "outputs": [],
   "source": [
    "10.81/df.Price.mean()  "
   ]
  },
  {
   "cell_type": "code",
   "execution_count": null,
   "id": "b2328d22",
   "metadata": {
    "execution": {
     "iopub.execute_input": "2024-07-03T12:27:11.304278Z",
     "iopub.status.busy": "2024-07-03T12:27:11.303823Z",
     "iopub.status.idle": "2024-07-03T12:27:11.313246Z",
     "shell.execute_reply": "2024-07-03T12:27:11.312073Z",
     "shell.execute_reply.started": "2024-07-03T12:27:11.304231Z"
    },
    "papermill": {
     "duration": null,
     "end_time": null,
     "exception": null,
     "start_time": null,
     "status": "pending"
    },
    "tags": []
   },
   "outputs": [],
   "source": []
  },
  {
   "cell_type": "code",
   "execution_count": null,
   "id": "57706a8c",
   "metadata": {
    "execution": {
     "iopub.execute_input": "2024-07-03T12:27:13.827380Z",
     "iopub.status.busy": "2024-07-03T12:27:13.826332Z",
     "iopub.status.idle": "2024-07-03T12:27:14.322560Z",
     "shell.execute_reply": "2024-07-03T12:27:14.321332Z",
     "shell.execute_reply.started": "2024-07-03T12:27:13.827338Z"
    },
    "papermill": {
     "duration": null,
     "end_time": null,
     "exception": null,
     "start_time": null,
     "status": "pending"
    },
    "tags": []
   },
   "outputs": [],
   "source": [
    "visualizer = RadViz(size=(720, 3000))\n",
    "model = LinearRegression()\n",
    "visualizer = PredictionError(model)\n",
    "visualizer.fit(X_train, y_train)  \n",
    "visualizer.score(X_test, y_test)  \n",
    "visualizer.show();\n",
    "#Ortadaki çizgi mükemmel olandır. ama. bu iki çizgiyi birbirne yakınlaştırmaktır.\n",
    "#burdan outlier tespiti de yaparız ve görürüz hataya sebep var mı diye"
   ]
  },
  {
   "cell_type": "code",
   "execution_count": null,
   "id": "6a240732",
   "metadata": {
    "execution": {
     "iopub.execute_input": "2024-07-03T11:08:10.702453Z",
     "iopub.status.busy": "2024-07-03T11:08:10.701424Z",
     "iopub.status.idle": "2024-07-03T11:08:10.711096Z",
     "shell.execute_reply": "2024-07-03T11:08:10.709951Z",
     "shell.execute_reply.started": "2024-07-03T11:08:10.702400Z"
    },
    "papermill": {
     "duration": null,
     "end_time": null,
     "exception": null,
     "start_time": null,
     "status": "pending"
    },
    "tags": []
   },
   "outputs": [],
   "source": [
    "y_test"
   ]
  },
  {
   "cell_type": "code",
   "execution_count": null,
   "id": "4b5097c4",
   "metadata": {
    "execution": {
     "iopub.execute_input": "2024-07-03T12:27:21.190432Z",
     "iopub.status.busy": "2024-07-03T12:27:21.189529Z",
     "iopub.status.idle": "2024-07-03T12:27:21.567441Z",
     "shell.execute_reply": "2024-07-03T12:27:21.566198Z",
     "shell.execute_reply.started": "2024-07-03T12:27:21.190388Z"
    },
    "papermill": {
     "duration": null,
     "end_time": null,
     "exception": null,
     "start_time": null,
     "status": "pending"
    },
    "tags": []
   },
   "outputs": [],
   "source": [
    "plt.figure(figsize=(12,8))\n",
    "residuals = y_test-y_pred\n",
    "\n",
    "sns.scatterplot(x = y_test, y = -residuals) #-residuals\n",
    "plt.axhline(y = 0, color =\"r\", linestyle = \"--\")\n",
    "plt.ylabel(\"residuals\")\n",
    "plt.show()\n"
   ]
  },
  {
   "cell_type": "code",
   "execution_count": null,
   "id": "5156d08b",
   "metadata": {
    "execution": {
     "iopub.execute_input": "2024-07-03T12:27:24.479335Z",
     "iopub.status.busy": "2024-07-03T12:27:24.478913Z",
     "iopub.status.idle": "2024-07-03T12:27:25.597721Z",
     "shell.execute_reply": "2024-07-03T12:27:25.596577Z",
     "shell.execute_reply.started": "2024-07-03T12:27:24.479303Z"
    },
    "papermill": {
     "duration": null,
     "end_time": null,
     "exception": null,
     "start_time": null,
     "status": "pending"
    },
    "tags": []
   },
   "outputs": [],
   "source": [
    "\n",
    "visualizer = RadViz(size=(1000, 720))\n",
    "model = LinearRegression()\n",
    "visualizer = ResidualsPlot(model)\n",
    "\n",
    "visualizer.fit(X_train, y_train)  # Fit the training data to the visualizer\n",
    "visualizer.score(X_test, y_test)  # Evaluate the model on the test data\n",
    "visualizer.show(); "
   ]
  },
  {
   "cell_type": "code",
   "execution_count": null,
   "id": "75e8849c",
   "metadata": {
    "execution": {
     "iopub.execute_input": "2024-07-03T11:11:19.112127Z",
     "iopub.status.busy": "2024-07-03T11:11:19.110980Z",
     "iopub.status.idle": "2024-07-03T11:11:19.172139Z",
     "shell.execute_reply": "2024-07-03T11:11:19.170764Z",
     "shell.execute_reply.started": "2024-07-03T11:11:19.112084Z"
    },
    "papermill": {
     "duration": null,
     "end_time": null,
     "exception": null,
     "start_time": null,
     "status": "pending"
    },
    "tags": []
   },
   "outputs": [],
   "source": [
    "df[df[\"Price\"]>100.000]"
   ]
  },
  {
   "cell_type": "code",
   "execution_count": null,
   "id": "bc7020ee",
   "metadata": {
    "execution": {
     "iopub.execute_input": "2024-07-03T12:28:12.454122Z",
     "iopub.status.busy": "2024-07-03T12:28:12.453694Z",
     "iopub.status.idle": "2024-07-03T12:28:12.505043Z",
     "shell.execute_reply": "2024-07-03T12:28:12.503816Z",
     "shell.execute_reply.started": "2024-07-03T12:28:12.454090Z"
    },
    "papermill": {
     "duration": null,
     "end_time": null,
     "exception": null,
     "start_time": null,
     "status": "pending"
    },
    "tags": []
   },
   "outputs": [],
   "source": [
    "df1 = df[~(df.Price>100.000)]\n",
    "df1.head()\n",
    "\n",
    "# fiyatı 100.000'den büyük olmayan satırları (gözlemleri) filtrelemek için\n",
    "# Tilde (~) operatörü, mantıksal bir değerin tersini almak için kullanılır. "
   ]
  },
  {
   "cell_type": "code",
   "execution_count": null,
   "id": "07eaf572",
   "metadata": {
    "execution": {
     "iopub.execute_input": "2024-07-03T12:28:14.988497Z",
     "iopub.status.busy": "2024-07-03T12:28:14.988049Z",
     "iopub.status.idle": "2024-07-03T12:28:14.998148Z",
     "shell.execute_reply": "2024-07-03T12:28:14.997111Z",
     "shell.execute_reply.started": "2024-07-03T12:28:14.988462Z"
    },
    "papermill": {
     "duration": null,
     "end_time": null,
     "exception": null,
     "start_time": null,
     "status": "pending"
    },
    "tags": []
   },
   "outputs": [],
   "source": [
    "len(df[df.Price>100.000])\n"
   ]
  },
  {
   "cell_type": "code",
   "execution_count": null,
   "id": "9d1741be",
   "metadata": {
    "execution": {
     "iopub.execute_input": "2024-07-03T12:28:16.150548Z",
     "iopub.status.busy": "2024-07-03T12:28:16.149093Z",
     "iopub.status.idle": "2024-07-03T12:28:16.164660Z",
     "shell.execute_reply": "2024-07-03T12:28:16.163501Z",
     "shell.execute_reply.started": "2024-07-03T12:28:16.150507Z"
    },
    "papermill": {
     "duration": null,
     "end_time": null,
     "exception": null,
     "start_time": null,
     "status": "pending"
    },
    "tags": []
   },
   "outputs": [],
   "source": [
    "X = df1.drop(columns = \"Price\")\n",
    "y = df1.Price\n",
    "\n",
    "X_train, X_test, y_train, y_test = train_test_split(X, y, test_size=0.2, random_state=101)"
   ]
  },
  {
   "cell_type": "code",
   "execution_count": null,
   "id": "78a7f1df",
   "metadata": {
    "execution": {
     "iopub.execute_input": "2024-07-03T12:28:25.232163Z",
     "iopub.status.busy": "2024-07-03T12:28:25.231715Z",
     "iopub.status.idle": "2024-07-03T12:28:25.269137Z",
     "shell.execute_reply": "2024-07-03T12:28:25.267347Z",
     "shell.execute_reply.started": "2024-07-03T12:28:25.232125Z"
    },
    "papermill": {
     "duration": null,
     "end_time": null,
     "exception": null,
     "start_time": null,
     "status": "pending"
    },
    "tags": []
   },
   "outputs": [],
   "source": [
    "lm1 = LinearRegression()\n",
    "lm1.fit(X_train,y_train)"
   ]
  },
  {
   "cell_type": "code",
   "execution_count": null,
   "id": "45ae29d2",
   "metadata": {
    "execution": {
     "iopub.execute_input": "2024-07-03T12:28:52.179611Z",
     "iopub.status.busy": "2024-07-03T12:28:52.179161Z",
     "iopub.status.idle": "2024-07-03T12:28:52.720804Z",
     "shell.execute_reply": "2024-07-03T12:28:52.719476Z",
     "shell.execute_reply.started": "2024-07-03T12:28:52.179578Z"
    },
    "papermill": {
     "duration": null,
     "end_time": null,
     "exception": null,
     "start_time": null,
     "status": "pending"
    },
    "tags": []
   },
   "outputs": [],
   "source": [
    "visualizer = RadViz(size=(720, 3000))\n",
    "model = LinearRegression()\n",
    "visualizer = PredictionError(model)\n",
    "visualizer.fit(X_train, y_train)  # Fit the training data to the visualizer\n",
    "visualizer.score(X_test, y_test)  # Evaluate the model on the test data\n",
    "visualizer.show();"
   ]
  },
  {
   "cell_type": "code",
   "execution_count": null,
   "id": "6c3476af",
   "metadata": {
    "execution": {
     "iopub.execute_input": "2024-07-03T12:29:09.244315Z",
     "iopub.status.busy": "2024-07-03T12:29:09.243317Z",
     "iopub.status.idle": "2024-07-03T12:29:09.262970Z",
     "shell.execute_reply": "2024-07-03T12:29:09.261939Z",
     "shell.execute_reply.started": "2024-07-03T12:29:09.244276Z"
    },
    "papermill": {
     "duration": null,
     "end_time": null,
     "exception": null,
     "start_time": null,
     "status": "pending"
    },
    "tags": []
   },
   "outputs": [],
   "source": [
    "#Bu daha iyi bir sonuç verir bize\n",
    "df2 = df[~(df.Price>75.000)]\n",
    "X = df2.drop(columns = \"Price\")\n",
    "y = df2.Price\n",
    "\n",
    "X_train, X_test, y_train, y_test = train_test_split(X, y, test_size=0.2, random_state=101)"
   ]
  },
  {
   "cell_type": "code",
   "execution_count": null,
   "id": "ede34ece",
   "metadata": {
    "execution": {
     "iopub.execute_input": "2024-07-03T12:29:13.219057Z",
     "iopub.status.busy": "2024-07-03T12:29:13.218594Z",
     "iopub.status.idle": "2024-07-03T12:29:13.263892Z",
     "shell.execute_reply": "2024-07-03T12:29:13.262125Z",
     "shell.execute_reply.started": "2024-07-03T12:29:13.219020Z"
    },
    "papermill": {
     "duration": null,
     "end_time": null,
     "exception": null,
     "start_time": null,
     "status": "pending"
    },
    "tags": []
   },
   "outputs": [],
   "source": [
    "lm2 = LinearRegression()\n",
    "lm2.fit(X_train,y_train)"
   ]
  },
  {
   "cell_type": "code",
   "execution_count": null,
   "id": "4849f589",
   "metadata": {
    "execution": {
     "iopub.execute_input": "2024-07-03T12:29:15.241809Z",
     "iopub.status.busy": "2024-07-03T12:29:15.241347Z",
     "iopub.status.idle": "2024-07-03T12:29:16.298166Z",
     "shell.execute_reply": "2024-07-03T12:29:16.297013Z",
     "shell.execute_reply.started": "2024-07-03T12:29:15.241774Z"
    },
    "papermill": {
     "duration": null,
     "end_time": null,
     "exception": null,
     "start_time": null,
     "status": "pending"
    },
    "tags": []
   },
   "outputs": [],
   "source": [
    "\n",
    "\n",
    "\n",
    "visualizer = RadViz(size=(1000, 720))\n",
    "model = LinearRegression()\n",
    "visualizer = ResidualsPlot(model)\n",
    "\n",
    "visualizer.fit(X_train, y_train)  # Fit the training data to the visualizer\n",
    "visualizer.score(X_test, y_test)  # Evaluate the model on the test data\n",
    "visualizer.show(); "
   ]
  },
  {
   "cell_type": "code",
   "execution_count": null,
   "id": "0767b433",
   "metadata": {
    "execution": {
     "iopub.execute_input": "2024-07-03T12:29:31.798025Z",
     "iopub.status.busy": "2024-07-03T12:29:31.797620Z",
     "iopub.status.idle": "2024-07-03T12:29:31.833702Z",
     "shell.execute_reply": "2024-07-03T12:29:31.832050Z",
     "shell.execute_reply.started": "2024-07-03T12:29:31.797993Z"
    },
    "papermill": {
     "duration": null,
     "end_time": null,
     "exception": null,
     "start_time": null,
     "status": "pending"
    },
    "tags": []
   },
   "outputs": [],
   "source": [
    "train_val(lm2, X_train, y_train, X_test, y_test)\n"
   ]
  },
  {
   "cell_type": "code",
   "execution_count": null,
   "id": "5e518a4e",
   "metadata": {
    "execution": {
     "iopub.execute_input": "2024-07-03T12:30:04.210290Z",
     "iopub.status.busy": "2024-07-03T12:30:04.209814Z",
     "iopub.status.idle": "2024-07-03T12:30:04.218795Z",
     "shell.execute_reply": "2024-07-03T12:30:04.217514Z",
     "shell.execute_reply.started": "2024-07-03T12:30:04.210234Z"
    },
    "papermill": {
     "duration": null,
     "end_time": null,
     "exception": null,
     "start_time": null,
     "status": "pending"
    },
    "tags": []
   },
   "outputs": [],
   "source": [
    "6.361379/df2.Price.mean()  #yeniden ortalama hata oranımıza bakalım\n",
    "#%24'ten %16'ya düştü"
   ]
  },
  {
   "cell_type": "code",
   "execution_count": null,
   "id": "62d1a654",
   "metadata": {
    "execution": {
     "iopub.execute_input": "2024-07-03T12:30:11.745345Z",
     "iopub.status.busy": "2024-07-03T12:30:11.744946Z",
     "iopub.status.idle": "2024-07-03T12:30:11.760094Z",
     "shell.execute_reply": "2024-07-03T12:30:11.758509Z",
     "shell.execute_reply.started": "2024-07-03T12:30:11.745314Z"
    },
    "papermill": {
     "duration": null,
     "end_time": null,
     "exception": null,
     "start_time": null,
     "status": "pending"
    },
    "tags": []
   },
   "outputs": [],
   "source": [
    "y_pred = lm2.predict(X_test)\n",
    "\n",
    "lm_R2 = r2_score(y_test, y_pred)\n",
    "lm_mae = mean_absolute_error(y_test, y_pred)\n",
    "lm_rmse = np.sqrt(mean_squared_error(y_test, y_pred))"
   ]
  },
  {
   "cell_type": "code",
   "execution_count": null,
   "id": "bbc9f25e",
   "metadata": {
    "execution": {
     "iopub.execute_input": "2024-07-03T12:30:13.756226Z",
     "iopub.status.busy": "2024-07-03T12:30:13.755762Z",
     "iopub.status.idle": "2024-07-03T12:30:13.763132Z",
     "shell.execute_reply": "2024-07-03T12:30:13.761909Z",
     "shell.execute_reply.started": "2024-07-03T12:30:13.756187Z"
    },
    "papermill": {
     "duration": null,
     "end_time": null,
     "exception": null,
     "start_time": null,
     "status": "pending"
    },
    "tags": []
   },
   "outputs": [],
   "source": [
    "my_dict = { 'Actual': y_test, 'Pred': y_pred, 'Residual': y_test-y_pred }\n",
    "compare = pd.DataFrame(my_dict)"
   ]
  },
  {
   "cell_type": "code",
   "execution_count": null,
   "id": "8c50fea0",
   "metadata": {
    "execution": {
     "iopub.execute_input": "2024-07-03T12:30:16.825953Z",
     "iopub.status.busy": "2024-07-03T12:30:16.824903Z",
     "iopub.status.idle": "2024-07-03T12:30:16.843615Z",
     "shell.execute_reply": "2024-07-03T12:30:16.842353Z",
     "shell.execute_reply.started": "2024-07-03T12:30:16.825909Z"
    },
    "papermill": {
     "duration": null,
     "end_time": null,
     "exception": null,
     "start_time": null,
     "status": "pending"
    },
    "tags": []
   },
   "outputs": [],
   "source": [
    "comp_sample = compare.sample(20)\n",
    "comp_sample"
   ]
  },
  {
   "cell_type": "code",
   "execution_count": null,
   "id": "29df1858",
   "metadata": {
    "execution": {
     "iopub.execute_input": "2024-07-03T12:30:19.944506Z",
     "iopub.status.busy": "2024-07-03T12:30:19.943636Z",
     "iopub.status.idle": "2024-07-03T12:30:20.495356Z",
     "shell.execute_reply": "2024-07-03T12:30:20.494223Z",
     "shell.execute_reply.started": "2024-07-03T12:30:19.944468Z"
    },
    "papermill": {
     "duration": null,
     "end_time": null,
     "exception": null,
     "start_time": null,
     "status": "pending"
    },
    "tags": []
   },
   "outputs": [],
   "source": [
    "comp_sample.plot(kind='bar',figsize=(15,9))\n",
    "plt.show()"
   ]
  },
  {
   "cell_type": "code",
   "execution_count": null,
   "id": "522cdaa5",
   "metadata": {
    "execution": {
     "iopub.execute_input": "2024-07-03T12:30:25.276332Z",
     "iopub.status.busy": "2024-07-03T12:30:25.275892Z",
     "iopub.status.idle": "2024-07-03T12:30:25.291198Z",
     "shell.execute_reply": "2024-07-03T12:30:25.289733Z",
     "shell.execute_reply.started": "2024-07-03T12:30:25.276297Z"
    },
    "papermill": {
     "duration": null,
     "end_time": null,
     "exception": null,
     "start_time": null,
     "status": "pending"
    },
    "tags": []
   },
   "outputs": [],
   "source": [
    "pd.DataFrame(lm2.coef_, index = X.columns, columns=[\"Coef\"]).sort_values(\"Coef\")\n"
   ]
  },
  {
   "cell_type": "markdown",
   "id": "49de8789",
   "metadata": {
    "papermill": {
     "duration": null,
     "end_time": null,
     "exception": null,
     "start_time": null,
     "status": "pending"
    },
    "tags": []
   },
   "source": [
    "# Pipeline"
   ]
  },
  {
   "cell_type": "markdown",
   "id": "64a4e670",
   "metadata": {
    "papermill": {
     "duration": null,
     "end_time": null,
     "exception": null,
     "start_time": null,
     "status": "pending"
    },
    "tags": []
   },
   "source": [
    "daha temiz bir kod yapısı için ve hata yapma riskini en aza indirmek için kullanılır"
   ]
  },
  {
   "cell_type": "code",
   "execution_count": null,
   "id": "4274f074",
   "metadata": {
    "execution": {
     "iopub.execute_input": "2024-07-03T12:30:35.358269Z",
     "iopub.status.busy": "2024-07-03T12:30:35.357816Z",
     "iopub.status.idle": "2024-07-03T12:30:35.364528Z",
     "shell.execute_reply": "2024-07-03T12:30:35.363005Z",
     "shell.execute_reply.started": "2024-07-03T12:30:35.358213Z"
    },
    "papermill": {
     "duration": null,
     "end_time": null,
     "exception": null,
     "start_time": null,
     "status": "pending"
    },
    "tags": []
   },
   "outputs": [],
   "source": [
    "operations = [(\"scaler\", MinMaxScaler()), (\"linear\", LinearRegression())]  #seçilen ölçeklendirme verinin yapısına göre değişiklik göstermektedir \n"
   ]
  },
  {
   "cell_type": "code",
   "execution_count": null,
   "id": "98c1dd74",
   "metadata": {
    "execution": {
     "iopub.execute_input": "2024-07-03T12:30:48.569718Z",
     "iopub.status.busy": "2024-07-03T12:30:48.568804Z",
     "iopub.status.idle": "2024-07-03T12:30:48.575065Z",
     "shell.execute_reply": "2024-07-03T12:30:48.573767Z",
     "shell.execute_reply.started": "2024-07-03T12:30:48.569679Z"
    },
    "papermill": {
     "duration": null,
     "end_time": null,
     "exception": null,
     "start_time": null,
     "status": "pending"
    },
    "tags": []
   },
   "outputs": [],
   "source": [
    "pipe_model = Pipeline(steps=operations)\n"
   ]
  },
  {
   "cell_type": "code",
   "execution_count": null,
   "id": "e516ec9e",
   "metadata": {
    "execution": {
     "iopub.execute_input": "2024-07-03T12:30:49.098717Z",
     "iopub.status.busy": "2024-07-03T12:30:49.098124Z",
     "iopub.status.idle": "2024-07-03T12:30:49.145398Z",
     "shell.execute_reply": "2024-07-03T12:30:49.144230Z",
     "shell.execute_reply.started": "2024-07-03T12:30:49.098586Z"
    },
    "papermill": {
     "duration": null,
     "end_time": null,
     "exception": null,
     "start_time": null,
     "status": "pending"
    },
    "tags": []
   },
   "outputs": [],
   "source": [
    "pipe_model.fit(X_train, y_train)\n",
    " \n",
    "# fit metodunu kullanarak, veri dönüştürme adımlarını ve modeli eğitiyoruz. \n",
    "# Bu, önce verimizi MinMaxScaler ile ölçeklendirir ve ardından ölçeklendirilmiş veri üzerinde LinearRegression modelini eğitir.\n",
    "# bu sayede hiçbir adımı gözden kaçırmayız"
   ]
  },
  {
   "cell_type": "code",
   "execution_count": null,
   "id": "1930a031",
   "metadata": {
    "execution": {
     "iopub.execute_input": "2024-07-03T12:30:50.109896Z",
     "iopub.status.busy": "2024-07-03T12:30:50.109463Z",
     "iopub.status.idle": "2024-07-03T12:30:50.152784Z",
     "shell.execute_reply": "2024-07-03T12:30:50.151538Z",
     "shell.execute_reply.started": "2024-07-03T12:30:50.109858Z"
    },
    "papermill": {
     "duration": null,
     "end_time": null,
     "exception": null,
     "start_time": null,
     "status": "pending"
    },
    "tags": []
   },
   "outputs": [],
   "source": [
    "train_val(pipe_model, X_train, y_train, X_test, y_test)\n"
   ]
  },
  {
   "cell_type": "markdown",
   "id": "8bd0b007",
   "metadata": {
    "papermill": {
     "duration": null,
     "end_time": null,
     "exception": null,
     "start_time": null,
     "status": "pending"
    },
    "tags": []
   },
   "source": [
    "# Regularization"
   ]
  },
  {
   "cell_type": "markdown",
   "id": "cafb3fc1",
   "metadata": {
    "papermill": {
     "duration": null,
     "end_time": null,
     "exception": null,
     "start_time": null,
     "status": "pending"
    },
    "tags": []
   },
   "source": [
    "- overfitinge dayanıklılık sağlar(ana amaç)\n",
    "- performansı her zaman arttırmaya bilir\n",
    "- feature selection yapmamızı sağlar ve bu sayede multicolinerty azaltır (Lasso regresyonu, bazı katsayıları tamamen sıfıra indirerek etkisiz feature ları modelden çıkarabilir.)"
   ]
  },
  {
   "cell_type": "markdown",
   "id": "8825b4a8",
   "metadata": {
    "papermill": {
     "duration": null,
     "end_time": null,
     "exception": null,
     "start_time": null,
     "status": "pending"
    },
    "tags": []
   },
   "source": [
    "## Scaling"
   ]
  },
  {
   "cell_type": "code",
   "execution_count": null,
   "id": "dc8ee72f",
   "metadata": {
    "execution": {
     "iopub.execute_input": "2024-07-03T12:30:54.803383Z",
     "iopub.status.busy": "2024-07-03T12:30:54.802346Z",
     "iopub.status.idle": "2024-07-03T12:30:54.824743Z",
     "shell.execute_reply": "2024-07-03T12:30:54.823579Z",
     "shell.execute_reply.started": "2024-07-03T12:30:54.803291Z"
    },
    "papermill": {
     "duration": null,
     "end_time": null,
     "exception": null,
     "start_time": null,
     "status": "pending"
    },
    "tags": []
   },
   "outputs": [],
   "source": [
    "scaler = MinMaxScaler()\n",
    "scaler.fit(X_train)  # Data Leakage önlemek için sadece train veri setine uygulanır test'e uygulamamaya dikkat etmemiz lazım\n",
    "\n",
    "X_train_scaled = scaler.transform(X_train)\n",
    "X_test_scaled = scaler.transform(X_test)"
   ]
  },
  {
   "cell_type": "markdown",
   "id": "f9e26451",
   "metadata": {
    "papermill": {
     "duration": null,
     "end_time": null,
     "exception": null,
     "start_time": null,
     "status": "pending"
    },
    "tags": []
   },
   "source": [
    "## Model"
   ]
  },
  {
   "cell_type": "code",
   "execution_count": null,
   "id": "2509d091",
   "metadata": {
    "execution": {
     "iopub.execute_input": "2024-07-03T12:30:58.625211Z",
     "iopub.status.busy": "2024-07-03T12:30:58.624805Z",
     "iopub.status.idle": "2024-07-03T12:30:58.630453Z",
     "shell.execute_reply": "2024-07-03T12:30:58.629178Z",
     "shell.execute_reply.started": "2024-07-03T12:30:58.625178Z"
    },
    "papermill": {
     "duration": null,
     "end_time": null,
     "exception": null,
     "start_time": null,
     "status": "pending"
    },
    "tags": []
   },
   "outputs": [],
   "source": [
    "from sklearn.linear_model import Ridge\n"
   ]
  },
  {
   "cell_type": "code",
   "execution_count": null,
   "id": "69cbad49",
   "metadata": {
    "execution": {
     "iopub.execute_input": "2024-07-03T12:30:58.890773Z",
     "iopub.status.busy": "2024-07-03T12:30:58.890362Z",
     "iopub.status.idle": "2024-07-03T12:30:58.921932Z",
     "shell.execute_reply": "2024-07-03T12:30:58.920809Z",
     "shell.execute_reply.started": "2024-07-03T12:30:58.890742Z"
    },
    "papermill": {
     "duration": null,
     "end_time": null,
     "exception": null,
     "start_time": null,
     "status": "pending"
    },
    "tags": []
   },
   "outputs": [],
   "source": [
    "ridge_model = Ridge(alpha=1, random_state=42) #default alpha=1 alpha=regülarizasyon kuvveti\n",
    "ridge_model.fit(X_train_scaled, y_train)\n",
    "\n",
    "# alpha reg. hyper parametresidir. Bu deger büyüdükçe uygulanan reg. kuvveti artar. overfitingi yenmek için bu hyper parameter artırılmalıdı"
   ]
  },
  {
   "cell_type": "code",
   "execution_count": null,
   "id": "2b8779ca",
   "metadata": {
    "execution": {
     "iopub.execute_input": "2024-07-03T12:31:01.225556Z",
     "iopub.status.busy": "2024-07-03T12:31:01.224470Z",
     "iopub.status.idle": "2024-07-03T12:31:01.253989Z",
     "shell.execute_reply": "2024-07-03T12:31:01.252783Z",
     "shell.execute_reply.started": "2024-07-03T12:31:01.225503Z"
    },
    "papermill": {
     "duration": null,
     "end_time": null,
     "exception": null,
     "start_time": null,
     "status": "pending"
    },
    "tags": []
   },
   "outputs": [],
   "source": [
    "train_val(ridge_model, X_train_scaled, y_train, X_test_scaled, y_test)\n"
   ]
  },
  {
   "cell_type": "markdown",
   "id": "5d96fd69",
   "metadata": {
    "papermill": {
     "duration": null,
     "end_time": null,
     "exception": null,
     "start_time": null,
     "status": "pending"
    },
    "tags": []
   },
   "source": [
    "## best alpha"
   ]
  },
  {
   "cell_type": "markdown",
   "id": "c351dd72",
   "metadata": {
    "papermill": {
     "duration": null,
     "end_time": null,
     "exception": null,
     "start_time": null,
     "status": "pending"
    },
    "tags": []
   },
   "source": [
    "- hyperparametreler oynadığımız değerlerdir bize bağlıdır- değiştirebilriiz. "
   ]
  },
  {
   "cell_type": "code",
   "execution_count": null,
   "id": "989db884",
   "metadata": {
    "execution": {
     "iopub.execute_input": "2024-07-03T12:31:04.679681Z",
     "iopub.status.busy": "2024-07-03T12:31:04.679283Z",
     "iopub.status.idle": "2024-07-03T12:31:04.685207Z",
     "shell.execute_reply": "2024-07-03T12:31:04.683952Z",
     "shell.execute_reply.started": "2024-07-03T12:31:04.679650Z"
    },
    "papermill": {
     "duration": null,
     "end_time": null,
     "exception": null,
     "start_time": null,
     "status": "pending"
    },
    "tags": []
   },
   "outputs": [],
   "source": [
    "from sklearn.model_selection import GridSearchCV\n"
   ]
  },
  {
   "cell_type": "code",
   "execution_count": null,
   "id": "21d576ee",
   "metadata": {
    "execution": {
     "iopub.execute_input": "2024-07-03T12:32:05.429516Z",
     "iopub.status.busy": "2024-07-03T12:32:05.428275Z",
     "iopub.status.idle": "2024-07-03T12:32:05.438579Z",
     "shell.execute_reply": "2024-07-03T12:32:05.437240Z",
     "shell.execute_reply.started": "2024-07-03T12:32:05.429471Z"
    },
    "papermill": {
     "duration": null,
     "end_time": null,
     "exception": null,
     "start_time": null,
     "status": "pending"
    },
    "tags": []
   },
   "outputs": [],
   "source": [
    "alpha_space = np.linspace(0.01, 100, 100)\n",
    "alpha_space"
   ]
  },
  {
   "cell_type": "code",
   "execution_count": null,
   "id": "7c0aed9d",
   "metadata": {
    "execution": {
     "iopub.execute_input": "2024-07-03T12:32:36.078200Z",
     "iopub.status.busy": "2024-07-03T12:32:36.077751Z",
     "iopub.status.idle": "2024-07-03T12:32:38.762829Z",
     "shell.execute_reply": "2024-07-03T12:32:38.761482Z",
     "shell.execute_reply.started": "2024-07-03T12:32:36.078158Z"
    },
    "papermill": {
     "duration": null,
     "end_time": null,
     "exception": null,
     "start_time": null,
     "status": "pending"
    },
    "tags": []
   },
   "outputs": [],
   "source": [
    "!pip install sklearn"
   ]
  },
  {
   "cell_type": "code",
   "execution_count": null,
   "id": "9452495e",
   "metadata": {
    "execution": {
     "iopub.execute_input": "2024-07-03T12:32:15.731380Z",
     "iopub.status.busy": "2024-07-03T12:32:15.730910Z",
     "iopub.status.idle": "2024-07-03T12:32:17.708880Z",
     "shell.execute_reply": "2024-07-03T12:32:17.707348Z",
     "shell.execute_reply.started": "2024-07-03T12:32:15.731331Z"
    },
    "papermill": {
     "duration": null,
     "end_time": null,
     "exception": null,
     "start_time": null,
     "status": "pending"
    },
    "tags": []
   },
   "outputs": [],
   "source": [
    "ridge_model = Ridge(random_state=42) \n",
    "\n",
    "param_grid = {\"alpha\":alpha_space}\n",
    "\n",
    "ridge_grid_model = GridSearchCV(estimator=ridge_model,\n",
    "                          param_grid=param_grid,\n",
    "                          scoring='neg_root_mean_squared_error', #model için önemli olan tek bir skor yazarız. dengesiz veri setinde accuracy kullanmak yanlıştır\n",
    "                          cv=10,\n",
    "                          n_jobs = -1)  #sadece gridsearch'i çalıştır arka planda çalışanları durdur.\n",
    "ridge_grid_model.fit(X_train_scaled,y_train) \n"
   ]
  },
  {
   "cell_type": "code",
   "execution_count": null,
   "id": "edd75079",
   "metadata": {
    "execution": {
     "iopub.execute_input": "2024-07-03T11:33:55.581175Z",
     "iopub.status.busy": "2024-07-03T11:33:55.580763Z",
     "iopub.status.idle": "2024-07-03T11:33:55.589380Z",
     "shell.execute_reply": "2024-07-03T11:33:55.588313Z",
     "shell.execute_reply.started": "2024-07-03T11:33:55.581135Z"
    },
    "papermill": {
     "duration": null,
     "end_time": null,
     "exception": null,
     "start_time": null,
     "status": "pending"
    },
    "tags": []
   },
   "outputs": [],
   "source": [
    "ridge_grid_model.best_params_\n",
    "#yapılan eğitim sonucu en iyi 0.01 bulmuştur"
   ]
  },
  {
   "cell_type": "code",
   "execution_count": null,
   "id": "4c33e51f",
   "metadata": {
    "execution": {
     "iopub.execute_input": "2024-07-03T11:34:25.960893Z",
     "iopub.status.busy": "2024-07-03T11:34:25.960459Z",
     "iopub.status.idle": "2024-07-03T11:34:25.969674Z",
     "shell.execute_reply": "2024-07-03T11:34:25.968340Z",
     "shell.execute_reply.started": "2024-07-03T11:34:25.960858Z"
    },
    "papermill": {
     "duration": null,
     "end_time": null,
     "exception": null,
     "start_time": null,
     "status": "pending"
    },
    "tags": []
   },
   "outputs": [],
   "source": [
    "ridge_grid_model.best_estimator_\n"
   ]
  },
  {
   "cell_type": "code",
   "execution_count": null,
   "id": "3fdd13cb",
   "metadata": {
    "execution": {
     "iopub.execute_input": "2024-07-03T11:34:38.751762Z",
     "iopub.status.busy": "2024-07-03T11:34:38.750989Z",
     "iopub.status.idle": "2024-07-03T11:34:38.790675Z",
     "shell.execute_reply": "2024-07-03T11:34:38.789314Z",
     "shell.execute_reply.started": "2024-07-03T11:34:38.751723Z"
    },
    "papermill": {
     "duration": null,
     "end_time": null,
     "exception": null,
     "start_time": null,
     "status": "pending"
    },
    "tags": []
   },
   "outputs": [],
   "source": [
    "pd.DataFrame(ridge_grid_model.cv_results_)\n"
   ]
  },
  {
   "cell_type": "code",
   "execution_count": null,
   "id": "df1c9736",
   "metadata": {
    "execution": {
     "iopub.execute_input": "2024-07-03T11:36:00.600955Z",
     "iopub.status.busy": "2024-07-03T11:36:00.599763Z",
     "iopub.status.idle": "2024-07-03T11:36:00.608358Z",
     "shell.execute_reply": "2024-07-03T11:36:00.607191Z",
     "shell.execute_reply.started": "2024-07-03T11:36:00.600908Z"
    },
    "papermill": {
     "duration": null,
     "end_time": null,
     "exception": null,
     "start_time": null,
     "status": "pending"
    },
    "tags": []
   },
   "outputs": [],
   "source": [
    "ridge_grid_model.best_index_\n"
   ]
  },
  {
   "cell_type": "code",
   "execution_count": null,
   "id": "030d3df7",
   "metadata": {
    "execution": {
     "iopub.execute_input": "2024-07-03T11:36:07.067825Z",
     "iopub.status.busy": "2024-07-03T11:36:07.066866Z",
     "iopub.status.idle": "2024-07-03T11:36:07.100726Z",
     "shell.execute_reply": "2024-07-03T11:36:07.099539Z",
     "shell.execute_reply.started": "2024-07-03T11:36:07.067779Z"
    },
    "papermill": {
     "duration": null,
     "end_time": null,
     "exception": null,
     "start_time": null,
     "status": "pending"
    },
    "tags": []
   },
   "outputs": [],
   "source": [
    "train_val(ridge_grid_model, X_train_scaled, y_train, X_test_scaled, y_test)\n"
   ]
  },
  {
   "cell_type": "code",
   "execution_count": null,
   "id": "d403dff9",
   "metadata": {
    "execution": {
     "iopub.execute_input": "2024-07-03T11:36:17.877818Z",
     "iopub.status.busy": "2024-07-03T11:36:17.876839Z",
     "iopub.status.idle": "2024-07-03T11:36:17.892906Z",
     "shell.execute_reply": "2024-07-03T11:36:17.891154Z",
     "shell.execute_reply.started": "2024-07-03T11:36:17.877774Z"
    },
    "papermill": {
     "duration": null,
     "end_time": null,
     "exception": null,
     "start_time": null,
     "status": "pending"
    },
    "tags": []
   },
   "outputs": [],
   "source": [
    "y_pred = ridge_grid_model.predict(X_test_scaled)\n",
    "rm_R2 = r2_score(y_test, y_pred)\n",
    "rm_mae = mean_absolute_error(y_test, y_pred)\n",
    "rm_rmse = np.sqrt(mean_squared_error(y_test, y_pred))"
   ]
  },
  {
   "cell_type": "code",
   "execution_count": null,
   "id": "fcbc88d5",
   "metadata": {
    "execution": {
     "iopub.execute_input": "2024-07-03T11:36:25.953778Z",
     "iopub.status.busy": "2024-07-03T11:36:25.953336Z",
     "iopub.status.idle": "2024-07-03T11:36:25.979526Z",
     "shell.execute_reply": "2024-07-03T11:36:25.978076Z",
     "shell.execute_reply.started": "2024-07-03T11:36:25.953744Z"
    },
    "papermill": {
     "duration": null,
     "end_time": null,
     "exception": null,
     "start_time": null,
     "status": "pending"
    },
    "tags": []
   },
   "outputs": [],
   "source": [
    "ridge = Ridge(alpha=1.02, random_state=42).fit(X_train_scaled, y_train)\n",
    "\n",
    "pd.DataFrame(ridge.coef_, index = X.columns, columns=[\"Coef\"]).sort_values(\"Coef\")"
   ]
  },
  {
   "cell_type": "markdown",
   "id": "8d4ec3b8",
   "metadata": {
    "papermill": {
     "duration": null,
     "end_time": null,
     "exception": null,
     "start_time": null,
     "status": "pending"
    },
    "tags": []
   },
   "source": [
    "## "
   ]
  },
  {
   "cell_type": "code",
   "execution_count": null,
   "id": "b9fba400",
   "metadata": {
    "papermill": {
     "duration": null,
     "end_time": null,
     "exception": null,
     "start_time": null,
     "status": "pending"
    },
    "tags": []
   },
   "outputs": [],
   "source": []
  }
 ],
 "metadata": {
  "kaggle": {
   "accelerator": "none",
   "dataSources": [
    {
     "datasetId": 2354614,
     "sourceId": 3967386,
     "sourceType": "datasetVersion"
    }
   ],
   "dockerImageVersionId": 30732,
   "isGpuEnabled": false,
   "isInternetEnabled": true,
   "language": "python",
   "sourceType": "notebook"
  },
  "kernelspec": {
   "display_name": "Python 3 (ipykernel)",
   "language": "python",
   "name": "python3"
  },
  "language_info": {
   "codemirror_mode": {
    "name": "ipython",
    "version": 3
   },
   "file_extension": ".py",
   "mimetype": "text/x-python",
   "name": "python",
   "nbconvert_exporter": "python",
   "pygments_lexer": "ipython3",
   "version": "3.11.7"
  },
  "papermill": {
   "default_parameters": {},
   "duration": 6.92792,
   "end_time": "2024-07-05T11:11:10.841583",
   "environment_variables": {},
   "exception": true,
   "input_path": "__notebook__.ipynb",
   "output_path": "__notebook__.ipynb",
   "parameters": {},
   "start_time": "2024-07-05T11:11:03.913663",
   "version": "2.5.0"
  }
 },
 "nbformat": 4,
 "nbformat_minor": 5
}
